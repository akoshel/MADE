{
 "cells": [
  {
   "cell_type": "code",
   "execution_count": 1,
   "metadata": {},
   "outputs": [
    {
     "name": "stdout",
     "output_type": "stream",
     "text": [
      "time: 0 ns\n"
     ]
    }
   ],
   "source": [
    "%load_ext autotime"
   ]
  },
  {
   "cell_type": "code",
   "execution_count": 2,
   "metadata": {},
   "outputs": [
    {
     "name": "stdout",
     "output_type": "stream",
     "text": [
      "time: 11.5 s\n"
     ]
    }
   ],
   "source": [
    "import pandas as pd\n",
    "import numpy as np\n",
    "import seaborn as sns\n",
    "import matplotlib.pyplot as plt\n",
    "from lightgbm import LGBMRegressor\n",
    "from sklearn.pipeline import Pipeline, FeatureUnion\n",
    "from sklearn.preprocessing import OneHotEncoder, StandardScaler, FunctionTransformer, LabelEncoder\n",
    "from sklearn.impute import SimpleImputer\n",
    "from sklearn.model_selection import cross_val_score, StratifiedKFold, GridSearchCV\n",
    "from sklearn.linear_model import Ridge, LogisticRegression\n",
    "from sklearn.feature_extraction.text import TfidfVectorizer\n",
    "from sklearn.ensemble import RandomForestRegressor\n",
    "from xgboost import XGBRegressor\n",
    "from catboost import CatBoostRegressor, Pool\n",
    "from boruta import BorutaPy\n",
    "import category_encoders as ce\n",
    "import warnings\n",
    "import string\n",
    "warnings.filterwarnings('ignore')"
   ]
  },
  {
   "cell_type": "code",
   "execution_count": 3,
   "metadata": {},
   "outputs": [
    {
     "name": "stdout",
     "output_type": "stream",
     "text": [
      "time: 18.4 s\n"
     ]
    }
   ],
   "source": [
    "import spacy\n",
    "from nltk.stem.snowball import SnowballStemmer\n",
    "from nltk.stem import WordNetLemmatizer\n",
    "import re\n",
    "from nltk.corpus import movie_reviews, stopwords\n",
    "from nltk.tokenize import word_tokenize\n",
    "from normalise import normalise\n",
    "import warnings\n",
    "import string\n",
    "warnings.filterwarnings('ignore')"
   ]
  },
  {
   "cell_type": "code",
   "execution_count": 4,
   "metadata": {},
   "outputs": [
    {
     "name": "stdout",
     "output_type": "stream",
     "text": [
      "time: 2.5 s\n"
     ]
    }
   ],
   "source": [
    "data_train = pd.read_csv('train.csv')"
   ]
  },
  {
   "cell_type": "code",
   "execution_count": 5,
   "metadata": {},
   "outputs": [
    {
     "name": "stdout",
     "output_type": "stream",
     "text": [
      "time: 0 ns\n"
     ]
    }
   ],
   "source": [
    "#data_train.price = np.log(data_train.price)"
   ]
  },
  {
   "cell_type": "code",
   "execution_count": 6,
   "metadata": {},
   "outputs": [
    {
     "name": "stdout",
     "output_type": "stream",
     "text": [
      "time: 1.3 s\n"
     ]
    }
   ],
   "source": [
    "data_test = pd.read_csv('test.csv')"
   ]
  },
  {
   "cell_type": "code",
   "execution_count": 7,
   "metadata": {},
   "outputs": [
    {
     "data": {
      "text/plain": [
       "(id                                      0\n",
       " name                                    6\n",
       " summary                              1797\n",
       " space                               18465\n",
       " description                          1017\n",
       " experiences_offered                     0\n",
       " neighborhood_overview               21639\n",
       " notes                               32379\n",
       " transit                             22053\n",
       " access                              23429\n",
       " interaction                         24705\n",
       " house_rules                         23744\n",
       " host_id                                 0\n",
       " host_since                             11\n",
       " host_about                          23662\n",
       " host_response_time                  20686\n",
       " host_response_rate                  20689\n",
       " host_is_superhost                      11\n",
       " host_has_profile_pic                   11\n",
       " host_identity_verified                 11\n",
       " neighbourhood_cleansed                  0\n",
       " zipcode                              1473\n",
       " latitude                                0\n",
       " longitude                               0\n",
       " is_location_exact                       0\n",
       " property_type                           0\n",
       " room_type                               0\n",
       " accommodates                            0\n",
       " bathrooms                               3\n",
       " bedrooms                               19\n",
       " beds                                   72\n",
       " bed_type                                0\n",
       " amenities                               0\n",
       " square_feet                         51800\n",
       " security_deposit                    17918\n",
       " cleaning_fee                        13451\n",
       " guests_included                         0\n",
       " extra_people                            0\n",
       " minimum_nights                          0\n",
       " cancellation_policy                     0\n",
       " require_guest_profile_picture           0\n",
       " require_guest_phone_verification        0\n",
       " price                                   0\n",
       " dtype: int64,\n",
       " id                                      0\n",
       " name                                   24\n",
       " summary                              1118\n",
       " space                                5323\n",
       " description                            15\n",
       " experiences_offered                     0\n",
       " neighborhood_overview                7697\n",
       " notes                               12741\n",
       " transit                              7108\n",
       " access                               7845\n",
       " interaction                          8686\n",
       " house_rules                          6992\n",
       " host_id                                 0\n",
       " host_since                             14\n",
       " host_about                           7287\n",
       " host_response_time                  12387\n",
       " host_response_rate                  12389\n",
       " host_is_superhost                      14\n",
       " host_has_profile_pic                   14\n",
       " host_identity_verified                 14\n",
       " neighbourhood_cleansed                  0\n",
       " zipcode                               517\n",
       " latitude                                0\n",
       " longitude                               0\n",
       " is_location_exact                       0\n",
       " property_type                           0\n",
       " room_type                               0\n",
       " accommodates                            0\n",
       " bathrooms                             172\n",
       " bedrooms                               24\n",
       " beds                                   84\n",
       " bed_type                                0\n",
       " amenities                               0\n",
       " square_feet                         22540\n",
       " security_deposit                    10029\n",
       " cleaning_fee                         7654\n",
       " guests_included                         0\n",
       " extra_people                            0\n",
       " minimum_nights                          0\n",
       " cancellation_policy                     0\n",
       " require_guest_profile_picture           0\n",
       " require_guest_phone_verification        0\n",
       " dtype: int64)"
      ]
     },
     "execution_count": 7,
     "metadata": {},
     "output_type": "execute_result"
    },
    {
     "name": "stdout",
     "output_type": "stream",
     "text": [
      "time: 172 ms\n"
     ]
    }
   ],
   "source": [
    "data_train.isna().sum(), data_test.isna().sum()"
   ]
  },
  {
   "cell_type": "code",
   "execution_count": 8,
   "metadata": {},
   "outputs": [
    {
     "name": "stdout",
     "output_type": "stream",
     "text": [
      "time: 6.95 s\n"
     ]
    }
   ],
   "source": [
    "reviews = pd.read_csv('reviews.csv')"
   ]
  },
  {
   "cell_type": "code",
   "execution_count": 9,
   "metadata": {},
   "outputs": [
    {
     "name": "stdout",
     "output_type": "stream",
     "text": [
      "<class 'pandas.core.frame.DataFrame'>\n",
      "RangeIndex: 51815 entries, 0 to 51814\n",
      "Data columns (total 43 columns):\n",
      " #   Column                            Non-Null Count  Dtype  \n",
      "---  ------                            --------------  -----  \n",
      " 0   id                                51815 non-null  int64  \n",
      " 1   name                              51809 non-null  object \n",
      " 2   summary                           50018 non-null  object \n",
      " 3   space                             33350 non-null  object \n",
      " 4   description                       50798 non-null  object \n",
      " 5   experiences_offered               51815 non-null  object \n",
      " 6   neighborhood_overview             30176 non-null  object \n",
      " 7   notes                             19436 non-null  object \n",
      " 8   transit                           29762 non-null  object \n",
      " 9   access                            28386 non-null  object \n",
      " 10  interaction                       27110 non-null  object \n",
      " 11  house_rules                       28071 non-null  object \n",
      " 12  host_id                           51815 non-null  int64  \n",
      " 13  host_since                        51804 non-null  object \n",
      " 14  host_about                        28153 non-null  object \n",
      " 15  host_response_time                31129 non-null  object \n",
      " 16  host_response_rate                31126 non-null  object \n",
      " 17  host_is_superhost                 51804 non-null  object \n",
      " 18  host_has_profile_pic              51804 non-null  object \n",
      " 19  host_identity_verified            51804 non-null  object \n",
      " 20  neighbourhood_cleansed            51815 non-null  object \n",
      " 21  zipcode                           50342 non-null  object \n",
      " 22  latitude                          51815 non-null  float64\n",
      " 23  longitude                         51815 non-null  float64\n",
      " 24  is_location_exact                 51815 non-null  object \n",
      " 25  property_type                     51815 non-null  object \n",
      " 26  room_type                         51815 non-null  object \n",
      " 27  accommodates                      51815 non-null  int64  \n",
      " 28  bathrooms                         51812 non-null  float64\n",
      " 29  bedrooms                          51796 non-null  float64\n",
      " 30  beds                              51743 non-null  float64\n",
      " 31  bed_type                          51815 non-null  object \n",
      " 32  amenities                         51815 non-null  object \n",
      " 33  square_feet                       15 non-null     float64\n",
      " 34  security_deposit                  33897 non-null  float64\n",
      " 35  cleaning_fee                      38364 non-null  float64\n",
      " 36  guests_included                   51815 non-null  int64  \n",
      " 37  extra_people                      51815 non-null  float64\n",
      " 38  minimum_nights                    51815 non-null  int64  \n",
      " 39  cancellation_policy               51815 non-null  object \n",
      " 40  require_guest_profile_picture     51815 non-null  object \n",
      " 41  require_guest_phone_verification  51815 non-null  object \n",
      " 42  price                             51815 non-null  float64\n",
      "dtypes: float64(10), int64(5), object(28)\n",
      "memory usage: 17.0+ MB\n",
      "time: 110 ms\n"
     ]
    }
   ],
   "source": [
    "data_train.info()"
   ]
  },
  {
   "cell_type": "code",
   "execution_count": 10,
   "metadata": {},
   "outputs": [
    {
     "data": {
      "text/html": [
       "<div>\n",
       "<style scoped>\n",
       "    .dataframe tbody tr th:only-of-type {\n",
       "        vertical-align: middle;\n",
       "    }\n",
       "\n",
       "    .dataframe tbody tr th {\n",
       "        vertical-align: top;\n",
       "    }\n",
       "\n",
       "    .dataframe thead th {\n",
       "        text-align: right;\n",
       "    }\n",
       "</style>\n",
       "<table border=\"1\" class=\"dataframe\">\n",
       "  <thead>\n",
       "    <tr style=\"text-align: right;\">\n",
       "      <th></th>\n",
       "      <th>id</th>\n",
       "      <th>host_id</th>\n",
       "      <th>latitude</th>\n",
       "      <th>longitude</th>\n",
       "      <th>accommodates</th>\n",
       "      <th>bathrooms</th>\n",
       "      <th>bedrooms</th>\n",
       "      <th>beds</th>\n",
       "      <th>square_feet</th>\n",
       "      <th>security_deposit</th>\n",
       "      <th>cleaning_fee</th>\n",
       "      <th>guests_included</th>\n",
       "      <th>extra_people</th>\n",
       "      <th>minimum_nights</th>\n",
       "      <th>price</th>\n",
       "    </tr>\n",
       "  </thead>\n",
       "  <tbody>\n",
       "    <tr>\n",
       "      <th>count</th>\n",
       "      <td>5.181500e+04</td>\n",
       "      <td>5.181500e+04</td>\n",
       "      <td>51815.000000</td>\n",
       "      <td>51815.000000</td>\n",
       "      <td>51815.000000</td>\n",
       "      <td>51812.000000</td>\n",
       "      <td>51796.000000</td>\n",
       "      <td>51743.000000</td>\n",
       "      <td>15.000000</td>\n",
       "      <td>33897.000000</td>\n",
       "      <td>38364.000000</td>\n",
       "      <td>51815.000000</td>\n",
       "      <td>51815.000000</td>\n",
       "      <td>51815.000000</td>\n",
       "      <td>51815.000000</td>\n",
       "    </tr>\n",
       "    <tr>\n",
       "      <th>mean</th>\n",
       "      <td>2.238119e+07</td>\n",
       "      <td>8.122630e+07</td>\n",
       "      <td>51.509058</td>\n",
       "      <td>-0.127937</td>\n",
       "      <td>3.225089</td>\n",
       "      <td>1.294227</td>\n",
       "      <td>1.399027</td>\n",
       "      <td>1.773438</td>\n",
       "      <td>991.133333</td>\n",
       "      <td>192.249019</td>\n",
       "      <td>42.472891</td>\n",
       "      <td>1.561401</td>\n",
       "      <td>7.052359</td>\n",
       "      <td>3.959548</td>\n",
       "      <td>115.015787</td>\n",
       "    </tr>\n",
       "    <tr>\n",
       "      <th>std</th>\n",
       "      <td>4.648209e+06</td>\n",
       "      <td>6.712667e+07</td>\n",
       "      <td>0.045575</td>\n",
       "      <td>0.092781</td>\n",
       "      <td>2.002458</td>\n",
       "      <td>0.620269</td>\n",
       "      <td>0.907317</td>\n",
       "      <td>1.224066</td>\n",
       "      <td>933.178965</td>\n",
       "      <td>310.090851</td>\n",
       "      <td>44.525508</td>\n",
       "      <td>1.282639</td>\n",
       "      <td>13.353841</td>\n",
       "      <td>13.994390</td>\n",
       "      <td>201.599587</td>\n",
       "    </tr>\n",
       "    <tr>\n",
       "      <th>min</th>\n",
       "      <td>1.278600e+05</td>\n",
       "      <td>4.775000e+03</td>\n",
       "      <td>51.294794</td>\n",
       "      <td>-0.501305</td>\n",
       "      <td>1.000000</td>\n",
       "      <td>0.000000</td>\n",
       "      <td>0.000000</td>\n",
       "      <td>0.000000</td>\n",
       "      <td>0.000000</td>\n",
       "      <td>0.000000</td>\n",
       "      <td>0.000000</td>\n",
       "      <td>1.000000</td>\n",
       "      <td>0.000000</td>\n",
       "      <td>1.000000</td>\n",
       "      <td>0.000000</td>\n",
       "    </tr>\n",
       "    <tr>\n",
       "      <th>25%</th>\n",
       "      <td>1.874920e+07</td>\n",
       "      <td>2.049720e+07</td>\n",
       "      <td>51.486162</td>\n",
       "      <td>-0.187733</td>\n",
       "      <td>2.000000</td>\n",
       "      <td>1.000000</td>\n",
       "      <td>1.000000</td>\n",
       "      <td>1.000000</td>\n",
       "      <td>242.000000</td>\n",
       "      <td>0.000000</td>\n",
       "      <td>15.000000</td>\n",
       "      <td>1.000000</td>\n",
       "      <td>0.000000</td>\n",
       "      <td>1.000000</td>\n",
       "      <td>45.000000</td>\n",
       "    </tr>\n",
       "    <tr>\n",
       "      <th>50%</th>\n",
       "      <td>2.235012e+07</td>\n",
       "      <td>6.358767e+07</td>\n",
       "      <td>51.513346</td>\n",
       "      <td>-0.126478</td>\n",
       "      <td>2.000000</td>\n",
       "      <td>1.000000</td>\n",
       "      <td>1.000000</td>\n",
       "      <td>1.000000</td>\n",
       "      <td>753.000000</td>\n",
       "      <td>100.000000</td>\n",
       "      <td>30.000000</td>\n",
       "      <td>1.000000</td>\n",
       "      <td>0.000000</td>\n",
       "      <td>2.000000</td>\n",
       "      <td>80.000000</td>\n",
       "    </tr>\n",
       "    <tr>\n",
       "      <th>75%</th>\n",
       "      <td>2.655883e+07</td>\n",
       "      <td>1.362233e+08</td>\n",
       "      <td>51.535516</td>\n",
       "      <td>-0.070239</td>\n",
       "      <td>4.000000</td>\n",
       "      <td>1.500000</td>\n",
       "      <td>2.000000</td>\n",
       "      <td>2.000000</td>\n",
       "      <td>1600.000000</td>\n",
       "      <td>250.000000</td>\n",
       "      <td>60.000000</td>\n",
       "      <td>2.000000</td>\n",
       "      <td>10.000000</td>\n",
       "      <td>3.000000</td>\n",
       "      <td>135.000000</td>\n",
       "    </tr>\n",
       "    <tr>\n",
       "      <th>max</th>\n",
       "      <td>2.979850e+07</td>\n",
       "      <td>2.241824e+08</td>\n",
       "      <td>51.679199</td>\n",
       "      <td>0.285395</td>\n",
       "      <td>20.000000</td>\n",
       "      <td>14.000000</td>\n",
       "      <td>12.000000</td>\n",
       "      <td>16.000000</td>\n",
       "      <td>3000.000000</td>\n",
       "      <td>4098.000000</td>\n",
       "      <td>614.000000</td>\n",
       "      <td>30.000000</td>\n",
       "      <td>235.000000</td>\n",
       "      <td>1125.000000</td>\n",
       "      <td>13700.000000</td>\n",
       "    </tr>\n",
       "  </tbody>\n",
       "</table>\n",
       "</div>"
      ],
      "text/plain": [
       "                 id       host_id      latitude     longitude  accommodates  \\\n",
       "count  5.181500e+04  5.181500e+04  51815.000000  51815.000000  51815.000000   \n",
       "mean   2.238119e+07  8.122630e+07     51.509058     -0.127937      3.225089   \n",
       "std    4.648209e+06  6.712667e+07      0.045575      0.092781      2.002458   \n",
       "min    1.278600e+05  4.775000e+03     51.294794     -0.501305      1.000000   \n",
       "25%    1.874920e+07  2.049720e+07     51.486162     -0.187733      2.000000   \n",
       "50%    2.235012e+07  6.358767e+07     51.513346     -0.126478      2.000000   \n",
       "75%    2.655883e+07  1.362233e+08     51.535516     -0.070239      4.000000   \n",
       "max    2.979850e+07  2.241824e+08     51.679199      0.285395     20.000000   \n",
       "\n",
       "          bathrooms      bedrooms          beds  square_feet  \\\n",
       "count  51812.000000  51796.000000  51743.000000    15.000000   \n",
       "mean       1.294227      1.399027      1.773438   991.133333   \n",
       "std        0.620269      0.907317      1.224066   933.178965   \n",
       "min        0.000000      0.000000      0.000000     0.000000   \n",
       "25%        1.000000      1.000000      1.000000   242.000000   \n",
       "50%        1.000000      1.000000      1.000000   753.000000   \n",
       "75%        1.500000      2.000000      2.000000  1600.000000   \n",
       "max       14.000000     12.000000     16.000000  3000.000000   \n",
       "\n",
       "       security_deposit  cleaning_fee  guests_included  extra_people  \\\n",
       "count      33897.000000  38364.000000     51815.000000  51815.000000   \n",
       "mean         192.249019     42.472891         1.561401      7.052359   \n",
       "std          310.090851     44.525508         1.282639     13.353841   \n",
       "min            0.000000      0.000000         1.000000      0.000000   \n",
       "25%            0.000000     15.000000         1.000000      0.000000   \n",
       "50%          100.000000     30.000000         1.000000      0.000000   \n",
       "75%          250.000000     60.000000         2.000000     10.000000   \n",
       "max         4098.000000    614.000000        30.000000    235.000000   \n",
       "\n",
       "       minimum_nights         price  \n",
       "count    51815.000000  51815.000000  \n",
       "mean         3.959548    115.015787  \n",
       "std         13.994390    201.599587  \n",
       "min          1.000000      0.000000  \n",
       "25%          1.000000     45.000000  \n",
       "50%          2.000000     80.000000  \n",
       "75%          3.000000    135.000000  \n",
       "max       1125.000000  13700.000000  "
      ]
     },
     "execution_count": 10,
     "metadata": {},
     "output_type": "execute_result"
    },
    {
     "name": "stdout",
     "output_type": "stream",
     "text": [
      "time: 141 ms\n"
     ]
    }
   ],
   "source": [
    "data_train.describe()"
   ]
  },
  {
   "cell_type": "code",
   "execution_count": 11,
   "metadata": {},
   "outputs": [
    {
     "data": {
      "text/html": [
       "<div>\n",
       "<style scoped>\n",
       "    .dataframe tbody tr th:only-of-type {\n",
       "        vertical-align: middle;\n",
       "    }\n",
       "\n",
       "    .dataframe tbody tr th {\n",
       "        vertical-align: top;\n",
       "    }\n",
       "\n",
       "    .dataframe thead th {\n",
       "        text-align: right;\n",
       "    }\n",
       "</style>\n",
       "<table border=\"1\" class=\"dataframe\">\n",
       "  <thead>\n",
       "    <tr style=\"text-align: right;\">\n",
       "      <th></th>\n",
       "      <th>id</th>\n",
       "      <th>host_id</th>\n",
       "      <th>latitude</th>\n",
       "      <th>longitude</th>\n",
       "      <th>accommodates</th>\n",
       "      <th>bathrooms</th>\n",
       "      <th>bedrooms</th>\n",
       "      <th>beds</th>\n",
       "      <th>square_feet</th>\n",
       "      <th>security_deposit</th>\n",
       "      <th>cleaning_fee</th>\n",
       "      <th>guests_included</th>\n",
       "      <th>extra_people</th>\n",
       "      <th>minimum_nights</th>\n",
       "    </tr>\n",
       "  </thead>\n",
       "  <tbody>\n",
       "    <tr>\n",
       "      <th>count</th>\n",
       "      <td>2.300000e+04</td>\n",
       "      <td>2.300000e+04</td>\n",
       "      <td>23000.000000</td>\n",
       "      <td>23000.000000</td>\n",
       "      <td>23000.000000</td>\n",
       "      <td>22828.000000</td>\n",
       "      <td>22976.000000</td>\n",
       "      <td>22916.000000</td>\n",
       "      <td>460.000000</td>\n",
       "      <td>12971.000000</td>\n",
       "      <td>15346.000000</td>\n",
       "      <td>23000.000000</td>\n",
       "      <td>23000.000000</td>\n",
       "      <td>23000.000000</td>\n",
       "    </tr>\n",
       "    <tr>\n",
       "      <th>mean</th>\n",
       "      <td>7.085252e+06</td>\n",
       "      <td>2.213766e+07</td>\n",
       "      <td>51.510400</td>\n",
       "      <td>-0.128034</td>\n",
       "      <td>2.974870</td>\n",
       "      <td>1.262901</td>\n",
       "      <td>1.395630</td>\n",
       "      <td>1.704268</td>\n",
       "      <td>614.584783</td>\n",
       "      <td>238.832935</td>\n",
       "      <td>36.185977</td>\n",
       "      <td>1.487739</td>\n",
       "      <td>8.002870</td>\n",
       "      <td>4.409261</td>\n",
       "    </tr>\n",
       "    <tr>\n",
       "      <th>std</th>\n",
       "      <td>4.016220e+06</td>\n",
       "      <td>1.978853e+07</td>\n",
       "      <td>0.046855</td>\n",
       "      <td>0.088549</td>\n",
       "      <td>1.875019</td>\n",
       "      <td>0.550071</td>\n",
       "      <td>0.846107</td>\n",
       "      <td>1.242860</td>\n",
       "      <td>814.130861</td>\n",
       "      <td>306.990518</td>\n",
       "      <td>34.915599</td>\n",
       "      <td>1.154723</td>\n",
       "      <td>14.208824</td>\n",
       "      <td>14.207886</td>\n",
       "    </tr>\n",
       "    <tr>\n",
       "      <th>min</th>\n",
       "      <td>9.554000e+03</td>\n",
       "      <td>5.160000e+02</td>\n",
       "      <td>51.297329</td>\n",
       "      <td>-0.487862</td>\n",
       "      <td>1.000000</td>\n",
       "      <td>0.000000</td>\n",
       "      <td>0.000000</td>\n",
       "      <td>0.000000</td>\n",
       "      <td>0.000000</td>\n",
       "      <td>0.000000</td>\n",
       "      <td>0.000000</td>\n",
       "      <td>1.000000</td>\n",
       "      <td>0.000000</td>\n",
       "      <td>1.000000</td>\n",
       "    </tr>\n",
       "    <tr>\n",
       "      <th>25%</th>\n",
       "      <td>3.787914e+06</td>\n",
       "      <td>5.089983e+06</td>\n",
       "      <td>51.480921</td>\n",
       "      <td>-0.189259</td>\n",
       "      <td>2.000000</td>\n",
       "      <td>1.000000</td>\n",
       "      <td>1.000000</td>\n",
       "      <td>1.000000</td>\n",
       "      <td>120.000000</td>\n",
       "      <td>85.000000</td>\n",
       "      <td>15.000000</td>\n",
       "      <td>1.000000</td>\n",
       "      <td>0.000000</td>\n",
       "      <td>1.000000</td>\n",
       "    </tr>\n",
       "    <tr>\n",
       "      <th>50%</th>\n",
       "      <td>7.346500e+06</td>\n",
       "      <td>1.694597e+07</td>\n",
       "      <td>51.515394</td>\n",
       "      <td>-0.120675</td>\n",
       "      <td>2.000000</td>\n",
       "      <td>1.000000</td>\n",
       "      <td>1.000000</td>\n",
       "      <td>1.000000</td>\n",
       "      <td>491.500000</td>\n",
       "      <td>153.000000</td>\n",
       "      <td>30.000000</td>\n",
       "      <td>1.000000</td>\n",
       "      <td>0.000000</td>\n",
       "      <td>2.000000</td>\n",
       "    </tr>\n",
       "    <tr>\n",
       "      <th>75%</th>\n",
       "      <td>1.040060e+07</td>\n",
       "      <td>3.459069e+07</td>\n",
       "      <td>51.541960</td>\n",
       "      <td>-0.069771</td>\n",
       "      <td>4.000000</td>\n",
       "      <td>1.500000</td>\n",
       "      <td>2.000000</td>\n",
       "      <td>2.000000</td>\n",
       "      <td>823.500000</td>\n",
       "      <td>300.000000</td>\n",
       "      <td>50.000000</td>\n",
       "      <td>1.000000</td>\n",
       "      <td>15.000000</td>\n",
       "      <td>3.000000</td>\n",
       "    </tr>\n",
       "    <tr>\n",
       "      <th>max</th>\n",
       "      <td>1.356186e+07</td>\n",
       "      <td>2.099118e+08</td>\n",
       "      <td>51.675010</td>\n",
       "      <td>0.258924</td>\n",
       "      <td>16.000000</td>\n",
       "      <td>8.000000</td>\n",
       "      <td>10.000000</td>\n",
       "      <td>16.000000</td>\n",
       "      <td>10710.000000</td>\n",
       "      <td>4040.000000</td>\n",
       "      <td>595.000000</td>\n",
       "      <td>24.000000</td>\n",
       "      <td>231.000000</td>\n",
       "      <td>500.000000</td>\n",
       "    </tr>\n",
       "  </tbody>\n",
       "</table>\n",
       "</div>"
      ],
      "text/plain": [
       "                 id       host_id      latitude     longitude  accommodates  \\\n",
       "count  2.300000e+04  2.300000e+04  23000.000000  23000.000000  23000.000000   \n",
       "mean   7.085252e+06  2.213766e+07     51.510400     -0.128034      2.974870   \n",
       "std    4.016220e+06  1.978853e+07      0.046855      0.088549      1.875019   \n",
       "min    9.554000e+03  5.160000e+02     51.297329     -0.487862      1.000000   \n",
       "25%    3.787914e+06  5.089983e+06     51.480921     -0.189259      2.000000   \n",
       "50%    7.346500e+06  1.694597e+07     51.515394     -0.120675      2.000000   \n",
       "75%    1.040060e+07  3.459069e+07     51.541960     -0.069771      4.000000   \n",
       "max    1.356186e+07  2.099118e+08     51.675010      0.258924     16.000000   \n",
       "\n",
       "          bathrooms      bedrooms          beds   square_feet  \\\n",
       "count  22828.000000  22976.000000  22916.000000    460.000000   \n",
       "mean       1.262901      1.395630      1.704268    614.584783   \n",
       "std        0.550071      0.846107      1.242860    814.130861   \n",
       "min        0.000000      0.000000      0.000000      0.000000   \n",
       "25%        1.000000      1.000000      1.000000    120.000000   \n",
       "50%        1.000000      1.000000      1.000000    491.500000   \n",
       "75%        1.500000      2.000000      2.000000    823.500000   \n",
       "max        8.000000     10.000000     16.000000  10710.000000   \n",
       "\n",
       "       security_deposit  cleaning_fee  guests_included  extra_people  \\\n",
       "count      12971.000000  15346.000000     23000.000000  23000.000000   \n",
       "mean         238.832935     36.185977         1.487739      8.002870   \n",
       "std          306.990518     34.915599         1.154723     14.208824   \n",
       "min            0.000000      0.000000         1.000000      0.000000   \n",
       "25%           85.000000     15.000000         1.000000      0.000000   \n",
       "50%          153.000000     30.000000         1.000000      0.000000   \n",
       "75%          300.000000     50.000000         1.000000     15.000000   \n",
       "max         4040.000000    595.000000        24.000000    231.000000   \n",
       "\n",
       "       minimum_nights  \n",
       "count    23000.000000  \n",
       "mean         4.409261  \n",
       "std         14.207886  \n",
       "min          1.000000  \n",
       "25%          1.000000  \n",
       "50%          2.000000  \n",
       "75%          3.000000  \n",
       "max        500.000000  "
      ]
     },
     "execution_count": 11,
     "metadata": {},
     "output_type": "execute_result"
    },
    {
     "name": "stdout",
     "output_type": "stream",
     "text": [
      "time: 109 ms\n"
     ]
    }
   ],
   "source": [
    "data_test.describe()"
   ]
  },
  {
   "cell_type": "code",
   "execution_count": 12,
   "metadata": {},
   "outputs": [
    {
     "data": {
      "text/plain": [
       "Index(['id', 'host_id', 'latitude', 'longitude', 'accommodates', 'bathrooms',\n",
       "       'bedrooms', 'beds', 'square_feet', 'security_deposit', 'cleaning_fee',\n",
       "       'guests_included', 'extra_people', 'minimum_nights', 'price'],\n",
       "      dtype='object')"
      ]
     },
     "execution_count": 12,
     "metadata": {},
     "output_type": "execute_result"
    },
    {
     "name": "stdout",
     "output_type": "stream",
     "text": [
      "time: 16 ms\n"
     ]
    }
   ],
   "source": [
    "data_train.select_dtypes(include=['float64', 'int64']).columns"
   ]
  },
  {
   "cell_type": "code",
   "execution_count": 13,
   "metadata": {},
   "outputs": [
    {
     "name": "stdout",
     "output_type": "stream",
     "text": [
      "time: 0 ns\n"
     ]
    }
   ],
   "source": [
    "num_cols_to_drop = ['id', 'hostid'] #minimum_nights .latitude, longitude\n",
    "#num_cols_to_object = ['bedrooms', 'bathrooms', 'accommodates', 'beds']\n",
    "num_cols = ['accommodates', 'bathrooms',\n",
    "       'bedrooms', 'beds', 'square_feet', 'security_deposit', 'cleaning_fee',\n",
    "       'guests_included', 'extra_people', 'minimum_nights', 'latitude', 'longitude']"
   ]
  },
  {
   "cell_type": "code",
   "execution_count": 14,
   "metadata": {},
   "outputs": [
    {
     "data": {
      "text/plain": [
       "Apartment                        35260\n",
       "House                             9878\n",
       "Townhouse                         1880\n",
       "Serviced apartment                1855\n",
       "Condominium                        683\n",
       "Loft                               446\n",
       "Bed and breakfast                  413\n",
       "Guest suite                        230\n",
       "Guesthouse                         205\n",
       "Other                              168\n",
       "Hostel                             156\n",
       "Boutique hotel                     119\n",
       "Hotel                              117\n",
       "Bungalow                            90\n",
       "Cottage                             60\n",
       "Villa                               46\n",
       "Aparthotel                          41\n",
       "Boat                                41\n",
       "Cabin                               19\n",
       "Casa particular (Cuba)              17\n",
       "Tiny house                          17\n",
       "Camper/RV                           16\n",
       "Houseboat                           15\n",
       "Chalet                               8\n",
       "Earth house                          8\n",
       "Barn                                 6\n",
       "Hut                                  3\n",
       "Farm stay                            3\n",
       "Treehouse                            2\n",
       "Yurt                                 2\n",
       "Nature lodge                         2\n",
       "Ryokan (Japan)                       1\n",
       "Dome house                           1\n",
       "Tipi                                 1\n",
       "Tent                                 1\n",
       "Island                               1\n",
       "Lighthouse                           1\n",
       "Bus                                  1\n",
       "Resort                               1\n",
       "Shepherd's hut (U.K., France)        1\n",
       "Name: property_type, dtype: int64"
      ]
     },
     "execution_count": 14,
     "metadata": {},
     "output_type": "execute_result"
    },
    {
     "name": "stdout",
     "output_type": "stream",
     "text": [
      "time: 16 ms\n"
     ]
    }
   ],
   "source": [
    "data_train['property_type'].value_counts() "
   ]
  },
  {
   "cell_type": "code",
   "execution_count": 15,
   "metadata": {},
   "outputs": [
    {
     "data": {
      "text/plain": [
       "id                                      0\n",
       "name                                    6\n",
       "summary                              1797\n",
       "space                               18465\n",
       "description                          1017\n",
       "experiences_offered                     0\n",
       "neighborhood_overview               21639\n",
       "notes                               32379\n",
       "transit                             22053\n",
       "access                              23429\n",
       "interaction                         24705\n",
       "house_rules                         23744\n",
       "host_id                                 0\n",
       "host_since                             11\n",
       "host_about                          23662\n",
       "host_response_time                  20686\n",
       "host_response_rate                  20689\n",
       "host_is_superhost                      11\n",
       "host_has_profile_pic                   11\n",
       "host_identity_verified                 11\n",
       "neighbourhood_cleansed                  0\n",
       "zipcode                              1473\n",
       "latitude                                0\n",
       "longitude                               0\n",
       "is_location_exact                       0\n",
       "property_type                           0\n",
       "room_type                               0\n",
       "accommodates                            0\n",
       "bathrooms                               3\n",
       "bedrooms                               19\n",
       "beds                                   72\n",
       "bed_type                                0\n",
       "amenities                               0\n",
       "square_feet                         51800\n",
       "security_deposit                    17918\n",
       "cleaning_fee                        13451\n",
       "guests_included                         0\n",
       "extra_people                            0\n",
       "minimum_nights                          0\n",
       "cancellation_policy                     0\n",
       "require_guest_profile_picture           0\n",
       "require_guest_phone_verification        0\n",
       "price                                   0\n",
       "dtype: int64"
      ]
     },
     "execution_count": 15,
     "metadata": {},
     "output_type": "execute_result"
    },
    {
     "name": "stdout",
     "output_type": "stream",
     "text": [
      "time: 125 ms\n"
     ]
    }
   ],
   "source": [
    "data_train.isna().sum()"
   ]
  },
  {
   "cell_type": "code",
   "execution_count": 16,
   "metadata": {},
   "outputs": [
    {
     "data": {
      "text/html": [
       "<div>\n",
       "<style scoped>\n",
       "    .dataframe tbody tr th:only-of-type {\n",
       "        vertical-align: middle;\n",
       "    }\n",
       "\n",
       "    .dataframe tbody tr th {\n",
       "        vertical-align: top;\n",
       "    }\n",
       "\n",
       "    .dataframe thead th {\n",
       "        text-align: right;\n",
       "    }\n",
       "</style>\n",
       "<table border=\"1\" class=\"dataframe\">\n",
       "  <thead>\n",
       "    <tr style=\"text-align: right;\">\n",
       "      <th></th>\n",
       "      <th>name</th>\n",
       "      <th>summary</th>\n",
       "      <th>space</th>\n",
       "      <th>description</th>\n",
       "      <th>experiences_offered</th>\n",
       "      <th>neighborhood_overview</th>\n",
       "      <th>notes</th>\n",
       "      <th>transit</th>\n",
       "      <th>access</th>\n",
       "      <th>interaction</th>\n",
       "      <th>house_rules</th>\n",
       "      <th>host_since</th>\n",
       "      <th>host_about</th>\n",
       "      <th>host_response_time</th>\n",
       "      <th>host_response_rate</th>\n",
       "      <th>host_is_superhost</th>\n",
       "      <th>host_has_profile_pic</th>\n",
       "      <th>host_identity_verified</th>\n",
       "      <th>neighbourhood_cleansed</th>\n",
       "      <th>zipcode</th>\n",
       "      <th>is_location_exact</th>\n",
       "      <th>property_type</th>\n",
       "      <th>room_type</th>\n",
       "      <th>bed_type</th>\n",
       "      <th>amenities</th>\n",
       "      <th>cancellation_policy</th>\n",
       "      <th>require_guest_profile_picture</th>\n",
       "      <th>require_guest_phone_verification</th>\n",
       "    </tr>\n",
       "  </thead>\n",
       "  <tbody>\n",
       "    <tr>\n",
       "      <th>0</th>\n",
       "      <td>Double bedroom in cottage Twickenham (sleeps 1-2)</td>\n",
       "      <td>One gorgeous, light-filled double bedroom (sle...</td>\n",
       "      <td>A beautiful, light-filled double bedroom is ou...</td>\n",
       "      <td>One gorgeous, light-filled double bedroom (sle...</td>\n",
       "      <td>none</td>\n",
       "      <td>Very, very safe area, great transport links an...</td>\n",
       "      <td>We have a super-gorgeous cat</td>\n",
       "      <td>Twickenham Rugby Stadium is 15 mins walk Water...</td>\n",
       "      <td>You'll have full use of the cottage, two recep...</td>\n",
       "      <td>The host (Andy) is usually in residence, but m...</td>\n",
       "      <td>While the house is a great space to entertain,...</td>\n",
       "      <td>2010-07-09</td>\n",
       "      <td>My wife and I work in property development.  S...</td>\n",
       "      <td>NaN</td>\n",
       "      <td>NaN</td>\n",
       "      <td>f</td>\n",
       "      <td>t</td>\n",
       "      <td>t</td>\n",
       "      <td>Richmond upon Thames</td>\n",
       "      <td>TW2 6</td>\n",
       "      <td>t</td>\n",
       "      <td>House</td>\n",
       "      <td>Private room</td>\n",
       "      <td>Real Bed</td>\n",
       "      <td>{TV,\"Cable TV\",Internet,Wifi,Kitchen,Breakfast...</td>\n",
       "      <td>strict_14_with_grace_period</td>\n",
       "      <td>f</td>\n",
       "      <td>f</td>\n",
       "    </tr>\n",
       "    <tr>\n",
       "      <th>1</th>\n",
       "      <td>Big House for Olympics sleeps 6 to8</td>\n",
       "      <td>NaN</td>\n",
       "      <td>A beautiful, modern, art-filled and clean 4 st...</td>\n",
       "      <td>A beautiful, modern, art-filled and clean 4 st...</td>\n",
       "      <td>none</td>\n",
       "      <td>NaN</td>\n",
       "      <td>NaN</td>\n",
       "      <td>NaN</td>\n",
       "      <td>NaN</td>\n",
       "      <td>NaN</td>\n",
       "      <td>A copy of your passports or Id cards will be r...</td>\n",
       "      <td>2012-01-28</td>\n",
       "      <td>Hi there,\\r\\n\\r\\nI'm a music artist manager an...</td>\n",
       "      <td>NaN</td>\n",
       "      <td>NaN</td>\n",
       "      <td>f</td>\n",
       "      <td>t</td>\n",
       "      <td>f</td>\n",
       "      <td>Camden</td>\n",
       "      <td>NW3 6NE</td>\n",
       "      <td>t</td>\n",
       "      <td>House</td>\n",
       "      <td>Entire home/apt</td>\n",
       "      <td>Real Bed</td>\n",
       "      <td>{\"Cable TV\",Internet,Wifi,Kitchen,\"Free parkin...</td>\n",
       "      <td>strict_14_with_grace_period</td>\n",
       "      <td>f</td>\n",
       "      <td>f</td>\n",
       "    </tr>\n",
       "    <tr>\n",
       "      <th>2</th>\n",
       "      <td>The Old Coach House (Olympics)</td>\n",
       "      <td>NaN</td>\n",
       "      <td>Fabulous, recently refurbished original Victor...</td>\n",
       "      <td>Fabulous, recently refurbished original Victor...</td>\n",
       "      <td>none</td>\n",
       "      <td>NaN</td>\n",
       "      <td>NaN</td>\n",
       "      <td>NaN</td>\n",
       "      <td>NaN</td>\n",
       "      <td>NaN</td>\n",
       "      <td>NaN</td>\n",
       "      <td>2012-04-13</td>\n",
       "      <td>I am making available a fabulous, recently ref...</td>\n",
       "      <td>NaN</td>\n",
       "      <td>NaN</td>\n",
       "      <td>f</td>\n",
       "      <td>t</td>\n",
       "      <td>f</td>\n",
       "      <td>Lewisham</td>\n",
       "      <td>SE10</td>\n",
       "      <td>t</td>\n",
       "      <td>House</td>\n",
       "      <td>Entire home/apt</td>\n",
       "      <td>Real Bed</td>\n",
       "      <td>{TV,Internet,Wifi,Kitchen,\"Free parking on pre...</td>\n",
       "      <td>strict_14_with_grace_period</td>\n",
       "      <td>f</td>\n",
       "      <td>f</td>\n",
       "    </tr>\n",
       "    <tr>\n",
       "      <th>3</th>\n",
       "      <td>Brand New contemporary mews house</td>\n",
       "      <td>NaN</td>\n",
       "      <td>Stunning contemporary mews available for let o...</td>\n",
       "      <td>Stunning contemporary mews available for let o...</td>\n",
       "      <td>none</td>\n",
       "      <td>NaN</td>\n",
       "      <td>NaN</td>\n",
       "      <td>NaN</td>\n",
       "      <td>NaN</td>\n",
       "      <td>NaN</td>\n",
       "      <td>No smoking indoors,</td>\n",
       "      <td>2011-01-24</td>\n",
       "      <td>Run a design agency, and are passionate about ...</td>\n",
       "      <td>within an hour</td>\n",
       "      <td>100%</td>\n",
       "      <td>f</td>\n",
       "      <td>t</td>\n",
       "      <td>t</td>\n",
       "      <td>Kensington and Chelsea</td>\n",
       "      <td>W11 2EH</td>\n",
       "      <td>t</td>\n",
       "      <td>House</td>\n",
       "      <td>Entire home/apt</td>\n",
       "      <td>Real Bed</td>\n",
       "      <td>{TV,\"Cable TV\",Internet,Wifi,Kitchen,\"Indoor f...</td>\n",
       "      <td>strict_14_with_grace_period</td>\n",
       "      <td>f</td>\n",
       "      <td>f</td>\n",
       "    </tr>\n",
       "    <tr>\n",
       "      <th>4</th>\n",
       "      <td>LUXURY APT. NEAR BUCKINGHAM PALACE</td>\n",
       "      <td>“The area around Westminster Cathedral has lon...</td>\n",
       "      <td>This stunning, spacious, 4 bedroom, top floor ...</td>\n",
       "      <td>“The area around Westminster Cathedral has lon...</td>\n",
       "      <td>family</td>\n",
       "      <td>The proximity of all of London's main attracti...</td>\n",
       "      <td>NaN</td>\n",
       "      <td>Only 5 minutes walk to Victoria Station, the m...</td>\n",
       "      <td>NaN</td>\n",
       "      <td>I will not interfere at all during the stay of...</td>\n",
       "      <td>NaN</td>\n",
       "      <td>2012-02-29</td>\n",
       "      <td>I'm Catalan, originally from Barcelona and hav...</td>\n",
       "      <td>NaN</td>\n",
       "      <td>NaN</td>\n",
       "      <td>f</td>\n",
       "      <td>t</td>\n",
       "      <td>t</td>\n",
       "      <td>Westminster</td>\n",
       "      <td>SW1P 1QD</td>\n",
       "      <td>t</td>\n",
       "      <td>Apartment</td>\n",
       "      <td>Entire home/apt</td>\n",
       "      <td>Real Bed</td>\n",
       "      <td>{TV,\"Cable TV\",Internet,Wifi,Kitchen,Doorman,E...</td>\n",
       "      <td>strict_14_with_grace_period</td>\n",
       "      <td>f</td>\n",
       "      <td>t</td>\n",
       "    </tr>\n",
       "  </tbody>\n",
       "</table>\n",
       "</div>"
      ],
      "text/plain": [
       "                                                name  \\\n",
       "0  Double bedroom in cottage Twickenham (sleeps 1-2)   \n",
       "1                Big House for Olympics sleeps 6 to8   \n",
       "2                     The Old Coach House (Olympics)   \n",
       "3                 Brand New contemporary mews house    \n",
       "4                 LUXURY APT. NEAR BUCKINGHAM PALACE   \n",
       "\n",
       "                                             summary  \\\n",
       "0  One gorgeous, light-filled double bedroom (sle...   \n",
       "1                                                NaN   \n",
       "2                                                NaN   \n",
       "3                                                NaN   \n",
       "4  “The area around Westminster Cathedral has lon...   \n",
       "\n",
       "                                               space  \\\n",
       "0  A beautiful, light-filled double bedroom is ou...   \n",
       "1  A beautiful, modern, art-filled and clean 4 st...   \n",
       "2  Fabulous, recently refurbished original Victor...   \n",
       "3  Stunning contemporary mews available for let o...   \n",
       "4  This stunning, spacious, 4 bedroom, top floor ...   \n",
       "\n",
       "                                         description experiences_offered  \\\n",
       "0  One gorgeous, light-filled double bedroom (sle...                none   \n",
       "1  A beautiful, modern, art-filled and clean 4 st...                none   \n",
       "2  Fabulous, recently refurbished original Victor...                none   \n",
       "3  Stunning contemporary mews available for let o...                none   \n",
       "4  “The area around Westminster Cathedral has lon...              family   \n",
       "\n",
       "                               neighborhood_overview  \\\n",
       "0  Very, very safe area, great transport links an...   \n",
       "1                                                NaN   \n",
       "2                                                NaN   \n",
       "3                                                NaN   \n",
       "4  The proximity of all of London's main attracti...   \n",
       "\n",
       "                          notes  \\\n",
       "0  We have a super-gorgeous cat   \n",
       "1                           NaN   \n",
       "2                           NaN   \n",
       "3                           NaN   \n",
       "4                           NaN   \n",
       "\n",
       "                                             transit  \\\n",
       "0  Twickenham Rugby Stadium is 15 mins walk Water...   \n",
       "1                                                NaN   \n",
       "2                                                NaN   \n",
       "3                                                NaN   \n",
       "4  Only 5 minutes walk to Victoria Station, the m...   \n",
       "\n",
       "                                              access  \\\n",
       "0  You'll have full use of the cottage, two recep...   \n",
       "1                                                NaN   \n",
       "2                                                NaN   \n",
       "3                                                NaN   \n",
       "4                                                NaN   \n",
       "\n",
       "                                         interaction  \\\n",
       "0  The host (Andy) is usually in residence, but m...   \n",
       "1                                                NaN   \n",
       "2                                                NaN   \n",
       "3                                                NaN   \n",
       "4  I will not interfere at all during the stay of...   \n",
       "\n",
       "                                         house_rules  host_since  \\\n",
       "0  While the house is a great space to entertain,...  2010-07-09   \n",
       "1  A copy of your passports or Id cards will be r...  2012-01-28   \n",
       "2                                                NaN  2012-04-13   \n",
       "3                                No smoking indoors,  2011-01-24   \n",
       "4                                                NaN  2012-02-29   \n",
       "\n",
       "                                          host_about host_response_time  \\\n",
       "0  My wife and I work in property development.  S...                NaN   \n",
       "1  Hi there,\\r\\n\\r\\nI'm a music artist manager an...                NaN   \n",
       "2  I am making available a fabulous, recently ref...                NaN   \n",
       "3  Run a design agency, and are passionate about ...     within an hour   \n",
       "4  I'm Catalan, originally from Barcelona and hav...                NaN   \n",
       "\n",
       "  host_response_rate host_is_superhost host_has_profile_pic  \\\n",
       "0                NaN                 f                    t   \n",
       "1                NaN                 f                    t   \n",
       "2                NaN                 f                    t   \n",
       "3               100%                 f                    t   \n",
       "4                NaN                 f                    t   \n",
       "\n",
       "  host_identity_verified  neighbourhood_cleansed   zipcode is_location_exact  \\\n",
       "0                      t    Richmond upon Thames     TW2 6                 t   \n",
       "1                      f                  Camden   NW3 6NE                 t   \n",
       "2                      f                Lewisham      SE10                 t   \n",
       "3                      t  Kensington and Chelsea   W11 2EH                 t   \n",
       "4                      t             Westminster  SW1P 1QD                 t   \n",
       "\n",
       "  property_type        room_type  bed_type  \\\n",
       "0         House     Private room  Real Bed   \n",
       "1         House  Entire home/apt  Real Bed   \n",
       "2         House  Entire home/apt  Real Bed   \n",
       "3         House  Entire home/apt  Real Bed   \n",
       "4     Apartment  Entire home/apt  Real Bed   \n",
       "\n",
       "                                           amenities  \\\n",
       "0  {TV,\"Cable TV\",Internet,Wifi,Kitchen,Breakfast...   \n",
       "1  {\"Cable TV\",Internet,Wifi,Kitchen,\"Free parkin...   \n",
       "2  {TV,Internet,Wifi,Kitchen,\"Free parking on pre...   \n",
       "3  {TV,\"Cable TV\",Internet,Wifi,Kitchen,\"Indoor f...   \n",
       "4  {TV,\"Cable TV\",Internet,Wifi,Kitchen,Doorman,E...   \n",
       "\n",
       "           cancellation_policy require_guest_profile_picture  \\\n",
       "0  strict_14_with_grace_period                             f   \n",
       "1  strict_14_with_grace_period                             f   \n",
       "2  strict_14_with_grace_period                             f   \n",
       "3  strict_14_with_grace_period                             f   \n",
       "4  strict_14_with_grace_period                             f   \n",
       "\n",
       "  require_guest_phone_verification  \n",
       "0                                f  \n",
       "1                                f  \n",
       "2                                f  \n",
       "3                                f  \n",
       "4                                t  "
      ]
     },
     "execution_count": 16,
     "metadata": {},
     "output_type": "execute_result"
    },
    {
     "name": "stdout",
     "output_type": "stream",
     "text": [
      "time: 63 ms\n"
     ]
    }
   ],
   "source": [
    "pd.set_option(\"display.max_columns\", 50)\n",
    "data_train.select_dtypes(include=['object']).head()"
   ]
  },
  {
   "cell_type": "code",
   "execution_count": 17,
   "metadata": {},
   "outputs": [
    {
     "data": {
      "text/plain": [
       "((51815, 43), (23000, 42))"
      ]
     },
     "execution_count": 17,
     "metadata": {},
     "output_type": "execute_result"
    },
    {
     "name": "stdout",
     "output_type": "stream",
     "text": [
      "time: 0 ns\n"
     ]
    }
   ],
   "source": [
    "data_train.shape, data_test.shape"
   ]
  },
  {
   "cell_type": "code",
   "execution_count": 18,
   "metadata": {},
   "outputs": [
    {
     "data": {
      "text/plain": [
       "<matplotlib.axes._subplots.AxesSubplot at 0x200a8caa160>"
      ]
     },
     "execution_count": 18,
     "metadata": {},
     "output_type": "execute_result"
    },
    {
     "data": {
      "image/png": "[encoded data removed]",
      "text/plain": [
       "<Figure size 432x288 with 1 Axes>"
      ]
     },
     "metadata": {
      "needs_background": "light"
     },
     "output_type": "display_data"
    },
    {
     "name": "stdout",
     "output_type": "stream",
     "text": [
      "time: 641 ms\n"
     ]
    }
   ],
   "source": [
    "sns.distplot(data_train[data_train.price < data_train.price.quantile(0.99)].price)"
   ]
  },
  {
   "cell_type": "code",
   "execution_count": 19,
   "metadata": {},
   "outputs": [
    {
     "data": {
      "text/plain": [
       "f    51173\n",
       "t      642\n",
       "Name: require_guest_phone_verification, dtype: int64"
      ]
     },
     "execution_count": 19,
     "metadata": {},
     "output_type": "execute_result"
    },
    {
     "name": "stdout",
     "output_type": "stream",
     "text": [
      "time: 16 ms\n"
     ]
    }
   ],
   "source": [
    "data_train['require_guest_phone_verification'].value_counts()"
   ]
  },
  {
   "cell_type": "code",
   "execution_count": 20,
   "metadata": {},
   "outputs": [
    {
     "name": "stdout",
     "output_type": "stream",
     "text": [
      "time: 0 ns\n"
     ]
    }
   ],
   "source": [
    "category_columns = ['host_is_superhost', 'host_identity_verified', 'neighbourhood_cleansed', 'is_location_exact', 'property_type', 'cancellation_policy', 'require_guest_profile_picture']\n",
    "time_cols = ['host_since']\n",
    "text_columns = ['space', 'name','summary', 'description','neighborhood_overview', 'transit', 'access', 'interaction', 'house_rules', 'host_about', 'amenities']\n",
    "to_drop = ['square_feet', 'host_response_time', 'notes', 'space', 'experiences_offered', 'host_has_profile_pic', 'zipcode', 'require_guest_profile_picture'] #"
   ]
  },
  {
   "cell_type": "code",
   "execution_count": 21,
   "metadata": {},
   "outputs": [
    {
     "data": {
      "text/plain": [
       "square_feet                      51800\n",
       "host_response_time               20686\n",
       "notes                            32379\n",
       "space                            18465\n",
       "experiences_offered                  0\n",
       "host_has_profile_pic                11\n",
       "zipcode                           1473\n",
       "require_guest_profile_picture        0\n",
       "dtype: int64"
      ]
     },
     "execution_count": 21,
     "metadata": {},
     "output_type": "execute_result"
    },
    {
     "name": "stdout",
     "output_type": "stream",
     "text": [
      "time: 47 ms\n"
     ]
    }
   ],
   "source": [
    "data_train[to_drop].isna().sum()"
   ]
  },
  {
   "cell_type": "code",
   "execution_count": 22,
   "metadata": {},
   "outputs": [
    {
     "data": {
      "text/plain": [
       "E1         337\n",
       "E2         245\n",
       "NW1        231\n",
       "N1         227\n",
       "SE1        206\n",
       "          ... \n",
       "TW1 4HG      1\n",
       "SW7 1AA      1\n",
       "NW5 2PN      1\n",
       "N7 9RW       1\n",
       "E10 7LZ      1\n",
       "Name: zipcode, Length: 23654, dtype: int64"
      ]
     },
     "execution_count": 22,
     "metadata": {},
     "output_type": "execute_result"
    },
    {
     "name": "stdout",
     "output_type": "stream",
     "text": [
      "time: 31 ms\n"
     ]
    }
   ],
   "source": [
    "data_train['zipcode'].value_counts()"
   ]
  },
  {
   "cell_type": "code",
   "execution_count": 23,
   "metadata": {},
   "outputs": [
    {
     "data": {
      "text/plain": [
       "((51815,), (23000,))"
      ]
     },
     "execution_count": 23,
     "metadata": {},
     "output_type": "execute_result"
    },
    {
     "name": "stdout",
     "output_type": "stream",
     "text": [
      "time: 0 ns\n"
     ]
    }
   ],
   "source": [
    "data_train.host_id.shape, data_test.host_id.shape,"
   ]
  },
  {
   "cell_type": "code",
   "execution_count": 24,
   "metadata": {},
   "outputs": [
    {
     "data": {
      "text/plain": [
       "2118"
      ]
     },
     "execution_count": 24,
     "metadata": {},
     "output_type": "execute_result"
    },
    {
     "name": "stdout",
     "output_type": "stream",
     "text": [
      "time: 31 ms\n"
     ]
    }
   ],
   "source": [
    "len(set(data_train.host_id.unique()) & set(data_test.host_id.unique()))"
   ]
  },
  {
   "cell_type": "code",
   "execution_count": 25,
   "metadata": {},
   "outputs": [
    {
     "data": {
      "text/plain": [
       "{14188548,\n",
       " 2998283,\n",
       " 2572307,\n",
       " 9527315,\n",
       " 52838429,\n",
       " 19791905,\n",
       " 860194,\n",
       " 31752227,\n",
       " 66715692,\n",
       " 15990831,\n",
       " 5537842,\n",
       " 15417396,\n",
       " 32817207,\n",
       " 10190908,\n",
       " 18825280,\n",
       " 7495745,\n",
       " 69083203,\n",
       " 4456517,\n",
       " 9846855,\n",
       " 5046349,\n",
       " 2490448,\n",
       " 7938129,\n",
       " 9240658,\n",
       " 16138323,\n",
       " 67371094,\n",
       " 1998937,\n",
       " 6987866,\n",
       " 11616348,\n",
       " 737373,\n",
       " 28467292,\n",
       " 24363103,\n",
       " 44441704,\n",
       " 42492023,\n",
       " 30253178,\n",
       " 13770877,\n",
       " 9044100,\n",
       " 6996100,\n",
       " 12058758,\n",
       " 9609350,\n",
       " 38142089,\n",
       " 64733326,\n",
       " 44679311,\n",
       " 2138262,\n",
       " 41132182,\n",
       " 10961046,\n",
       " 31408288,\n",
       " 4579491,\n",
       " 12075172,\n",
       " 909476,\n",
       " 41025705,\n",
       " 9871531,\n",
       " 27697324,\n",
       " 62980270,\n",
       " 9388211,\n",
       " 8356021,\n",
       " 14852284,\n",
       " 245950,\n",
       " 57991359,\n",
       " 2719939,\n",
       " 5595334,\n",
       " 1622216,\n",
       " 67879112,\n",
       " 17539274,\n",
       " 1482955,\n",
       " 9396431,\n",
       " 4325599,\n",
       " 377059,\n",
       " 30343396,\n",
       " 9527523,\n",
       " 4792552,\n",
       " 4137192,\n",
       " 1532140,\n",
       " 45367540,\n",
       " 12189949,\n",
       " 48226558,\n",
       " 20300039,\n",
       " 23101705,\n",
       " 418061,\n",
       " 21201170,\n",
       " 23986451,\n",
       " 46375189,\n",
       " 4309270,\n",
       " 1958174,\n",
       " 17572127,\n",
       " 17662250,\n",
       " 2490666,\n",
       " 6111530,\n",
       " 56484140,\n",
       " 5964084,\n",
       " 31269173,\n",
       " 52928821,\n",
       " 24289591,\n",
       " 33448255,\n",
       " 5660994,\n",
       " 44114247,\n",
       " 55918926,\n",
       " 1687888,\n",
       " 73351506,\n",
       " 45179226,\n",
       " 77357404,\n",
       " 36847966,\n",
       " 60039520,\n",
       " 1556835,\n",
       " 55198055,\n",
       " 47137128,\n",
       " 77406573,\n",
       " 63734131,\n",
       " 14942580,\n",
       " 20267382,\n",
       " 1425784,\n",
       " 71098748,\n",
       " 59851139,\n",
       " 6439300,\n",
       " 8298885,\n",
       " 33366406,\n",
       " 16679305,\n",
       " 13869454,\n",
       " 4899214,\n",
       " 20578704,\n",
       " 6488465,\n",
       " 39412126,\n",
       " 1409439,\n",
       " 33145249,\n",
       " 1810850,\n",
       " 6717859,\n",
       " 1302946,\n",
       " 6881701,\n",
       " 2580901,\n",
       " 25461165,\n",
       " 25887153,\n",
       " 6103477,\n",
       " 36102587,\n",
       " 38314430,\n",
       " 17908168,\n",
       " 14148041,\n",
       " 22798795,\n",
       " 2884044,\n",
       " 1581516,\n",
       " 61407694,\n",
       " 3342799,\n",
       " 2564563,\n",
       " 11657683,\n",
       " 6881750,\n",
       " 57508313,\n",
       " 34005471,\n",
       " 45441508,\n",
       " 2499048,\n",
       " 67535337,\n",
       " 49791467,\n",
       " 7619052,\n",
       " 3703280,\n",
       " 3162609,\n",
       " 172533,\n",
       " 3359221,\n",
       " 2597369,\n",
       " 12059130,\n",
       " 13500923,\n",
       " 48570874,\n",
       " 19005949,\n",
       " 3875323,\n",
       " 9224702,\n",
       " 16245242,\n",
       " 2875898,\n",
       " 36700678,\n",
       " 67904006,\n",
       " 16902,\n",
       " 3645962,\n",
       " 60056087,\n",
       " 3801633,\n",
       " 24011298,\n",
       " 2204197,\n",
       " 30482986,\n",
       " 34374192,\n",
       " 2417203,\n",
       " 49717,\n",
       " 2720314,\n",
       " 71123514,\n",
       " 24076862,\n",
       " 12616268,\n",
       " 2531919,\n",
       " 6275663,\n",
       " 29024847,\n",
       " 3809876,\n",
       " 1606230,\n",
       " 22839895,\n",
       " 19677784,\n",
       " 9364073,\n",
       " 8594027,\n",
       " 1139308,\n",
       " 6308464,\n",
       " 6374000,\n",
       " 72753784,\n",
       " 7258745,\n",
       " 10961528,\n",
       " 73712255,\n",
       " 8012421,\n",
       " 76079754,\n",
       " 7053964,\n",
       " 22209166,\n",
       " 6144655,\n",
       " 50258575,\n",
       " 16614033,\n",
       " 4891291,\n",
       " 443041,\n",
       " 22962853,\n",
       " 69345961,\n",
       " 2425523,\n",
       " 1311416,\n",
       " 12665529,\n",
       " 23134906,\n",
       " 1278653,\n",
       " 33825469,\n",
       " 69255875,\n",
       " 1868489,\n",
       " 11813578,\n",
       " 74793675,\n",
       " 7545550,\n",
       " 1819342,\n",
       " 40288976,\n",
       " 58761938,\n",
       " 9118419,\n",
       " 29418197,\n",
       " 2122456,\n",
       " 71779033,\n",
       " 35963614,\n",
       " 19464934,\n",
       " 1704686,\n",
       " 8766191,\n",
       " 17400560,\n",
       " 37069556,\n",
       " 23388917,\n",
       " 1475323,\n",
       " 1409791,\n",
       " 13501186,\n",
       " 40428297,\n",
       " 8160012,\n",
       " 4039436,\n",
       " 6636302,\n",
       " 1729294,\n",
       " 26518292,\n",
       " 13107990,\n",
       " 9732893,\n",
       " 1950501,\n",
       " 1090342,\n",
       " 44286758,\n",
       " 5137192,\n",
       " 55034668,\n",
       " 467757,\n",
       " 15131437,\n",
       " 38470447,\n",
       " 5980976,\n",
       " 6603569,\n",
       " 14443313,\n",
       " 71328556,\n",
       " 58975028,\n",
       " 975669,\n",
       " 34644791,\n",
       " 54313786,\n",
       " 2065219,\n",
       " 39035728,\n",
       " 23749457,\n",
       " 44000092,\n",
       " 28820321,\n",
       " 20521831,\n",
       " 33424235,\n",
       " 762736,\n",
       " 31327097,\n",
       " 25846655,\n",
       " 62956417,\n",
       " 71066502,\n",
       " 4604814,\n",
       " 52306837,\n",
       " 1598360,\n",
       " 17335197,\n",
       " 2122659,\n",
       " 40854442,\n",
       " 45892523,\n",
       " 5522348,\n",
       " 49365933,\n",
       " 42714030,\n",
       " 23585714,\n",
       " 6431669,\n",
       " 6775734,\n",
       " 40510391,\n",
       " 45212602,\n",
       " 6570943,\n",
       " 75416520,\n",
       " 4400083,\n",
       " 50299867,\n",
       " 2999259,\n",
       " 11650014,\n",
       " 3138530,\n",
       " 44188644,\n",
       " 123876,\n",
       " 209904617,\n",
       " 1688557,\n",
       " 11903982,\n",
       " 14533618,\n",
       " 1459188,\n",
       " 27632631,\n",
       " 73524220,\n",
       " 15836162,\n",
       " 11764739,\n",
       " 13321221,\n",
       " 52069387,\n",
       " 29549588,\n",
       " 5522453,\n",
       " 6882329,\n",
       " 3400730,\n",
       " 21226522,\n",
       " 517147,\n",
       " 42583077,\n",
       " 1672233,\n",
       " 20915244,\n",
       " 65602608,\n",
       " 2769968,\n",
       " 44254257,\n",
       " 238648,\n",
       " 4531267,\n",
       " 14115908,\n",
       " 9946185,\n",
       " 21374026,\n",
       " 2303052,\n",
       " 26379342,\n",
       " 3753044,\n",
       " 62293087,\n",
       " 23151712,\n",
       " 5129317,\n",
       " 58672229,\n",
       " 35693681,\n",
       " 14517363,\n",
       " 6046838,\n",
       " 67486840,\n",
       " 13862012,\n",
       " 28574848,\n",
       " 17745024,\n",
       " 9487491,\n",
       " 30434443,\n",
       " 23626893,\n",
       " 1909905,\n",
       " 63251607,\n",
       " 48506010,\n",
       " 10724509,\n",
       " 50267302,\n",
       " 20595881,\n",
       " 50832554,\n",
       " 7038124,\n",
       " 7922860,\n",
       " 7701687,\n",
       " 48571576,\n",
       " 78038208,\n",
       " 44344517,\n",
       " 14165193,\n",
       " 2639063,\n",
       " 2041054,\n",
       " 10331361,\n",
       " 22152426,\n",
       " 58664173,\n",
       " 214258,\n",
       " 60105976,\n",
       " 16827645,\n",
       " 36603143,\n",
       " 7013640,\n",
       " 45524233,\n",
       " 2483466,\n",
       " 23045387,\n",
       " 60253451,\n",
       " 25101584,\n",
       " 51307813,\n",
       " 21906728,\n",
       " 10290477,\n",
       " 39683379,\n",
       " 51586359,\n",
       " 23176511,\n",
       " 2213185,\n",
       " 47334723,\n",
       " 33858886,\n",
       " 64963911,\n",
       " 1951049,\n",
       " 140618,\n",
       " 2082123,\n",
       " 1205587,\n",
       " 23422297,\n",
       " 1271134,\n",
       " 49251683,\n",
       " 19989860,\n",
       " 16385381,\n",
       " 34981222,\n",
       " 32769383,\n",
       " 20399468,\n",
       " 59876719,\n",
       " 9561458,\n",
       " 4261235,\n",
       " 43754868,\n",
       " 51307891,\n",
       " 54363511,\n",
       " 2532730,\n",
       " 21448060,\n",
       " 43574653,\n",
       " 320901,\n",
       " 34112904,\n",
       " 5342604,\n",
       " 52774289,\n",
       " 2844049,\n",
       " 6669715,\n",
       " 1516948,\n",
       " 35890581,\n",
       " 30541216,\n",
       " 1418661,\n",
       " 5375403,\n",
       " 3548595,\n",
       " 43935156,\n",
       " 27919798,\n",
       " 550328,\n",
       " 31712697,\n",
       " 3327423,\n",
       " 77702593,\n",
       " 30762449,\n",
       " 39593432,\n",
       " 7022045,\n",
       " 32056798,\n",
       " 2590175,\n",
       " 31172064,\n",
       " 28567008,\n",
       " 6718950,\n",
       " 40502762,\n",
       " 15353323,\n",
       " 10561005,\n",
       " 2008560,\n",
       " 4834800,\n",
       " 63137264,\n",
       " 23234040,\n",
       " 22873596,\n",
       " 3524092,\n",
       " 3868159,\n",
       " 62416383,\n",
       " 16098823,\n",
       " 12723719,\n",
       " 7644679,\n",
       " 2876938,\n",
       " 59565581,\n",
       " 43689492,\n",
       " 4105751,\n",
       " 16606747,\n",
       " 1959452,\n",
       " 4277796,\n",
       " 8300072,\n",
       " 45418027,\n",
       " 13624883,\n",
       " 7710267,\n",
       " 15918651,\n",
       " 57181758,\n",
       " 2934337,\n",
       " 27043397,\n",
       " 20579922,\n",
       " 66053715,\n",
       " 22341204,\n",
       " 28051029,\n",
       " 5113438,\n",
       " 57656932,\n",
       " 11249260,\n",
       " 5801584,\n",
       " 20481651,\n",
       " 2934389,\n",
       " 2467453,\n",
       " 40887936,\n",
       " 5219969,\n",
       " 23103107,\n",
       " 2107017,\n",
       " 9569931,\n",
       " 1951373,\n",
       " 73623190,\n",
       " 13002391,\n",
       " 78038680,\n",
       " 21964445,\n",
       " 18196126,\n",
       " 27223710,\n",
       " 15623839,\n",
       " 15222435,\n",
       " 15738541,\n",
       " 44181175,\n",
       " 29951672,\n",
       " 15861436,\n",
       " 26207934,\n",
       " 1967808,\n",
       " 8201927,\n",
       " 2574023,\n",
       " 7456456,\n",
       " 1500877,\n",
       " 4073179,\n",
       " 19646173,\n",
       " 51062508,\n",
       " 28239596,\n",
       " 222959,\n",
       " 73164527,\n",
       " 14124789,\n",
       " 70371065,\n",
       " 33851135,\n",
       " 34416383,\n",
       " 13092616,\n",
       " 11511561,\n",
       " 4212488,\n",
       " 6907656,\n",
       " 3729161,\n",
       " 24446733,\n",
       " 968464,\n",
       " 18810646,\n",
       " 45066010,\n",
       " 3508004,\n",
       " 36849450,\n",
       " 2074413,\n",
       " 11282221,\n",
       " 19949357,\n",
       " 4335410,\n",
       " 21440307,\n",
       " 1009465,\n",
       " 19826493,\n",
       " 6711104,\n",
       " 575308,\n",
       " 23103311,\n",
       " 24348500,\n",
       " 5023578,\n",
       " 4523872,\n",
       " 55789423,\n",
       " 35759994,\n",
       " 34105211,\n",
       " 18777980,\n",
       " 10569602,\n",
       " 26208141,\n",
       " 4614029,\n",
       " 42313622,\n",
       " 66635674,\n",
       " 214945,\n",
       " 2369445,\n",
       " 2287526,\n",
       " 5384117,\n",
       " 4057019,\n",
       " 61564866,\n",
       " 28886982,\n",
       " 2344903,\n",
       " 3172295,\n",
       " 32524235,\n",
       " 21374924,\n",
       " 31066062,\n",
       " 1771471,\n",
       " 2869198,\n",
       " 39864276,\n",
       " 1869784,\n",
       " 3917790,\n",
       " 30255071,\n",
       " 14223332,\n",
       " 58828772,\n",
       " 4876266,\n",
       " 10758123,\n",
       " 67564,\n",
       " 6293484,\n",
       " 37709804,\n",
       " 14895094,\n",
       " 2516988,\n",
       " 3934210,\n",
       " 2672646,\n",
       " 19957769,\n",
       " 4786189,\n",
       " 20056080,\n",
       " 3565586,\n",
       " 62408733,\n",
       " 37931041,\n",
       " 20547620,\n",
       " 67625,\n",
       " 895019,\n",
       " 65759276,\n",
       " 2951231,\n",
       " 7997503,\n",
       " 3450948,\n",
       " 1345605,\n",
       " 60115013,\n",
       " 29771848,\n",
       " 77310028,\n",
       " 20301901,\n",
       " 5302348,\n",
       " 5826637,\n",
       " 32835671,\n",
       " 9087065,\n",
       " 36948057,\n",
       " 70633567,\n",
       " 19581025,\n",
       " 39946343,\n",
       " 2902129,\n",
       " 632948,\n",
       " 608373,\n",
       " 1525880,\n",
       " 43870330,\n",
       " 24742016,\n",
       " 43149442,\n",
       " 60524679,\n",
       " 2771080,\n",
       " 7186574,\n",
       " 5253264,\n",
       " 64202899,\n",
       " 4622485,\n",
       " 133271,\n",
       " 27805847,\n",
       " 35506345,\n",
       " 59181232,\n",
       " 10152112,\n",
       " 70559928,\n",
       " 33802425,\n",
       " 17000638,\n",
       " 45795526,\n",
       " 22522056,\n",
       " 1648848,\n",
       " 34031825,\n",
       " 22374612,\n",
       " 2074840,\n",
       " 6875353,\n",
       " 11995354,\n",
       " 18008285,\n",
       " 51357919,\n",
       " 2353375,\n",
       " 2779363,\n",
       " 21129445,\n",
       " 48662760,\n",
       " 50718952,\n",
       " 55879916,\n",
       " 15436013,\n",
       " 33433857,\n",
       " 6965510,\n",
       " 9005321,\n",
       " 11069711,\n",
       " 26528019,\n",
       " 16804118,\n",
       " 2713883,\n",
       " 65128735,\n",
       " 18409767,\n",
       " 34597166,\n",
       " 15526195,\n",
       " 45443385,\n",
       " 2345277,\n",
       " 13363520,\n",
       " 36743491,\n",
       " 70494535,\n",
       " 4172121,\n",
       " 9382234,\n",
       " 24480097,\n",
       " 9537890,\n",
       " 26798438,\n",
       " 1591664,\n",
       " 9406839,\n",
       " 11757943,\n",
       " 6564226,\n",
       " 9046403,\n",
       " 15550857,\n",
       " 62917003,\n",
       " 11176333,\n",
       " 182670,\n",
       " 41798034,\n",
       " 9038227,\n",
       " 17959316,\n",
       " 2181526,\n",
       " 17254810,\n",
       " 12601763,\n",
       " 6039977,\n",
       " 36456875,\n",
       " 1886636,\n",
       " 8628657,\n",
       " 29780402,\n",
       " 10299827,\n",
       " 36440500,\n",
       " 58681790,\n",
       " 68577727,\n",
       " 6982082,\n",
       " 41732546,\n",
       " 10365385,\n",
       " 11758026,\n",
       " 40012237,\n",
       " 18786770,\n",
       " 25856467,\n",
       " 4303316,\n",
       " 6498776,\n",
       " 41363939,\n",
       " 15411688,\n",
       " 9521642,\n",
       " 40610284,\n",
       " 47802862,\n",
       " 2042365,\n",
       " 9521664,\n",
       " 9923073,\n",
       " 3770884,\n",
       " 2329093,\n",
       " 3123721,\n",
       " 2255371,\n",
       " 10742287,\n",
       " 51497488,\n",
       " 64285200,\n",
       " 1280532,\n",
       " 12429844,\n",
       " 510485,\n",
       " 46803479,\n",
       " 40421915,\n",
       " 17074717,\n",
       " 1608226,\n",
       " 3533351,\n",
       " 7236136,\n",
       " 28682794,\n",
       " 41888299,\n",
       " 13175343,\n",
       " 21809713,\n",
       " 1911346,\n",
       " 5966390,\n",
       " 27527734,\n",
       " 2730552,\n",
       " 62728764,\n",
       " 150078,\n",
       " 67324481,\n",
       " 51055175,\n",
       " 24947271,\n",
       " 7080525,\n",
       " 2525777,\n",
       " 38513233,\n",
       " 2976339,\n",
       " 28617307,\n",
       " 6670942,\n",
       " 18131551,\n",
       " 18147946,\n",
       " 1935985,\n",
       " 65473139,\n",
       " 76065395,\n",
       " 37317235,\n",
       " 15952507,\n",
       " 40397439,\n",
       " 1116804,\n",
       " 4614793,\n",
       " 1903242,\n",
       " 11119243,\n",
       " 31091337,\n",
       " 1444493,\n",
       " 871053,\n",
       " 28469898,\n",
       " 31255182,\n",
       " 30362264,\n",
       " 1952411,\n",
       " 72346270,\n",
       " 19974819,\n",
       " 16845477,\n",
       " 2443946,\n",
       " 101037,\n",
       " 58305201,\n",
       " 3459766,\n",
       " 43969212,\n",
       " 60394177,\n",
       " 42470086,\n",
       " 13380295,\n",
       " 3402446,\n",
       " 23620305,\n",
       " 30010066,\n",
       " 1428183,\n",
       " 3689177,\n",
       " 49687258,\n",
       " 322265,\n",
       " 43846368,\n",
       " 34958048,\n",
       " 47082214,\n",
       " 690924,\n",
       " 43617004,\n",
       " 70617842,\n",
       " 9947897,\n",
       " 9276155,\n",
       " 20507392,\n",
       " 871182,\n",
       " 31836943,\n",
       " 32181011,\n",
       " 2272022,\n",
       " 16296728,\n",
       " 12495643,\n",
       " 43166496,\n",
       " 7736098,\n",
       " 2353961,\n",
       " 60615469,\n",
       " 7973680,\n",
       " 57740082,\n",
       " 24603454,\n",
       " 8112963,\n",
       " 9063235,\n",
       " 3468105,\n",
       " 28642123,\n",
       " 6318925,\n",
       " 1616720,\n",
       " 445273,\n",
       " 17279844,\n",
       " 39799654,\n",
       " 21867370,\n",
       " 20220783,\n",
       " 46566266,\n",
       " 32680827,\n",
       " 41200507,\n",
       " 6835079,\n",
       " 30206861,\n",
       " 34638735,\n",
       " 54184847,\n",
       " 24161169,\n",
       " 1936275,\n",
       " 20499347,\n",
       " 7277461,\n",
       " 35376027,\n",
       " 338851,\n",
       " 2198436,\n",
       " 33721253,\n",
       " 1616806,\n",
       " 61524904,\n",
       " 5876650,\n",
       " 38054834,\n",
       " 40766405,\n",
       " 51014603,\n",
       " 1674188,\n",
       " 1502158,\n",
       " 1190865,\n",
       " 7474135,\n",
       " 1674201,\n",
       " 404447,\n",
       " 35302377,\n",
       " 42830830,\n",
       " 17951730,\n",
       " 62245878,\n",
       " 54193142,\n",
       " 36178938,\n",
       " 6966278,\n",
       " 9104390,\n",
       " 67791881,\n",
       " 3582986,\n",
       " 13224973,\n",
       " 44239887,\n",
       " 31886356,\n",
       " 4221972,\n",
       " 30682134,\n",
       " 3370009,\n",
       " 13519900,\n",
       " 37145633,\n",
       " 22719522,\n",
       " 1362977,\n",
       " 30370850,\n",
       " 11095081,\n",
       " 2419758,\n",
       " 27610163,\n",
       " 67857461,\n",
       " 49286202,\n",
       " 5827642,\n",
       " 2731071,\n",
       " 2796609,\n",
       " 150595,\n",
       " 13888599,\n",
       " 2092122,\n",
       " 59632742,\n",
       " 33180784,\n",
       " 33426547,\n",
       " 64777332,\n",
       " 34712694,\n",
       " 1363067,\n",
       " 11619453,\n",
       " 47459455,\n",
       " 25144450,\n",
       " 24710277,\n",
       " 1805447,\n",
       " 54168714,\n",
       " 21630094,\n",
       " 6982801,\n",
       " 6556823,\n",
       " 27708570,\n",
       " 28503198,\n",
       " 4721829,\n",
       " 23604408,\n",
       " 920762,\n",
       " 5860538,\n",
       " 1100988,\n",
       " 12635327,\n",
       " 17788096,\n",
       " 167107,\n",
       " 18885831,\n",
       " 40512712,\n",
       " 11717833,\n",
       " 35769547,\n",
       " 34172114,\n",
       " 2501849,\n",
       " 15264987,\n",
       " 12291293,\n",
       " 14183645,\n",
       " 21081311,\n",
       " 3714277,\n",
       " 20434149,\n",
       " 7736553,\n",
       " 37170414,\n",
       " 7736559,\n",
       " 32181492,\n",
       " 74616053,\n",
       " 9891062,\n",
       " 25357561,\n",
       " 19885306,\n",
       " 16526590,\n",
       " 31452414,\n",
       " 5377280,\n",
       " 4738305,\n",
       " 51350792,\n",
       " 56331532,\n",
       " 2346254,\n",
       " 7105808,\n",
       " 42765585,\n",
       " 4476186,\n",
       " 1035547,\n",
       " 13815070,\n",
       " 18369825,\n",
       " 10079522,\n",
       " 9309478,\n",
       " 24972586,\n",
       " 35810606,\n",
       " 7818548,\n",
       " 42519860,\n",
       " 42954045,\n",
       " 44322115,\n",
       " 8506696,\n",
       " 2198860,\n",
       " 10726735,\n",
       " 9129299,\n",
       " 51129687,\n",
       " 17837404,\n",
       " 3771741,\n",
       " 3157343,\n",
       " 3698015,\n",
       " 7425380,\n",
       " 1224038,\n",
       " 58977643,\n",
       " 2231664,\n",
       " 77434224,\n",
       " 72617332,\n",
       " 1666422,\n",
       " 32214392,\n",
       " 22080889,\n",
       " 5352830,\n",
       " 46124416,\n",
       " 32886148,\n",
       " 26463620,\n",
       " 12135824,\n",
       " 4910482,\n",
       " 21032340,\n",
       " 77983124,\n",
       " 74288535,\n",
       " 167321,\n",
       " 1944986,\n",
       " 26103207,\n",
       " 1281449,\n",
       " 20327850,\n",
       " 11103664,\n",
       " 33746356,\n",
       " 14241218,\n",
       " 13266371,\n",
       " 206622153,\n",
       " 59780556,\n",
       " 5852629,\n",
       " 18025942,\n",
       " 2878935,\n",
       " 27094488,\n",
       " 30961115,\n",
       " 27037148,\n",
       " 65080800,\n",
       " 478692,\n",
       " 20057573,\n",
       " 22203877,\n",
       " 5590503,\n",
       " 66924011,\n",
       " 36417005,\n",
       " 34500082,\n",
       " 8138227,\n",
       " 4386291,\n",
       " 32992756,\n",
       " 48164341,\n",
       " 29183482,\n",
       " 26684926,\n",
       " 34590207,\n",
       " 47615492,\n",
       " 12504585,\n",
       " 18083343,\n",
       " 16092690,\n",
       " 1797656,\n",
       " 3534363,\n",
       " 388636,\n",
       " 3182112,\n",
       " 14364194,\n",
       " 44527146,\n",
       " 17509933,\n",
       " 708141,\n",
       " 76369455,\n",
       " 2461233,\n",
       " 54046266,\n",
       " 1470010,\n",
       " 15806012,\n",
       " 27119168,\n",
       " 17665603,\n",
       " 3747398,\n",
       " 50515533,\n",
       " 16092753,\n",
       " 7466577,\n",
       " 2821718,\n",
       " ...}"
      ]
     },
     "execution_count": 25,
     "metadata": {},
     "output_type": "execute_result"
    },
    {
     "name": "stdout",
     "output_type": "stream",
     "text": [
      "time: 62 ms\n"
     ]
    }
   ],
   "source": [
    "set(data_train.host_id.unique()) & set(data_test.host_id.unique())"
   ]
  },
  {
   "cell_type": "code",
   "execution_count": 26,
   "metadata": {},
   "outputs": [
    {
     "data": {
      "text/plain": [
       "33889201     792\n",
       "147514538    179\n",
       "1432477      153\n",
       "28820321     152\n",
       "136223256    120\n",
       "            ... \n",
       "23949978       1\n",
       "23558811       1\n",
       "76434077       1\n",
       "97473182       1\n",
       "136360941      1\n",
       "Name: host_id, Length: 32606, dtype: int64"
      ]
     },
     "execution_count": 26,
     "metadata": {},
     "output_type": "execute_result"
    },
    {
     "name": "stdout",
     "output_type": "stream",
     "text": [
      "time: 16 ms\n"
     ]
    }
   ],
   "source": [
    "data_train.host_id.value_counts()"
   ]
  },
  {
   "cell_type": "code",
   "execution_count": 27,
   "metadata": {},
   "outputs": [
    {
     "data": {
      "text/plain": [
       "<matplotlib.axes._subplots.AxesSubplot at 0x200a938feb8>"
      ]
     },
     "execution_count": 27,
     "metadata": {},
     "output_type": "execute_result"
    },
    {
     "data": {
      "image/png": "[encoded data removed]",
      "text/plain": [
       "<Figure size 432x288 with 1 Axes>"
      ]
     },
     "metadata": {
      "needs_background": "light"
     },
     "output_type": "display_data"
    },
    {
     "name": "stdout",
     "output_type": "stream",
     "text": [
      "time: 500 ms\n"
     ]
    }
   ],
   "source": [
    "sns.distplot(data_train[data_train['host_id'] == 136223256].price)"
   ]
  },
  {
   "cell_type": "code",
   "execution_count": 28,
   "metadata": {},
   "outputs": [
    {
     "data": {
      "text/plain": [
       "host_is_superhost                 2\n",
       "host_identity_verified            2\n",
       "neighbourhood_cleansed           33\n",
       "is_location_exact                 2\n",
       "property_type                    40\n",
       "cancellation_policy               6\n",
       "require_guest_profile_picture     2\n",
       "dtype: int64"
      ]
     },
     "execution_count": 28,
     "metadata": {},
     "output_type": "execute_result"
    },
    {
     "name": "stdout",
     "output_type": "stream",
     "text": [
      "time: 47 ms\n"
     ]
    }
   ],
   "source": [
    "data_train[category_columns].nunique()"
   ]
  },
  {
   "cell_type": "markdown",
   "metadata": {},
   "source": [
    "### Удалим выборсы по цене "
   ]
  },
  {
   "cell_type": "code",
   "execution_count": 29,
   "metadata": {},
   "outputs": [
    {
     "name": "stdout",
     "output_type": "stream",
     "text": [
      "time: 63 ms\n"
     ]
    }
   ],
   "source": [
    "data_train = data_train[(data_train.price < data_train.price.quantile(0.98)) & (data_train.price > data_train.price.quantile(0.005))]"
   ]
  },
  {
   "cell_type": "markdown",
   "metadata": {},
   "source": [
    "### Добавим календарь"
   ]
  },
  {
   "cell_type": "code",
   "execution_count": 30,
   "metadata": {},
   "outputs": [
    {
     "name": "stdout",
     "output_type": "stream",
     "text": [
      "time: 16 s\n"
     ]
    }
   ],
   "source": [
    "calendar = pd.read_csv('calendar.csv')"
   ]
  },
  {
   "cell_type": "code",
   "execution_count": 31,
   "metadata": {},
   "outputs": [
    {
     "data": {
      "text/html": [
       "<div>\n",
       "<style scoped>\n",
       "    .dataframe tbody tr th:only-of-type {\n",
       "        vertical-align: middle;\n",
       "    }\n",
       "\n",
       "    .dataframe tbody tr th {\n",
       "        vertical-align: top;\n",
       "    }\n",
       "\n",
       "    .dataframe thead th {\n",
       "        text-align: right;\n",
       "    }\n",
       "</style>\n",
       "<table border=\"1\" class=\"dataframe\">\n",
       "  <thead>\n",
       "    <tr style=\"text-align: right;\">\n",
       "      <th></th>\n",
       "      <th>listing_id</th>\n",
       "      <th>date</th>\n",
       "      <th>available</th>\n",
       "    </tr>\n",
       "  </thead>\n",
       "  <tbody>\n",
       "    <tr>\n",
       "      <th>0</th>\n",
       "      <td>9554</td>\n",
       "      <td>2019-08-18</td>\n",
       "      <td>t</td>\n",
       "    </tr>\n",
       "    <tr>\n",
       "      <th>1</th>\n",
       "      <td>97446</td>\n",
       "      <td>2019-11-04</td>\n",
       "      <td>f</td>\n",
       "    </tr>\n",
       "    <tr>\n",
       "      <th>2</th>\n",
       "      <td>97446</td>\n",
       "      <td>2019-11-03</td>\n",
       "      <td>f</td>\n",
       "    </tr>\n",
       "    <tr>\n",
       "      <th>3</th>\n",
       "      <td>97446</td>\n",
       "      <td>2019-11-02</td>\n",
       "      <td>f</td>\n",
       "    </tr>\n",
       "    <tr>\n",
       "      <th>4</th>\n",
       "      <td>97446</td>\n",
       "      <td>2019-11-01</td>\n",
       "      <td>f</td>\n",
       "    </tr>\n",
       "  </tbody>\n",
       "</table>\n",
       "</div>"
      ],
      "text/plain": [
       "   listing_id        date available\n",
       "0        9554  2019-08-18         t\n",
       "1       97446  2019-11-04         f\n",
       "2       97446  2019-11-03         f\n",
       "3       97446  2019-11-02         f\n",
       "4       97446  2019-11-01         f"
      ]
     },
     "execution_count": 31,
     "metadata": {},
     "output_type": "execute_result"
    },
    {
     "name": "stdout",
     "output_type": "stream",
     "text": [
      "time: 16 ms\n"
     ]
    }
   ],
   "source": [
    "calendar.head()"
   ]
  },
  {
   "cell_type": "code",
   "execution_count": 32,
   "metadata": {},
   "outputs": [
    {
     "name": "stdout",
     "output_type": "stream",
     "text": [
      "time: 11.4 s\n"
     ]
    }
   ],
   "source": [
    "days_available = pd.crosstab(calendar['listing_id'], calendar['available'])"
   ]
  },
  {
   "cell_type": "code",
   "execution_count": 33,
   "metadata": {},
   "outputs": [
    {
     "name": "stdout",
     "output_type": "stream",
     "text": [
      "time: 0 ns\n"
     ]
    }
   ],
   "source": [
    "def get_availble_days(x, days_available=days_available):\n",
    "    try:\n",
    "        return days_available.loc[x, 't']\n",
    "    except KeyError:\n",
    "        return 0"
   ]
  },
  {
   "cell_type": "code",
   "execution_count": 34,
   "metadata": {},
   "outputs": [
    {
     "name": "stdout",
     "output_type": "stream",
     "text": [
      "time: 1.8 s\n"
     ]
    }
   ],
   "source": [
    "data_train['days_available'] = data_train['id'].apply(lambda x: get_availble_days(x))\n",
    "data_test['days_available'] = data_test['id'].apply(lambda x: get_availble_days(x))"
   ]
  },
  {
   "cell_type": "markdown",
   "metadata": {},
   "source": [
    "### Посмотрим отзывы"
   ]
  },
  {
   "cell_type": "code",
   "execution_count": 35,
   "metadata": {},
   "outputs": [
    {
     "data": {
      "text/plain": [
       "David              9784\n",
       "Michael            7127\n",
       "Sarah              6730\n",
       "John               6027\n",
       "Laura              5795\n",
       "                   ... \n",
       "Wan Anuar             1\n",
       "Emma / Alastair       1\n",
       "Tsekeri               1\n",
       "Abiba                 1\n",
       "Elizabeth Jill        1\n",
       "Name: reviewer_name, Length: 114161, dtype: int64"
      ]
     },
     "execution_count": 35,
     "metadata": {},
     "output_type": "execute_result"
    },
    {
     "name": "stdout",
     "output_type": "stream",
     "text": [
      "time: 594 ms\n"
     ]
    }
   ],
   "source": [
    "reviews['reviewer_name'].value_counts()"
   ]
  },
  {
   "cell_type": "code",
   "execution_count": 51,
   "metadata": {},
   "outputs": [
    {
     "data": {
      "text/html": [
       "<div>\n",
       "<style scoped>\n",
       "    .dataframe tbody tr th:only-of-type {\n",
       "        vertical-align: middle;\n",
       "    }\n",
       "\n",
       "    .dataframe tbody tr th {\n",
       "        vertical-align: top;\n",
       "    }\n",
       "\n",
       "    .dataframe thead th {\n",
       "        text-align: right;\n",
       "    }\n",
       "</style>\n",
       "<table border=\"1\" class=\"dataframe\">\n",
       "  <thead>\n",
       "    <tr style=\"text-align: right;\">\n",
       "      <th></th>\n",
       "      <th>listing_id</th>\n",
       "      <th>id</th>\n",
       "      <th>date</th>\n",
       "      <th>reviewer_id</th>\n",
       "      <th>reviewer_name</th>\n",
       "      <th>comments</th>\n",
       "    </tr>\n",
       "  </thead>\n",
       "  <tbody>\n",
       "    <tr>\n",
       "      <th>0</th>\n",
       "      <td>9554</td>\n",
       "      <td>1184025</td>\n",
       "      <td>2012-04-26</td>\n",
       "      <td>1809049</td>\n",
       "      <td>Hana</td>\n",
       "      <td>I  stayed  in London for a month to study, exp...</td>\n",
       "    </tr>\n",
       "    <tr>\n",
       "      <th>1</th>\n",
       "      <td>9554</td>\n",
       "      <td>1206322</td>\n",
       "      <td>2012-04-30</td>\n",
       "      <td>2237488</td>\n",
       "      <td>Rishi</td>\n",
       "      <td>My bnb request was very last minute and i was ...</td>\n",
       "    </tr>\n",
       "    <tr>\n",
       "      <th>2</th>\n",
       "      <td>9554</td>\n",
       "      <td>1258541</td>\n",
       "      <td>2012-05-10</td>\n",
       "      <td>2150467</td>\n",
       "      <td>Panee</td>\n",
       "      <td>First time as airbnb!First time to London! I c...</td>\n",
       "    </tr>\n",
       "    <tr>\n",
       "      <th>3</th>\n",
       "      <td>9554</td>\n",
       "      <td>1405284</td>\n",
       "      <td>2012-06-03</td>\n",
       "      <td>1864672</td>\n",
       "      <td>Simone Cristina</td>\n",
       "      <td>A wonderful experience! The house is very well...</td>\n",
       "    </tr>\n",
       "    <tr>\n",
       "      <th>4</th>\n",
       "      <td>9554</td>\n",
       "      <td>1475969</td>\n",
       "      <td>2012-06-13</td>\n",
       "      <td>2438453</td>\n",
       "      <td>Sondra</td>\n",
       "      <td>We are so grateful that we trusted our intuiti...</td>\n",
       "    </tr>\n",
       "  </tbody>\n",
       "</table>\n",
       "</div>"
      ],
      "text/plain": [
       "   listing_id       id        date  reviewer_id    reviewer_name  \\\n",
       "0        9554  1184025  2012-04-26      1809049             Hana   \n",
       "1        9554  1206322  2012-04-30      2237488            Rishi   \n",
       "2        9554  1258541  2012-05-10      2150467            Panee   \n",
       "3        9554  1405284  2012-06-03      1864672  Simone Cristina   \n",
       "4        9554  1475969  2012-06-13      2438453           Sondra   \n",
       "\n",
       "                                            comments  \n",
       "0  I  stayed  in London for a month to study, exp...  \n",
       "1  My bnb request was very last minute and i was ...  \n",
       "2  First time as airbnb!First time to London! I c...  \n",
       "3  A wonderful experience! The house is very well...  \n",
       "4  We are so grateful that we trusted our intuiti...  "
      ]
     },
     "execution_count": 51,
     "metadata": {},
     "output_type": "execute_result"
    },
    {
     "name": "stdout",
     "output_type": "stream",
     "text": [
      "time: 15 ms\n"
     ]
    }
   ],
   "source": [
    "reviews.head()"
   ]
  },
  {
   "cell_type": "code",
   "execution_count": 52,
   "metadata": {},
   "outputs": [
    {
     "name": "stdout",
     "output_type": "stream",
     "text": [
      "time: 63 ms\n"
     ]
    }
   ],
   "source": [
    "count_rewiews = reviews['listing_id'].value_counts()"
   ]
  },
  {
   "cell_type": "code",
   "execution_count": 53,
   "metadata": {},
   "outputs": [
    {
     "name": "stdout",
     "output_type": "stream",
     "text": [
      "time: 0 ns\n"
     ]
    }
   ],
   "source": [
    "def get_review_number(x, count_rewiews=count_rewiews):\n",
    "    try:\n",
    "        return count_rewiews[x]\n",
    "    except KeyError:\n",
    "        return 0"
   ]
  },
  {
   "cell_type": "code",
   "execution_count": 54,
   "metadata": {},
   "outputs": [
    {
     "name": "stdout",
     "output_type": "stream",
     "text": [
      "time: 1.74 s\n"
     ]
    }
   ],
   "source": [
    "data_train['rewiews_cnt'] = data_train['id'].apply(lambda x: get_review_number(x))\n",
    "data_test['rewiews_cnt'] = data_test['id'].apply(lambda x: get_review_number(x))"
   ]
  },
  {
   "cell_type": "code",
   "execution_count": 55,
   "metadata": {},
   "outputs": [
    {
     "data": {
      "text/plain": [
       "'I had to find a place really quick and Elaine answer immediatly and made everything to make me feel confortable !\\nThe place is neat and well equiped, very close to the center and well known place of London.'"
      ]
     },
     "execution_count": 55,
     "metadata": {},
     "output_type": "execute_result"
    },
    {
     "name": "stdout",
     "output_type": "stream",
     "text": [
      "time: 0 ns\n"
     ]
    }
   ],
   "source": [
    "reviews['comments'].iloc[-888]"
   ]
  },
  {
   "cell_type": "code",
   "execution_count": 56,
   "metadata": {},
   "outputs": [
    {
     "name": "stdout",
     "output_type": "stream",
     "text": [
      "time: 0 ns\n"
     ]
    }
   ],
   "source": [
    "def get_review_cat(x, data_train):\n",
    "    return data_train[data_train['id'] == x].loc[:, 'price_cat'].mean()"
   ]
  },
  {
   "cell_type": "code",
   "execution_count": 57,
   "metadata": {},
   "outputs": [
    {
     "name": "stdout",
     "output_type": "stream",
     "text": [
      "time: 94 ms\n"
     ]
    }
   ],
   "source": [
    "from sklearn.cluster import KMeans"
   ]
  },
  {
   "cell_type": "code",
   "execution_count": 58,
   "metadata": {},
   "outputs": [
    {
     "name": "stdout",
     "output_type": "stream",
     "text": [
      "time: 3.09 s\n"
     ]
    }
   ],
   "source": [
    "review_train = pd.merge(reviews.set_index('listing_id'), data_train.set_index('id'), left_index=True, right_index=True, how='inner')"
   ]
  },
  {
   "cell_type": "code",
   "execution_count": 59,
   "metadata": {},
   "outputs": [
    {
     "name": "stdout",
     "output_type": "stream",
     "text": [
      "time: 2.78 s\n"
     ]
    }
   ],
   "source": [
    "review_test = pd.merge(reviews.set_index('listing_id'), data_test.set_index('id'), left_index=True, right_index=True, how='inner')"
   ]
  },
  {
   "cell_type": "code",
   "execution_count": 60,
   "metadata": {},
   "outputs": [
    {
     "name": "stdout",
     "output_type": "stream",
     "text": [
      "time: 0 ns\n"
     ]
    }
   ],
   "source": [
    "def findall_words(x):\n",
    "    try:\n",
    "        return ' '.join(re.findall(r'\\w+', x))\n",
    "    except TypeError:\n",
    "        return None"
   ]
  },
  {
   "cell_type": "code",
   "execution_count": 61,
   "metadata": {},
   "outputs": [
    {
     "name": "stdout",
     "output_type": "stream",
     "text": [
      "time: 11.9 s\n"
     ]
    }
   ],
   "source": [
    "review_train['comments'] = review_train['comments'].apply(lambda x: findall_words(x))"
   ]
  },
  {
   "cell_type": "code",
   "execution_count": 62,
   "metadata": {},
   "outputs": [
    {
     "name": "stdout",
     "output_type": "stream",
     "text": [
      "time: 0 ns\n"
     ]
    }
   ],
   "source": [
    "vectorizer = TfidfVectorizer(stop_words='english', min_df=5, max_df=0.5)\n",
    "clf = LogisticRegression(penalty='l2', random_state=17)"
   ]
  },
  {
   "cell_type": "code",
   "execution_count": 63,
   "metadata": {},
   "outputs": [
    {
     "name": "stdout",
     "output_type": "stream",
     "text": [
      "time: 0 ns\n"
     ]
    }
   ],
   "source": [
    "def pipe_text (vectorizer, classifier):\n",
    "    return(Pipeline([(\"vectorizer\", vectorizer),\n",
    "                            (\"classifier\", classifier)]))"
   ]
  },
  {
   "cell_type": "code",
   "execution_count": 64,
   "metadata": {},
   "outputs": [
    {
     "name": "stdout",
     "output_type": "stream",
     "text": [
      "time: 0 ns\n"
     ]
    }
   ],
   "source": [
    "pipe_rew = pipe_text(vectorizer, clf)"
   ]
  },
  {
   "cell_type": "code",
   "execution_count": 65,
   "metadata": {},
   "outputs": [
    {
     "data": {
      "text/plain": [
       "Pipeline(steps=[('vectorizer',\n",
       "                 TfidfVectorizer(max_df=0.5, min_df=5, stop_words='english')),\n",
       "                ('classifier', LogisticRegression(random_state=17))])"
      ]
     },
     "execution_count": 65,
     "metadata": {},
     "output_type": "execute_result"
    },
    {
     "name": "stdout",
     "output_type": "stream",
     "text": [
      "time: 1min 16s\n"
     ]
    }
   ],
   "source": [
    "pipe_rew.fit(review_train[review_train.comments.notna()]['comments'], review_train[review_train.comments.notna()].price_cat)"
   ]
  },
  {
   "cell_type": "code",
   "execution_count": 66,
   "metadata": {},
   "outputs": [
    {
     "name": "stdout",
     "output_type": "stream",
     "text": [
      "time: 25.3 s\n"
     ]
    }
   ],
   "source": [
    "rew_train_ans = pipe_rew.predict(review_train[review_train.comments.notna()].comments)"
   ]
  },
  {
   "cell_type": "code",
   "execution_count": 67,
   "metadata": {},
   "outputs": [
    {
     "name": "stdout",
     "output_type": "stream",
     "text": [
      "time: 1.06 s\n"
     ]
    }
   ],
   "source": [
    "rew_train_ans = pd.DataFrame(list(zip(rew_train_ans, review_train[review_train.comments.notna()].index)), columns=['cat', 'id'])"
   ]
  },
  {
   "cell_type": "code",
   "execution_count": 68,
   "metadata": {},
   "outputs": [
    {
     "name": "stdout",
     "output_type": "stream",
     "text": [
      "time: 39.8 s\n"
     ]
    }
   ],
   "source": [
    "rew_test_ans = pipe_rew.predict(review_test[review_test.comments.notna()].comments)"
   ]
  },
  {
   "cell_type": "code",
   "execution_count": 69,
   "metadata": {},
   "outputs": [
    {
     "name": "stdout",
     "output_type": "stream",
     "text": [
      "time: 1.3 s\n"
     ]
    }
   ],
   "source": [
    "rew_test_ans = pd.DataFrame(list(zip(rew_test_ans, review_test[review_test.comments.notna()].index)), columns=['cat', 'id'])"
   ]
  },
  {
   "cell_type": "code",
   "execution_count": 70,
   "metadata": {},
   "outputs": [
    {
     "name": "stdout",
     "output_type": "stream",
     "text": [
      "time: 0 ns\n"
     ]
    }
   ],
   "source": [
    "def get_cat(x, rew):\n",
    "    try:\n",
    "        return rew[rew['id'] == x]['cat'].mean()\n",
    "    except:\n",
    "        return -5"
   ]
  },
  {
   "cell_type": "code",
   "execution_count": 71,
   "metadata": {},
   "outputs": [
    {
     "name": "stdout",
     "output_type": "stream",
     "text": [
      "time: 1min 12s\n"
     ]
    }
   ],
   "source": [
    "data_train['rew_cat'] = data_train['id'].apply(lambda x: get_cat(x, rew_train_ans))"
   ]
  },
  {
   "cell_type": "code",
   "execution_count": 72,
   "metadata": {},
   "outputs": [
    {
     "name": "stdout",
     "output_type": "stream",
     "text": [
      "time: 39.9 s\n"
     ]
    }
   ],
   "source": [
    "data_test['rew_cat'] = data_test['id'].apply(lambda x: get_cat(x, rew_test_ans))"
   ]
  },
  {
   "cell_type": "markdown",
   "metadata": {},
   "source": [
    "### Generate categories from text features"
   ]
  },
  {
   "cell_type": "code",
   "execution_count": 36,
   "metadata": {},
   "outputs": [
    {
     "name": "stdout",
     "output_type": "stream",
     "text": [
      "time: 16 ms\n"
     ]
    }
   ],
   "source": [
    "stop_words = stopwords.words('english')\n",
    "def drop_stop_words(tokenized_sentence: list, stop_words: list):\n",
    "    return [t for t in tokenized_sentence if t not in stop_words]\n",
    "\n",
    "def stem(tokenized_sentence: list, stemmer):\n",
    "    return ' '.join([stemmer.stem(word) for word in tokenized_sentence])\n",
    "def lem(tokenized_sentence: list, wordnet_lemmatizer):\n",
    "    try:\n",
    "        lemmatize_words = np.vectorize(wordnet_lemmatizer.lemmatize)\n",
    "        lemmatized_text = ' '.join(lemmatize_words(tokenized_sentence))\n",
    "        return lemmatized_text\n",
    "    except ValueError:\n",
    "        print(tokenized_sentence)\n",
    "        return ' '.join(tokenized_sentence)"
   ]
  },
  {
   "cell_type": "code",
   "execution_count": 37,
   "metadata": {},
   "outputs": [
    {
     "name": "stdout",
     "output_type": "stream",
     "text": [
      "time: 4.17 s\n"
     ]
    }
   ],
   "source": [
    "wordnet_lemmatizer = WordNetLemmatizer()\n",
    "sp = spacy.load('en_core_web_sm')\n",
    "stemmer = SnowballStemmer(language='english')"
   ]
  },
  {
   "cell_type": "code",
   "execution_count": 38,
   "metadata": {},
   "outputs": [
    {
     "name": "stdout",
     "output_type": "stream",
     "text": [
      "time: 0 ns\n"
     ]
    }
   ],
   "source": [
    "def normalise_cust(x):\n",
    "    try:\n",
    "        normalise(word_tokenize(x), verbose=False)\n",
    "    except IndexError:\n",
    "        print(x)\n",
    "        return x"
   ]
  },
  {
   "cell_type": "code",
   "execution_count": 39,
   "metadata": {},
   "outputs": [
    {
     "name": "stdout",
     "output_type": "stream",
     "text": [
      "space\n",
      "name\n",
      "summary\n",
      "description\n",
      "neighborhood_overview\n",
      "transit\n",
      "access\n",
      "interaction\n",
      "house_rules\n",
      "host_about\n",
      "amenities\n",
      "time: 21.3 s\n"
     ]
    }
   ],
   "source": [
    "for col in text_columns:\n",
    "    print(col)\n",
    "    data_train[col] = data_train[col].fillna('Unknown words')\n",
    "    data_train[col] = data_train[col].apply(lambda x: ' '.join(re.findall(r'\\w+', x)))\n",
    "    data_train[col] = data_train[col].apply(lambda x: x.strip())\n",
    "    #data_train[col] = data_train[col].apply(lambda x: x.translate(str.maketrans('', '', string.punctuation)))\n",
    "    #data_train[col] = data_train[col].apply(lambda x: normalise_cust(x))\n",
    "    #data_train[col] = data_train[col].apply(lambda x: drop_stop_words(x, stop_words))\n",
    "    #data_train[col] = data_train[col].apply(lambda x: stem(x, stemmer))\n",
    "    #data_train[col] = data_train[col].apply(lambda x: lem(x, wordnet_lemmatizer))\n"
   ]
  },
  {
   "cell_type": "code",
   "execution_count": 40,
   "metadata": {},
   "outputs": [
    {
     "name": "stdout",
     "output_type": "stream",
     "text": [
      "space\n",
      "name\n",
      "summary\n",
      "description\n",
      "neighborhood_overview\n",
      "transit\n",
      "access\n",
      "interaction\n",
      "house_rules\n",
      "host_about\n",
      "amenities\n",
      "time: 8.67 s\n"
     ]
    }
   ],
   "source": [
    "for col in text_columns:\n",
    "    print(col)\n",
    "    data_test[col] = data_test[col].fillna('Unknown words')\n",
    "    data_test[col] = data_test[col].apply(lambda x: ' '.join(re.findall(r'\\w+', x)))\n",
    "    data_test[col] = data_test[col].apply(lambda x: x.strip())\n",
    "    #data_test[col] = data_test[col].apply(lambda x: x.translate(str.maketrans('', '', string.punctuation)))\n",
    "    #data_train[col] = data_train[col].apply(lambda x: normalise_cust(x))\n",
    "    #data_test[col] = data_test[col].apply(lambda x: drop_stop_words(x, stop_words))\n",
    "    #data_test[col] = data_test[col].apply(lambda x: stem(x, stemmer))\n",
    "    #data_test[col] = data_test[col].apply(lambda x: lem(x, wordnet_lemmatizer))\n"
   ]
  },
  {
   "cell_type": "code",
   "execution_count": 41,
   "metadata": {},
   "outputs": [
    {
     "data": {
      "text/plain": [
       "['space',\n",
       " 'name',\n",
       " 'summary',\n",
       " 'description',\n",
       " 'neighborhood_overview',\n",
       " 'transit',\n",
       " 'access',\n",
       " 'interaction',\n",
       " 'house_rules',\n",
       " 'host_about',\n",
       " 'amenities']"
      ]
     },
     "execution_count": 41,
     "metadata": {},
     "output_type": "execute_result"
    },
    {
     "name": "stdout",
     "output_type": "stream",
     "text": [
      "time: 0 ns\n"
     ]
    }
   ],
   "source": [
    "text_columns"
   ]
  },
  {
   "cell_type": "code",
   "execution_count": 42,
   "metadata": {},
   "outputs": [
    {
     "name": "stdout",
     "output_type": "stream",
     "text": [
      "time: 16 ms\n"
     ]
    }
   ],
   "source": [
    "boarders = np.geomspace(data_train.price.min(), data_train.price.max(), num=5)"
   ]
  },
  {
   "cell_type": "code",
   "execution_count": 43,
   "metadata": {},
   "outputs": [
    {
     "name": "stdout",
     "output_type": "stream",
     "text": [
      "time: 0 ns\n"
     ]
    }
   ],
   "source": [
    "def get_cat_price(x, boarders):\n",
    "    for i, b in enumerate(boarders[1:]):\n",
    "        if x <= b:\n",
    "            return i\n",
    "    return i + 1"
   ]
  },
  {
   "cell_type": "code",
   "execution_count": 44,
   "metadata": {},
   "outputs": [
    {
     "name": "stdout",
     "output_type": "stream",
     "text": [
      "time: 125 ms\n"
     ]
    }
   ],
   "source": [
    "data_train['price_cat'] = data_train['price'].apply(lambda x: get_cat_price(x, boarders))"
   ]
  },
  {
   "cell_type": "code",
   "execution_count": 45,
   "metadata": {},
   "outputs": [
    {
     "data": {
      "text/plain": [
       "space                    0\n",
       "name                     0\n",
       "summary                  0\n",
       "description              0\n",
       "neighborhood_overview    0\n",
       "transit                  0\n",
       "access                   0\n",
       "interaction              0\n",
       "house_rules              0\n",
       "host_about               0\n",
       "amenities                0\n",
       "dtype: int64"
      ]
     },
     "execution_count": 45,
     "metadata": {},
     "output_type": "execute_result"
    },
    {
     "name": "stdout",
     "output_type": "stream",
     "text": [
      "time: 94 ms\n"
     ]
    }
   ],
   "source": [
    "data_train[text_columns].isna().sum()"
   ]
  },
  {
   "cell_type": "code",
   "execution_count": 46,
   "metadata": {},
   "outputs": [
    {
     "name": "stdout",
     "output_type": "stream",
     "text": [
      "time: 0 ns\n"
     ]
    }
   ],
   "source": [
    "def pipe_text (vectorizer, classifier):\n",
    "    return(Pipeline([(\"vectorizer\", vectorizer),\n",
    "                            (\"classifier\", classifier)]))"
   ]
  },
  {
   "cell_type": "code",
   "execution_count": 47,
   "metadata": {},
   "outputs": [
    {
     "name": "stdout",
     "output_type": "stream",
     "text": [
      "time: 0 ns\n"
     ]
    }
   ],
   "source": [
    "vectorizer = TfidfVectorizer(stop_words='english', min_df=5, max_df=0.5)\n",
    "clf = LogisticRegression(penalty='l2', random_state=17)"
   ]
  },
  {
   "cell_type": "code",
   "execution_count": 48,
   "metadata": {},
   "outputs": [
    {
     "name": "stdout",
     "output_type": "stream",
     "text": [
      "time: 0 ns\n"
     ]
    }
   ],
   "source": [
    "pipe_txt = pipe_text(vectorizer, clf)"
   ]
  },
  {
   "cell_type": "code",
   "execution_count": 49,
   "metadata": {},
   "outputs": [
    {
     "name": "stdout",
     "output_type": "stream",
     "text": [
      "time: 2min 10s\n"
     ]
    }
   ],
   "source": [
    "for col in text_columns:\n",
    "    data_train[col] = data_train[col].apply(lambda x: 'unknown' if x == '' else x)\n",
    "    pipe_txt = pipe_text(vectorizer, clf)\n",
    "    pipe_txt.fit(data_train[col], data_train['price_cat'])\n",
    "    data_train[f'{col}_cat'] = pipe_txt.predict(data_train[col].fillna('Unknown'))\n",
    "    data_test[f'{col}_cat'] = pipe_txt.predict(data_test[col].fillna('Unknown'))"
   ]
  },
  {
   "cell_type": "code",
   "execution_count": 50,
   "metadata": {},
   "outputs": [
    {
     "name": "stdout",
     "output_type": "stream",
     "text": [
      "time: 0 ns\n"
     ]
    }
   ],
   "source": [
    "cat_cols2 = [f'{col}_cat' for col in text_columns]"
   ]
  },
  {
   "cell_type": "markdown",
   "metadata": {},
   "source": [
    "### Boruta feature selection"
   ]
  },
  {
   "cell_type": "code",
   "execution_count": null,
   "metadata": {},
   "outputs": [],
   "source": [
    "def pipeline_model_bor (category_columns1, numeric_columns, feature_selection_alg):\n",
    "    numeric_steps = [('selection', FunctionTransformer(lambda x: x[numeric_columns], validate=False)), \n",
    "                    ('imputing', SimpleImputer(missing_values=np.nan, strategy='mean', fill_value=None)),\n",
    "                    ('scaling', StandardScaler())]\n",
    "    category_steps1 = [('selection', FunctionTransformer(lambda x: x[category_columns1], validate=False)),\n",
    "                       ('imputing', SimpleImputer(missing_values=np.nan, strategy='constant', fill_value='unknown')),\n",
    "                       ('hot_encoding', OneHotEncoder(handle_unknown = 'ignore', sparse=False))]\n",
    "    return (Pipeline(steps =[('feature_processing', FeatureUnion(transformer_list = [\n",
    "            ('numeric_variables_processing', Pipeline(steps = numeric_steps)),\n",
    "            ('category1_variables_processing', Pipeline(steps = category_steps1))])),\n",
    "            ('feature selection', BorutaPy(feature_selection_alg, n_estimators='auto', verbose=2, random_state=4242, max_iter = 50, perc = 70))]))\n",
    "                    \n"
   ]
  },
  {
   "cell_type": "code",
   "execution_count": null,
   "metadata": {},
   "outputs": [],
   "source": [
    "pipe_bor = pipeline_model_bor(category_columns + cat_cols2, num_cols, RandomForestRegressor(n_jobs=-1, max_depth=5))#CatBoostRegressor(verbose=False)"
   ]
  },
  {
   "cell_type": "code",
   "execution_count": null,
   "metadata": {},
   "outputs": [],
   "source": [
    "pipe_bor.fit(data_train, data_train.price)"
   ]
  },
  {
   "cell_type": "code",
   "execution_count": null,
   "metadata": {},
   "outputs": [],
   "source": [
    "cat1_feature_names = pipe_bor.get_params()['steps'][0][1].get_params(\n",
    "                )['transformer_list'][1][1].get_params()['steps'][2][1].get_feature_names()"
   ]
  },
  {
   "cell_type": "code",
   "execution_count": null,
   "metadata": {},
   "outputs": [],
   "source": [
    "features_df = pd.DataFrame(pipe_bor['feature selection'].ranking_, index=num_cols + cat1_feature_names.tolist(), columns=['rank'])"
   ]
  },
  {
   "cell_type": "code",
   "execution_count": null,
   "metadata": {},
   "outputs": [],
   "source": [
    "features_df['keep'] = pipe_bor['feature selection'].support_\n",
    "features_df"
   ]
  },
  {
   "cell_type": "code",
   "execution_count": null,
   "metadata": {},
   "outputs": [],
   "source": [
    "selected_features = np.where(pipe_bor['feature selection'].support_ == True)"
   ]
  },
  {
   "cell_type": "code",
   "execution_count": null,
   "metadata": {},
   "outputs": [],
   "source": [
    "selected_features[0]"
   ]
  },
  {
   "cell_type": "markdown",
   "metadata": {},
   "source": [
    "### Host_since to num"
   ]
  },
  {
   "cell_type": "code",
   "execution_count": 73,
   "metadata": {},
   "outputs": [
    {
     "name": "stdout",
     "output_type": "stream",
     "text": [
      "time: 78 ms\n"
     ]
    }
   ],
   "source": [
    "data_train['host_since'] = pd.to_datetime(data_train['host_since'])"
   ]
  },
  {
   "cell_type": "code",
   "execution_count": 74,
   "metadata": {},
   "outputs": [
    {
     "data": {
      "text/plain": [
       "(3623.0, Timedelta('3623 days 00:00:00'))"
      ]
     },
     "execution_count": 74,
     "metadata": {},
     "output_type": "execute_result"
    },
    {
     "name": "stdout",
     "output_type": "stream",
     "text": [
      "time: 16 ms\n"
     ]
    }
   ],
   "source": [
    "(data_train['host_since'].max() - data_train['host_since'].min()).total_seconds() / (3600 * 24) , (data_train['host_since'].max() - data_train['host_since'].min())"
   ]
  },
  {
   "cell_type": "code",
   "execution_count": 75,
   "metadata": {},
   "outputs": [
    {
     "name": "stdout",
     "output_type": "stream",
     "text": [
      "time: 16 ms\n"
     ]
    }
   ],
   "source": [
    "min_date = data_train['host_since'].min()"
   ]
  },
  {
   "cell_type": "code",
   "execution_count": 76,
   "metadata": {},
   "outputs": [
    {
     "name": "stdout",
     "output_type": "stream",
     "text": [
      "time: 1.55 s\n"
     ]
    }
   ],
   "source": [
    "data_train['since'] = data_train['host_since'].apply(lambda x: (x - min_date).total_seconds() / (3600 * 24))"
   ]
  },
  {
   "cell_type": "code",
   "execution_count": 77,
   "metadata": {},
   "outputs": [
    {
     "data": {
      "text/plain": [
       "80.0"
      ]
     },
     "execution_count": 77,
     "metadata": {},
     "output_type": "execute_result"
    },
    {
     "name": "stdout",
     "output_type": "stream",
     "text": [
      "time: 0 ns\n"
     ]
    }
   ],
   "source": [
    "data_train.price.median()"
   ]
  },
  {
   "cell_type": "code",
   "execution_count": 78,
   "metadata": {},
   "outputs": [
    {
     "name": "stdout",
     "output_type": "stream",
     "text": [
      "time: 31 ms\n"
     ]
    }
   ],
   "source": [
    "data_test['host_since'] = pd.to_datetime(data_test['host_since'])"
   ]
  },
  {
   "cell_type": "code",
   "execution_count": 79,
   "metadata": {},
   "outputs": [
    {
     "name": "stdout",
     "output_type": "stream",
     "text": [
      "time: 625 ms\n"
     ]
    }
   ],
   "source": [
    "data_test['since'] = data_test['host_since'].apply(lambda x: (x - min_date).total_seconds() / (3600 * 24))"
   ]
  },
  {
   "cell_type": "markdown",
   "metadata": {},
   "source": [
    "### Финальная модель"
   ]
  },
  {
   "cell_type": "code",
   "execution_count": 80,
   "metadata": {},
   "outputs": [
    {
     "name": "stdout",
     "output_type": "stream",
     "text": [
      "time: 0 ns\n"
     ]
    }
   ],
   "source": [
    "def mean_absolute_percentage_error(y_true, y_pred):\n",
    "    return np.abs(np.array(y_true)-np.array(y_pred)).mean()"
   ]
  },
  {
   "cell_type": "code",
   "execution_count": 81,
   "metadata": {},
   "outputs": [
    {
     "name": "stdout",
     "output_type": "stream",
     "text": [
      "time: 0 ns\n"
     ]
    }
   ],
   "source": [
    "from sklearn.metrics import make_scorer\n",
    "mape_scorer = make_scorer(mean_absolute_percentage_error, greater_is_better=False)"
   ]
  },
  {
   "cell_type": "code",
   "execution_count": 82,
   "metadata": {},
   "outputs": [
    {
     "name": "stdout",
     "output_type": "stream",
     "text": [
      "time: 0 ns\n"
     ]
    }
   ],
   "source": [
    "def select_cols(X):\n",
    "    print(X.shape, X[:, selected_features[0]].shape)\n",
    "    return X[:, selected_features[0]]"
   ]
  },
  {
   "cell_type": "code",
   "execution_count": 83,
   "metadata": {},
   "outputs": [
    {
     "name": "stdout",
     "output_type": "stream",
     "text": [
      "time: 0 ns\n"
     ]
    }
   ],
   "source": [
    "def pipeline_model(category_columns1, numeric_columns, regressor):\n",
    "    numeric_steps = [('selection', FunctionTransformer(lambda x: x[numeric_columns], validate=False)), \n",
    "                    ('imputing', SimpleImputer(missing_values=np.nan, strategy='most_frequent', fill_value=None))] #mean\n",
    "                    #('scaling', StandardScaler())]\n",
    "    category_steps1 = [('selection', FunctionTransformer(lambda x: x[category_columns1], validate=False)),\n",
    "                       ('imputing', SimpleImputer(missing_values=np.nan, strategy='constant', fill_value='unknown')),\n",
    "                       ('hot_encoding', OneHotEncoder(handle_unknown = 'ignore', sparse=False))]\n",
    "    return (Pipeline(steps =[('feature_processing', FeatureUnion(transformer_list = [\n",
    "            ('numeric_variables_processing', Pipeline(steps = numeric_steps)),\n",
    "            ('category1_variables_processing', Pipeline(steps = category_steps1))])),\n",
    "            #('selection', FunctionTransformer(select_cols, validate=False)),\n",
    "            ('model_fitting', regressor)]))\n",
    "                    "
   ]
  },
  {
   "cell_type": "code",
   "execution_count": 84,
   "metadata": {},
   "outputs": [
    {
     "name": "stdout",
     "output_type": "stream",
     "text": [
      "time: 0 ns\n"
     ]
    }
   ],
   "source": [
    "from sklearn.pipeline import make_pipeline\n",
    "def pipeline_model(category_columns1, numeric_columns, regressor):\n",
    "    numeric_steps = [('selection', FunctionTransformer(lambda x: x[numeric_columns], validate=False)), \n",
    "                    ('imputing', SimpleImputer(missing_values=np.nan, strategy='most_frequent', fill_value=None))] #mean\n",
    "                    #('scaling', StandardScaler())]\n",
    "    category_steps1 = [('selection', FunctionTransformer(lambda x: x[category_columns1], validate=False)),\n",
    "                       ('imputing', SimpleImputer(missing_values=np.nan, strategy='constant', fill_value='unknown')),\n",
    "                       ('hot_encoding', OneHotEncoder(handle_unknown = 'ignore', sparse=False))]\n",
    "    return make_pipeline(Pipeline(steps =[('feature_processing', FeatureUnion(transformer_list = [\n",
    "            ('numeric_variables_processing', Pipeline(steps = numeric_steps)),\n",
    "            ('category1_variables_processing', Pipeline(steps = category_steps1))])),\n",
    "            #('selection', FunctionTransformer(select_cols, validate=False)),\n",
    "            ('model_fitting', regressor)]))\n",
    "                    "
   ]
  },
  {
   "cell_type": "code",
   "execution_count": 85,
   "metadata": {},
   "outputs": [
    {
     "name": "stdout",
     "output_type": "stream",
     "text": [
      "time: 16 ms\n"
     ]
    }
   ],
   "source": [
    "num_cols = ['accommodates',\n",
    " 'bathrooms',\n",
    " 'bedrooms',\n",
    " 'beds',\n",
    " 'square_feet',\n",
    " 'security_deposit',\n",
    " 'cleaning_fee',\n",
    " 'guests_included',\n",
    " 'extra_people',\n",
    " 'minimum_nights',\n",
    " 'latitude',\n",
    " 'longitude']"
   ]
  },
  {
   "cell_type": "code",
   "execution_count": 86,
   "metadata": {},
   "outputs": [
    {
     "name": "stdout",
     "output_type": "stream",
     "text": [
      "time: 0 ns\n"
     ]
    }
   ],
   "source": [
    "from sklearn.linear_model import Ridge\n",
    "from sklearn.neighbors import KNeighborsRegressor"
   ]
  },
  {
   "cell_type": "code",
   "execution_count": 102,
   "metadata": {},
   "outputs": [
    {
     "name": "stdout",
     "output_type": "stream",
     "text": [
      "time: 0 ns\n"
     ]
    }
   ],
   "source": [
    "pipe = pipeline_model(category_columns + cat_cols2, num_cols + ['rewiews_cnt', 'days_available', 'since', 'rew_cat'],\n",
    "                      LGBMRegressor(n_estimators=700, num_leaves=1000, objective='mape', random_state=17)) #  "
   ]
  },
  {
   "cell_type": "code",
   "execution_count": 123,
   "metadata": {},
   "outputs": [
    {
     "name": "stdout",
     "output_type": "stream",
     "text": [
      "time: 0 ns\n"
     ]
    }
   ],
   "source": [
    "pipe2 = pipeline_model(category_columns + cat_cols2, num_cols + ['rewiews_cnt', 'days_available', 'since', 'rew_cat'],\n",
    "                      CatBoostRegressor(objective='MAPE', verbose=False))"
   ]
  },
  {
   "cell_type": "code",
   "execution_count": 89,
   "metadata": {},
   "outputs": [
    {
     "name": "stdout",
     "output_type": "stream",
     "text": [
      "time: 0 ns\n"
     ]
    }
   ],
   "source": [
    "pipe3 = pipeline_model(category_columns + cat_cols2, num_cols + ['rewiews_cnt', 'days_available', 'since', 'rew_cat'],\n",
    "                      Ridge())"
   ]
  },
  {
   "cell_type": "code",
   "execution_count": 125,
   "metadata": {},
   "outputs": [
    {
     "name": "stdout",
     "output_type": "stream",
     "text": [
      "time: 0 ns\n"
     ]
    }
   ],
   "source": [
    "pipe4 = pipeline_model(category_columns + cat_cols2, num_cols + ['rewiews_cnt', 'days_available', 'since', 'rew_cat'],\n",
    "                      KNeighborsRegressor())"
   ]
  },
  {
   "cell_type": "code",
   "execution_count": 126,
   "metadata": {},
   "outputs": [
    {
     "data": {
      "text/plain": [
       "array([-39.31026631, -39.45142574, -41.06065347, -44.79150495,\n",
       "       -48.8849901 ])"
      ]
     },
     "execution_count": 126,
     "metadata": {},
     "output_type": "execute_result"
    },
    {
     "name": "stdout",
     "output_type": "stream",
     "text": [
      "time: 22.6 s\n"
     ]
    }
   ],
   "source": [
    "cross_val_score(pipe4, data_train, data_train['price'], scoring=mape_scorer)"
   ]
  },
  {
   "cell_type": "code",
   "execution_count": 155,
   "metadata": {},
   "outputs": [
    {
     "name": "stdout",
     "output_type": "stream",
     "text": [
      "time: 0 ns\n"
     ]
    }
   ],
   "source": [
    "from sklearn.ensemble import StackingRegressor\n",
    "estimators = [\n",
    "     ('lr1', pipe),\n",
    "     ('lr2', pipe2),\n",
    "     ('lr3', pipe3),\n",
    "     ('lr4', pipe4),\n",
    " ]"
   ]
  },
  {
   "cell_type": "code",
   "execution_count": 174,
   "metadata": {},
   "outputs": [
    {
     "name": "stdout",
     "output_type": "stream",
     "text": [
      "time: 0 ns\n"
     ]
    }
   ],
   "source": [
    "reg = StackingRegressor(\n",
    "     estimators=estimators,\n",
    "     final_estimator=LGBMRegressor(\n",
    "         n_estimators=100, num_leaves=300, objective='mape', random_state=42))"
   ]
  },
  {
   "cell_type": "code",
   "execution_count": 175,
   "metadata": {},
   "outputs": [
    {
     "data": {
      "text/plain": [
       "StackingRegressor(estimators=[('lr1',\n",
       "                               Pipeline(steps=[('pipeline',\n",
       "                                                Pipeline(steps=[('feature_processing',\n",
       "                                                                 FeatureUnion(transformer_list=[('numeric_variables_processing',\n",
       "                                                                                                 Pipeline(steps=[('selection',\n",
       "                                                                                                                  FunctionTransformer(func=<function pipeline_model.<locals>.<lambda> at 0x000002011C9E92F0>)),\n",
       "                                                                                                                 ('imputing',\n",
       "                                                                                                                  SimpleImputer(strategy='most_frequent'))])),\n",
       "                                                                                                ('categor...\n",
       "                                                                                                                  FunctionTransformer(func=<function pipeline_model.<locals>.<lambda> at 0x000002011EBC0C80>)),\n",
       "                                                                                                                 ('imputing',\n",
       "                                                                                                                  SimpleImputer(fill_value='unknown',\n",
       "                                                                                                                                strategy='constant')),\n",
       "                                                                                                                 ('hot_encoding',\n",
       "                                                                                                                  OneHotEncoder(handle_unknown='ignore',\n",
       "                                                                                                                                sparse=False))]))])),\n",
       "                                                                ('model_fitting',\n",
       "                                                                 KNeighborsRegressor())]))]))],\n",
       "                  final_estimator=LGBMRegressor(num_leaves=300,\n",
       "                                                objective='mape',\n",
       "                                                random_state=42))"
      ]
     },
     "execution_count": 175,
     "metadata": {},
     "output_type": "execute_result"
    },
    {
     "name": "stdout",
     "output_type": "stream",
     "text": [
      "time: 16min 26s\n"
     ]
    }
   ],
   "source": [
    "reg.fit(data_train, data_train['price'])"
   ]
  },
  {
   "cell_type": "code",
   "execution_count": 171,
   "metadata": {},
   "outputs": [
    {
     "data": {
      "text/plain": [
       "array([-22.87186498, -23.12800208, -25.82257524])"
      ]
     },
     "execution_count": 171,
     "metadata": {},
     "output_type": "execute_result"
    },
    {
     "name": "stdout",
     "output_type": "stream",
     "text": [
      "time: 28min 37s\n"
     ]
    }
   ],
   "source": [
    "cross_val_score(reg, data_train, data_train['price'], scoring=mape_scorer, cv=3)"
   ]
  },
  {
   "cell_type": "code",
   "execution_count": 112,
   "metadata": {},
   "outputs": [
    {
     "data": {
      "text/plain": [
       "-23.151291182"
      ]
     },
     "execution_count": 112,
     "metadata": {},
     "output_type": "execute_result"
    },
    {
     "name": "stdout",
     "output_type": "stream",
     "text": [
      "time: 15 ms\n"
     ]
    }
   ],
   "source": [
    "np.array([-21.1036623 , -22.0597957 , -22.44692457, -25.47907606,\n",
    "       -24.66699728]).mean()"
   ]
  },
  {
   "cell_type": "code",
   "execution_count": 173,
   "metadata": {},
   "outputs": [
    {
     "data": {
      "text/plain": [
       "-23.9408141"
      ]
     },
     "execution_count": 173,
     "metadata": {},
     "output_type": "execute_result"
    },
    {
     "name": "stdout",
     "output_type": "stream",
     "text": [
      "time: 0 ns\n"
     ]
    }
   ],
   "source": [
    "np.array([-22.87186498, -23.12800208, -25.82257524]).mean()"
   ]
  },
  {
   "cell_type": "code",
   "execution_count": 143,
   "metadata": {},
   "outputs": [
    {
     "name": "stdout",
     "output_type": "stream",
     "text": [
      "time: 0 ns\n"
     ]
    }
   ],
   "source": [
    "pipe_params={\n",
    "          #'model_fitting__objective':['mae', 'mape', 'mse'],\n",
    "    #'model_fitting__num_leaves':[200, 300, 400, 500, 600], \n",
    "    #'model_fitting__n_estimators':[50, 100, 150, 200, 300] learning_rate\n",
    "    #'model_fitting__learning_rate':[0.1, 0.07, 0.05, 0.01]\n",
    "}"
   ]
  },
  {
   "cell_type": "code",
   "execution_count": null,
   "metadata": {},
   "outputs": [],
   "source": [
    "grid = GridSearchCV(pipe, param_grid=pipe_params, scoring=mape_scorer)"
   ]
  },
  {
   "cell_type": "code",
   "execution_count": null,
   "metadata": {},
   "outputs": [],
   "source": [
    "grid.fit(data_train, data_train['price'])"
   ]
  },
  {
   "cell_type": "code",
   "execution_count": null,
   "metadata": {},
   "outputs": [],
   "source": [
    "cv_result = pd.DataFrame.from_dict(grid.cv_results_)"
   ]
  },
  {
   "cell_type": "code",
   "execution_count": null,
   "metadata": {},
   "outputs": [],
   "source": [
    "cv_result.sort_values('rank_test_score')"
   ]
  },
  {
   "cell_type": "code",
   "execution_count": 103,
   "metadata": {},
   "outputs": [
    {
     "data": {
      "text/plain": [
       "Pipeline(steps=[('pipeline',\n",
       "                 Pipeline(steps=[('feature_processing',\n",
       "                                  FeatureUnion(transformer_list=[('numeric_variables_processing',\n",
       "                                                                  Pipeline(steps=[('selection',\n",
       "                                                                                   FunctionTransformer(func=<function pipeline_model.<locals>.<lambda> at 0x000002011C9E92F0>)),\n",
       "                                                                                  ('imputing',\n",
       "                                                                                   SimpleImputer(strategy='most_frequent'))])),\n",
       "                                                                 ('category1_variables_processing',\n",
       "                                                                  Pipeline(ste...('selection',\n",
       "                                                                                   FunctionTransformer(func=<function pipeline_model.<locals>.<lambda> at 0x000002011C9E9510>)),\n",
       "                                                                                  ('imputing',\n",
       "                                                                                   SimpleImputer(fill_value='unknown',\n",
       "                                                                                                 strategy='constant')),\n",
       "                                                                                  ('hot_encoding',\n",
       "                                                                                   OneHotEncoder(handle_unknown='ignore',\n",
       "                                                                                                 sparse=False))]))])),\n",
       "                                 ('model_fitting',\n",
       "                                  LGBMRegressor(n_estimators=700,\n",
       "                                                num_leaves=1000,\n",
       "                                                objective='mape',\n",
       "                                                random_state=17))]))])"
      ]
     },
     "execution_count": 103,
     "metadata": {},
     "output_type": "execute_result"
    },
    {
     "name": "stdout",
     "output_type": "stream",
     "text": [
      "time: 1min 32s\n"
     ]
    }
   ],
   "source": [
    "pipe.fit(data_train, data_train['price'])"
   ]
  },
  {
   "cell_type": "code",
   "execution_count": 176,
   "metadata": {},
   "outputs": [
    {
     "name": "stdout",
     "output_type": "stream",
     "text": [
      "time: 12.1 s\n"
     ]
    }
   ],
   "source": [
    "result = reg.predict(data_test)"
   ]
  },
  {
   "cell_type": "code",
   "execution_count": 177,
   "metadata": {},
   "outputs": [
    {
     "data": {
      "text/plain": [
       "array([ 36.,  58.,  53., ..., 133.,  98.,  39.])"
      ]
     },
     "execution_count": 177,
     "metadata": {},
     "output_type": "execute_result"
    },
    {
     "name": "stdout",
     "output_type": "stream",
     "text": [
      "time: 15 ms\n"
     ]
    }
   ],
   "source": [
    "np.round(result)"
   ]
  },
  {
   "cell_type": "code",
   "execution_count": 178,
   "metadata": {},
   "outputs": [
    {
     "name": "stdout",
     "output_type": "stream",
     "text": [
      "time: 0 ns\n"
     ]
    }
   ],
   "source": [
    "data_test['price'] = np.round(result)"
   ]
  },
  {
   "cell_type": "code",
   "execution_count": 179,
   "metadata": {},
   "outputs": [
    {
     "name": "stdout",
     "output_type": "stream",
     "text": [
      "time: 171 ms\n"
     ]
    }
   ],
   "source": [
    "data_test[['id', 'price']].to_csv('submission.csv', index=False)"
   ]
  },
  {
   "cell_type": "code",
   "execution_count": null,
   "metadata": {},
   "outputs": [],
   "source": [
    "fig, axes = plt.subplots(len(num_cols), figsize=(16, 50), sharey=False)\n",
    "for i, col in enumerate(num_cols):\n",
    "    sns.distplot(data_train[col], ax=axes[i], color='b')\n",
    "    sns.distplot(data_test[col], ax=axes[i], color='r')\n",
    "    axes[i].set_title(col)"
   ]
  },
  {
   "cell_type": "code",
   "execution_count": null,
   "metadata": {},
   "outputs": [],
   "source": [
    "cat1_feature_names = pipe.get_params()['steps'][0][1].get_params(\n",
    "                )['transformer_list'][1][1].get_params()['steps'][2][1].get_feature_names()"
   ]
  },
  {
   "cell_type": "code",
   "execution_count": null,
   "metadata": {},
   "outputs": [],
   "source": [
    "features_df = pd.DataFrame(pipe['model_fitting'].feature_importances_, index=num_cols + cat1_feature_names.tolist(), columns=['selected'])"
   ]
  },
  {
   "cell_type": "code",
   "execution_count": null,
   "metadata": {},
   "outputs": [],
   "source": [
    "pd.options.display.max_rows = 150\n",
    "features_df.sort_values(by='selected', ascending=False)"
   ]
  },
  {
   "cell_type": "markdown",
   "metadata": {},
   "source": [
    "### Идеи\n",
    "в lgbm mape заменить заменить на стандартное <br>\n",
    "попробовать другие ограничения сверху-снизу для входной цены <br>\n",
    "Изменить количество категорий для текстовых фичей <br>\n",
    "Округлить ответ до целых"
   ]
  },
  {
   "cell_type": "code",
   "execution_count": null,
   "metadata": {},
   "outputs": [],
   "source": []
  },
  {
   "cell_type": "code",
   "execution_count": null,
   "metadata": {},
   "outputs": [],
   "source": []
  }
 ],
 "metadata": {
  "celltoolbar": "Raw Cell Format",
  "kernelspec": {
   "display_name": "Python 3",
   "language": "python",
   "name": "python3"
  },
  "language_info": {
   "codemirror_mode": {
    "name": "ipython",
    "version": 3
   },
   "file_extension": ".py",
   "mimetype": "text/x-python",
   "name": "python",
   "nbconvert_exporter": "python",
   "pygments_lexer": "ipython3",
   "version": "3.7.3"
  }
 },
 "nbformat": 4,
 "nbformat_minor": 4
}
