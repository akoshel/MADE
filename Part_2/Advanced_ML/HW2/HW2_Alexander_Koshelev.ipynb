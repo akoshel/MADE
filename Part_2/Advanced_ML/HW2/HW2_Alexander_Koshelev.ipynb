{
 "cells": [
  {
   "cell_type": "markdown",
   "id": "disciplinary-jurisdiction",
   "metadata": {},
   "source": [
    "### Imports"
   ]
  },
  {
   "cell_type": "code",
   "execution_count": 1,
   "id": "large-leeds",
   "metadata": {
    "ExecuteTime": {
     "end_time": "2021-04-09T13:38:55.569761Z",
     "start_time": "2021-04-09T13:38:50.917515Z"
    }
   },
   "outputs": [],
   "source": [
    "import pandas as pd\n",
    "import numpy as np\n",
    "import pickle\n",
    "from collections import defaultdict\n",
    "from scipy.sparse import csr_matrix\n",
    "from sklearn.linear_model import LogisticRegression, LinearRegression\n",
    "from scipy.stats import spearmanr, kendalltau"
   ]
  },
  {
   "cell_type": "markdown",
   "id": "every-classic",
   "metadata": {},
   "source": [
    "### Load data"
   ]
  },
  {
   "cell_type": "markdown",
   "id": "placed-builder",
   "metadata": {},
   "source": [
    "## Пункт 1\n",
    "Прочитайте и проанализируйте данные, выберите турниры, в которых есть данные о составах команд и повопросных результатах (поле mask в results.pkl). Для унификации предлагаю:\n",
    "взять в тренировочный набор турниры с dateStart из 2019 года; \n",
    "в тестовый — турниры с dateStart из 2020 года.\n"
   ]
  },
  {
   "cell_type": "raw",
   "id": "cultural-cycling",
   "metadata": {},
   "source": [
    "with open('players.pkl', 'rb') as f:\n",
    "    players = pickle.load(f)"
   ]
  },
  {
   "cell_type": "raw",
   "id": "burning-cattle",
   "metadata": {},
   "source": [
    "def pickle_to_df_players(dict_from_pickle):\n",
    "    d = defaultdict(list)\n",
    "    for val in dict_from_pickle.values():\n",
    "        for k, v in val.items():\n",
    "            d[k].append(v)\n",
    "    return pd.DataFrame(d)"
   ]
  },
  {
   "cell_type": "raw",
   "id": "coastal-moore",
   "metadata": {},
   "source": [
    "players_df = pickle_to_df_players(players)"
   ]
  },
  {
   "cell_type": "code",
   "execution_count": 2,
   "id": "based-registration",
   "metadata": {
    "ExecuteTime": {
     "end_time": "2021-04-09T13:38:55.709159Z",
     "start_time": "2021-04-09T13:38:55.569761Z"
    }
   },
   "outputs": [],
   "source": [
    "with open('tournaments.pkl', 'rb') as f:\n",
    "    tournaments = pickle.load(f)"
   ]
  },
  {
   "cell_type": "code",
   "execution_count": 3,
   "id": "confident-enough",
   "metadata": {
    "ExecuteTime": {
     "end_time": "2021-04-09T13:38:55.726944Z",
     "start_time": "2021-04-09T13:38:55.709159Z"
    }
   },
   "outputs": [],
   "source": [
    "def pickle_to_df_tournaments(dict_from_pickle, year):\n",
    "    d = defaultdict(list)\n",
    "    for val in dict_from_pickle.values():\n",
    "        if year is not None and val['dateStart'][:4] != year:\n",
    "            continue\n",
    "        d['id'].append(val['id'])\n",
    "        d['name'].append(val['name'])\n",
    "        d['dateStart'].append(val['dateStart'])\n",
    "        d['questionQty'].append(sum(val['questionQty'].values()))\n",
    "    return pd.DataFrame(d)"
   ]
  },
  {
   "cell_type": "code",
   "execution_count": 4,
   "id": "revolutionary-employee",
   "metadata": {
    "ExecuteTime": {
     "end_time": "2021-04-09T13:38:55.750815Z",
     "start_time": "2021-04-09T13:38:55.727941Z"
    }
   },
   "outputs": [],
   "source": [
    "train_tournaments_df = pickle_to_df_tournaments(tournaments, '2019')\n",
    "test_tournaments_df = pickle_to_df_tournaments(tournaments, '2020')"
   ]
  },
  {
   "cell_type": "raw",
   "id": "damaged-cement",
   "metadata": {},
   "source": [
    "with open('results.pkl', 'rb') as f:\n",
    "    results = pickle.load(f)"
   ]
  },
  {
   "cell_type": "raw",
   "id": "governmental-scheme",
   "metadata": {},
   "source": [
    "def pickle_to_df_results(results, tournaments_id):\n",
    "    d = defaultdict(list)\n",
    "    for idx in tournaments_id:\n",
    "        tournament_teams = results[idx]\n",
    "        for team_results in tournament_teams:\n",
    "            if 'questionsTotal' not in team_results:\n",
    "                continue\n",
    "            for player_d in team_results['teamMembers']:\n",
    "                player = player_d['player']\n",
    "                d['tournament_id'].append(idx)\n",
    "                d['team_id'].append(team_results['team']['id'])\n",
    "                d['player_id'].append(player['id'])\n",
    "                d['team_name'].append(team_results['team']['name'])\n",
    "                d['questionsTotal'].append(team_results['questionsTotal'])\n",
    "                d['mask'].append(team_results['mask'])\n",
    "                d['mask_len'].append(0 if not team_results['mask'] else len(team_results['mask']))\n",
    "                d['player_name'].append(f\"{player['surname']} {player['name']}\")\n",
    "    return pd.DataFrame(d)"
   ]
  },
  {
   "cell_type": "raw",
   "id": "tamil-manual",
   "metadata": {},
   "source": [
    "results_df_train = pickle_to_df_results(results, train_tournaments_df.id.tolist())\n",
    "\n",
    "tornament_questions_len = results_df_train.groupby('tournament_id')['mask_len'].max()\n",
    "\n",
    "results_df_train['tournament_max_question'] = results_df_train['tournament_id'].map(dict(tornament_questions_len))\n",
    "\n",
    "results_df_train = results_df_train[results_df_train['tournament_max_question'] == results_df_train['mask_len']]\n",
    "\n",
    "results_df_train.to_pickle('result_df_train.pkl')"
   ]
  },
  {
   "cell_type": "raw",
   "id": "specialized-budget",
   "metadata": {},
   "source": [
    "results_df_test = pickle_to_df_results(results, test_tournaments_df.id.tolist())\n",
    "\n",
    "tornament_questions_len = results_df_test.groupby('tournament_id')['mask_len'].max()\n",
    "\n",
    "results_df_test['tournament_max_question'] = results_df_test['tournament_id'].map(dict(tornament_questions_len))\n",
    "\n",
    "results_df_test = results_df_test[results_df_test['tournament_max_question'] == results_df_test['mask_len']]\n",
    "\n",
    "results_df_test.to_pickle('result_df_test.pkl')"
   ]
  },
  {
   "cell_type": "markdown",
   "id": "bored-fruit",
   "metadata": {},
   "source": [
    "### Load preprocessed data"
   ]
  },
  {
   "cell_type": "code",
   "execution_count": 5,
   "id": "rolled-agent",
   "metadata": {
    "ExecuteTime": {
     "end_time": "2021-04-09T13:38:56.448190Z",
     "start_time": "2021-04-09T13:38:55.752810Z"
    }
   },
   "outputs": [],
   "source": [
    "train = pd.read_pickle('result_df_train.pkl')\n",
    "test = pd.read_pickle('result_df_test.pkl')"
   ]
  },
  {
   "cell_type": "code",
   "execution_count": 6,
   "id": "impressed-african",
   "metadata": {
    "ExecuteTime": {
     "end_time": "2021-04-09T13:38:56.481300Z",
     "start_time": "2021-04-09T13:38:56.448190Z"
    }
   },
   "outputs": [
    {
     "data": {
      "text/plain": [
       "((415271, 9), (108928, 9))"
      ]
     },
     "execution_count": 6,
     "metadata": {},
     "output_type": "execute_result"
    }
   ],
   "source": [
    "train.shape, test.shape"
   ]
  },
  {
   "cell_type": "markdown",
   "id": "turned-aviation",
   "metadata": {},
   "source": [
    "## Пункт 2\n",
    "Постройте baseline-модель на основе линейной или логистической регрессии, которая будет обучать рейтинг-лист игроков. Замечания и подсказки:\n",
    "повопросные результаты — это фактически результаты броска монетки, и их предсказание скорее всего имеет отношение к бинарной классификации;\n",
    "в разных турнирах вопросы совсем разного уровня сложности, поэтому модель должна это учитывать; скорее всего, модель должна будет явно обучать не только силу каждого игрока, но и сложность каждого вопроса;\n",
    "для baseline-модели можно забыть о командах и считать, что повопросные результаты команды просто относятся к каждому из её игроков.\n"
   ]
  },
  {
   "cell_type": "code",
   "execution_count": 7,
   "id": "recreational-dressing",
   "metadata": {
    "ExecuteTime": {
     "end_time": "2021-04-09T13:38:56.642284Z",
     "start_time": "2021-04-09T13:38:56.484293Z"
    }
   },
   "outputs": [],
   "source": [
    "train = train[train['mask'].notna()]\n",
    "test  = test[test['mask'].notna()]"
   ]
  },
  {
   "cell_type": "code",
   "execution_count": 8,
   "id": "dirty-cannon",
   "metadata": {
    "ExecuteTime": {
     "end_time": "2021-04-09T13:38:56.686591Z",
     "start_time": "2021-04-09T13:38:56.645459Z"
    }
   },
   "outputs": [],
   "source": [
    "players = train.player_id.unique()\n",
    "tournaments = train.tournament_id.unique()"
   ]
  },
  {
   "cell_type": "code",
   "execution_count": 9,
   "id": "characteristic-taylor",
   "metadata": {
    "ExecuteTime": {
     "end_time": "2021-04-09T13:38:56.721513Z",
     "start_time": "2021-04-09T13:38:56.688584Z"
    }
   },
   "outputs": [],
   "source": [
    "players_new_id_map = {k: i for i, k in enumerate(players)}\n",
    "tournament_new_id_map = {k: i for i, k in enumerate(tournaments)}"
   ]
  },
  {
   "cell_type": "code",
   "execution_count": 10,
   "id": "persistent-soldier",
   "metadata": {
    "ExecuteTime": {
     "end_time": "2021-04-09T13:38:56.978286Z",
     "start_time": "2021-04-09T13:38:56.724508Z"
    }
   },
   "outputs": [],
   "source": [
    "train['player_new_id'] = train['player_id'].map(players_new_id_map)\n",
    "train['tournament_new_id'] = train['tournament_id'].map(tournament_new_id_map)\n",
    "test['player_new_id'] = test['player_id'].map(players_new_id_map)"
   ]
  },
  {
   "cell_type": "code",
   "execution_count": 11,
   "id": "theoretical-andrew",
   "metadata": {
    "ExecuteTime": {
     "end_time": "2021-04-09T13:38:57.014943Z",
     "start_time": "2021-04-09T13:38:56.978286Z"
    }
   },
   "outputs": [],
   "source": [
    "tournaments_max_questions = train.groupby('tournament_new_id')['mask_len'].max()"
   ]
  },
  {
   "cell_type": "code",
   "execution_count": 12,
   "id": "agricultural-spelling",
   "metadata": {
    "ExecuteTime": {
     "end_time": "2021-04-09T13:38:57.060247Z",
     "start_time": "2021-04-09T13:38:57.017099Z"
    }
   },
   "outputs": [],
   "source": [
    "tournament_question_start_id_dict = dict(tournaments_max_questions.cumsum() - 36)"
   ]
  },
  {
   "cell_type": "markdown",
   "id": "municipal-slovak",
   "metadata": {},
   "source": [
    "Раздадим всем вопросам на всех турнирах уникальные ID"
   ]
  },
  {
   "cell_type": "code",
   "execution_count": 13,
   "id": "bronze-basic",
   "metadata": {
    "ExecuteTime": {
     "end_time": "2021-04-09T13:39:31.300648Z",
     "start_time": "2021-04-09T13:38:57.063459Z"
    }
   },
   "outputs": [],
   "source": [
    "X, y = [], []\n",
    "for mask, playes_id, tournament_id  in zip(train['mask'], train['player_new_id'], train['tournament_new_id']):\n",
    "    for i, target in enumerate(mask):\n",
    "#         assert target in ['0', '1'], f'Got incorrect mask value: {target} (tournament_id={tid}, player_id={pid})'\n",
    "        if target == '1':\n",
    "            target = 1\n",
    "        else:\n",
    "            target = 0\n",
    "        question_id = tournament_question_start_id_dict[tournament_id] + i\n",
    "        X.append([question_id, playes_id])\n",
    "        y.append(target)\n",
    "train_X, train_y = np.array(X), np.array(y)"
   ]
  },
  {
   "cell_type": "code",
   "execution_count": 14,
   "id": "appointed-lightweight",
   "metadata": {
    "ExecuteTime": {
     "end_time": "2021-04-09T13:39:31.308627Z",
     "start_time": "2021-04-09T13:39:31.301646Z"
    }
   },
   "outputs": [],
   "source": [
    "question_max_token = tournaments_max_questions.cumsum().max()"
   ]
  },
  {
   "cell_type": "code",
   "execution_count": 15,
   "id": "material-relation",
   "metadata": {
    "ExecuteTime": {
     "end_time": "2021-04-09T13:39:31.332563Z",
     "start_time": "2021-04-09T13:39:31.310621Z"
    }
   },
   "outputs": [],
   "source": [
    "def to_csr(X):\n",
    "    x_rows = np.repeat(np.arange(X.shape[0]), 2)\n",
    "    x_cols = X.copy()\n",
    "    x_cols[:,1] += question_max_token + 1\n",
    "    x_cols = x_cols.ravel()\n",
    "    x_values = np.ones(X.shape[0] * 2, dtype=np.uint8)\n",
    "    csr_x = csr_matrix((x_values, (x_rows, x_cols)), dtype=np.uint8)\n",
    "    return csr_x"
   ]
  },
  {
   "cell_type": "code",
   "execution_count": 16,
   "id": "bridal-island",
   "metadata": {
    "ExecuteTime": {
     "end_time": "2021-04-09T13:39:32.664003Z",
     "start_time": "2021-04-09T13:39:31.334557Z"
    }
   },
   "outputs": [],
   "source": [
    "train_X_csr = to_csr(train_X)"
   ]
  },
  {
   "cell_type": "code",
   "execution_count": 17,
   "id": "material-rough",
   "metadata": {
    "ExecuteTime": {
     "end_time": "2021-04-09T13:39:32.668989Z",
     "start_time": "2021-04-09T13:39:32.664999Z"
    }
   },
   "outputs": [],
   "source": [
    "model = LogisticRegression(C=5, fit_intercept=False)"
   ]
  },
  {
   "cell_type": "code",
   "execution_count": 18,
   "id": "substantial-mexican",
   "metadata": {
    "ExecuteTime": {
     "end_time": "2021-04-09T13:41:51.269226Z",
     "start_time": "2021-04-09T13:39:32.672981Z"
    }
   },
   "outputs": [
    {
     "name": "stderr",
     "output_type": "stream",
     "text": [
      "C:\\Users\\User\\Anaconda3\\envs\\edu\\lib\\site-packages\\sklearn\\linear_model\\_logistic.py:765: ConvergenceWarning: lbfgs failed to converge (status=1):\n",
      "STOP: TOTAL NO. of ITERATIONS REACHED LIMIT.\n",
      "\n",
      "Increase the number of iterations (max_iter) or scale the data as shown in:\n",
      "    https://scikit-learn.org/stable/modules/preprocessing.html\n",
      "Please also refer to the documentation for alternative solver options:\n",
      "    https://scikit-learn.org/stable/modules/linear_model.html#logistic-regression\n",
      "  extra_warning_msg=_LOGISTIC_SOLVER_CONVERGENCE_MSG)\n"
     ]
    },
    {
     "data": {
      "text/plain": [
       "LogisticRegression(C=5, fit_intercept=False)"
      ]
     },
     "execution_count": 18,
     "metadata": {},
     "output_type": "execute_result"
    }
   ],
   "source": [
    "model.fit(train_X_csr, train_y)"
   ]
  },
  {
   "cell_type": "markdown",
   "id": "rapid-right",
   "metadata": {},
   "source": [
    "Расставим рейтинг игроков по весу, которые выставила модель для выбранного пользователя"
   ]
  },
  {
   "cell_type": "code",
   "execution_count": 19,
   "id": "cloudy-religious",
   "metadata": {
    "ExecuteTime": {
     "end_time": "2021-04-09T13:41:51.276373Z",
     "start_time": "2021-04-09T13:41:51.272384Z"
    }
   },
   "outputs": [],
   "source": [
    "player_weights = model.coef_[0, question_max_token + 1:]"
   ]
  },
  {
   "cell_type": "code",
   "execution_count": 20,
   "id": "taken-wednesday",
   "metadata": {
    "ExecuteTime": {
     "end_time": "2021-04-09T13:41:51.319233Z",
     "start_time": "2021-04-09T13:41:51.278433Z"
    }
   },
   "outputs": [],
   "source": [
    "players_rating = {i:rating for i, rating in enumerate(player_weights)}"
   ]
  },
  {
   "cell_type": "code",
   "execution_count": 21,
   "id": "vocational-russell",
   "metadata": {
    "ExecuteTime": {
     "end_time": "2021-04-09T13:41:51.625719Z",
     "start_time": "2021-04-09T13:41:51.321229Z"
    }
   },
   "outputs": [],
   "source": [
    "players_rating_df = train[['player_name', 'player_new_id']].drop_duplicates(subset=['player_new_id'])"
   ]
  },
  {
   "cell_type": "code",
   "execution_count": 22,
   "id": "absent-blues",
   "metadata": {
    "ExecuteTime": {
     "end_time": "2021-04-09T13:41:51.672733Z",
     "start_time": "2021-04-09T13:41:51.625719Z"
    }
   },
   "outputs": [],
   "source": [
    "players_rating_df['rating'] = players_rating_df['player_new_id'].map(players_rating)"
   ]
  },
  {
   "cell_type": "code",
   "execution_count": 23,
   "id": "toxic-surveillance",
   "metadata": {
    "ExecuteTime": {
     "end_time": "2021-04-09T13:41:51.688183Z",
     "start_time": "2021-04-09T13:41:51.672733Z"
    }
   },
   "outputs": [],
   "source": [
    "players_rating_df = players_rating_df.sort_values(by='rating', ascending=False)"
   ]
  },
  {
   "cell_type": "code",
   "execution_count": 24,
   "id": "informed-freedom",
   "metadata": {
    "ExecuteTime": {
     "end_time": "2021-04-09T13:41:51.719483Z",
     "start_time": "2021-04-09T13:41:51.688183Z"
    }
   },
   "outputs": [],
   "source": [
    "players_rating_df = players_rating_df.reset_index(drop=True)"
   ]
  },
  {
   "cell_type": "markdown",
   "id": "handy-resort",
   "metadata": {},
   "source": [
    "Получили вот такие результаты, где индекс показывает место в рейтинге по бейзлайн модели"
   ]
  },
  {
   "cell_type": "code",
   "execution_count": 25,
   "id": "affiliated-upgrade",
   "metadata": {
    "ExecuteTime": {
     "end_time": "2021-04-09T13:41:51.837113Z",
     "start_time": "2021-04-09T13:41:51.721479Z"
    }
   },
   "outputs": [
    {
     "data": {
      "text/html": [
       "<div>\n",
       "<style scoped>\n",
       "    .dataframe tbody tr th:only-of-type {\n",
       "        vertical-align: middle;\n",
       "    }\n",
       "\n",
       "    .dataframe tbody tr th {\n",
       "        vertical-align: top;\n",
       "    }\n",
       "\n",
       "    .dataframe thead th {\n",
       "        text-align: right;\n",
       "    }\n",
       "</style>\n",
       "<table border=\"1\" class=\"dataframe\">\n",
       "  <thead>\n",
       "    <tr style=\"text-align: right;\">\n",
       "      <th></th>\n",
       "      <th>player_name</th>\n",
       "      <th>player_new_id</th>\n",
       "      <th>rating</th>\n",
       "    </tr>\n",
       "  </thead>\n",
       "  <tbody>\n",
       "    <tr>\n",
       "      <th>0</th>\n",
       "      <td>Бурак Ирина</td>\n",
       "      <td>122</td>\n",
       "      <td>3.309359</td>\n",
       "    </tr>\n",
       "    <tr>\n",
       "      <th>1</th>\n",
       "      <td>Саранцев Алексей</td>\n",
       "      <td>131</td>\n",
       "      <td>2.871975</td>\n",
       "    </tr>\n",
       "    <tr>\n",
       "      <th>2</th>\n",
       "      <td>Руссо Максим</td>\n",
       "      <td>8222</td>\n",
       "      <td>2.471941</td>\n",
       "    </tr>\n",
       "    <tr>\n",
       "      <th>3</th>\n",
       "      <td>Семёнова Инна</td>\n",
       "      <td>22</td>\n",
       "      <td>2.361497</td>\n",
       "    </tr>\n",
       "    <tr>\n",
       "      <th>4</th>\n",
       "      <td>Выменец Юрий</td>\n",
       "      <td>0</td>\n",
       "      <td>2.357075</td>\n",
       "    </tr>\n",
       "    <tr>\n",
       "      <th>5</th>\n",
       "      <td>Брутер Александра</td>\n",
       "      <td>5957</td>\n",
       "      <td>2.355433</td>\n",
       "    </tr>\n",
       "    <tr>\n",
       "      <th>6</th>\n",
       "      <td>Семушин Иван</td>\n",
       "      <td>1209</td>\n",
       "      <td>2.331661</td>\n",
       "    </tr>\n",
       "    <tr>\n",
       "      <th>7</th>\n",
       "      <td>Либер Александр</td>\n",
       "      <td>1</td>\n",
       "      <td>2.295025</td>\n",
       "    </tr>\n",
       "    <tr>\n",
       "      <th>8</th>\n",
       "      <td>Савченков Михаил</td>\n",
       "      <td>1208</td>\n",
       "      <td>2.231117</td>\n",
       "    </tr>\n",
       "    <tr>\n",
       "      <th>9</th>\n",
       "      <td>Вальтер Дмитрий</td>\n",
       "      <td>33098</td>\n",
       "      <td>2.212643</td>\n",
       "    </tr>\n",
       "    <tr>\n",
       "      <th>10</th>\n",
       "      <td>Спешков Сергей</td>\n",
       "      <td>8244</td>\n",
       "      <td>2.152184</td>\n",
       "    </tr>\n",
       "    <tr>\n",
       "      <th>11</th>\n",
       "      <td>Королёв Василий</td>\n",
       "      <td>169</td>\n",
       "      <td>2.151003</td>\n",
       "    </tr>\n",
       "    <tr>\n",
       "      <th>12</th>\n",
       "      <td>Кудинов Дмитрий</td>\n",
       "      <td>23417</td>\n",
       "      <td>2.142837</td>\n",
       "    </tr>\n",
       "    <tr>\n",
       "      <th>13</th>\n",
       "      <td>Симанина Анна</td>\n",
       "      <td>88</td>\n",
       "      <td>2.124185</td>\n",
       "    </tr>\n",
       "    <tr>\n",
       "      <th>14</th>\n",
       "      <td>Калачёв Виталий</td>\n",
       "      <td>72</td>\n",
       "      <td>2.097808</td>\n",
       "    </tr>\n",
       "    <tr>\n",
       "      <th>15</th>\n",
       "      <td>Прокофьева Ирина</td>\n",
       "      <td>5</td>\n",
       "      <td>2.071843</td>\n",
       "    </tr>\n",
       "    <tr>\n",
       "      <th>16</th>\n",
       "      <td>Подюкова Валентина</td>\n",
       "      <td>41082</td>\n",
       "      <td>2.042532</td>\n",
       "    </tr>\n",
       "    <tr>\n",
       "      <th>17</th>\n",
       "      <td>Пилипенко Максим</td>\n",
       "      <td>45379</td>\n",
       "      <td>2.041497</td>\n",
       "    </tr>\n",
       "    <tr>\n",
       "      <th>18</th>\n",
       "      <td>Мереминский Станислав</td>\n",
       "      <td>1210</td>\n",
       "      <td>2.024727</td>\n",
       "    </tr>\n",
       "    <tr>\n",
       "      <th>19</th>\n",
       "      <td>Саксонов Антон</td>\n",
       "      <td>9661</td>\n",
       "      <td>1.917016</td>\n",
       "    </tr>\n",
       "  </tbody>\n",
       "</table>\n",
       "</div>"
      ],
      "text/plain": [
       "              player_name  player_new_id    rating\n",
       "0             Бурак Ирина            122  3.309359\n",
       "1        Саранцев Алексей            131  2.871975\n",
       "2            Руссо Максим           8222  2.471941\n",
       "3           Семёнова Инна             22  2.361497\n",
       "4            Выменец Юрий              0  2.357075\n",
       "5       Брутер Александра           5957  2.355433\n",
       "6            Семушин Иван           1209  2.331661\n",
       "7         Либер Александр              1  2.295025\n",
       "8        Савченков Михаил           1208  2.231117\n",
       "9         Вальтер Дмитрий          33098  2.212643\n",
       "10         Спешков Сергей           8244  2.152184\n",
       "11        Королёв Василий            169  2.151003\n",
       "12        Кудинов Дмитрий          23417  2.142837\n",
       "13          Симанина Анна             88  2.124185\n",
       "14        Калачёв Виталий             72  2.097808\n",
       "15       Прокофьева Ирина              5  2.071843\n",
       "16     Подюкова Валентина          41082  2.042532\n",
       "17       Пилипенко Максим          45379  2.041497\n",
       "18  Мереминский Станислав           1210  2.024727\n",
       "19         Саксонов Антон           9661  1.917016"
      ]
     },
     "execution_count": 25,
     "metadata": {},
     "output_type": "execute_result"
    }
   ],
   "source": [
    "players_rating_df.head(20)"
   ]
  },
  {
   "cell_type": "markdown",
   "id": "norwegian-extreme",
   "metadata": {},
   "source": [
    "Для проверки на адеватность проверил рейтинг в моем списке для топа игроков https://rating.chgk.info/players.php <br>\n",
    "В целом получилось, что топовые иггроки оказались на высоких позициях <br>\n",
    "PS Sorry, это все модель :)"
   ]
  },
  {
   "cell_type": "code",
   "execution_count": 26,
   "id": "nominated-marks",
   "metadata": {
    "ExecuteTime": {
     "end_time": "2021-04-09T13:41:51.868367Z",
     "start_time": "2021-04-09T13:41:51.837113Z"
    }
   },
   "outputs": [
    {
     "data": {
      "text/html": [
       "<div>\n",
       "<style scoped>\n",
       "    .dataframe tbody tr th:only-of-type {\n",
       "        vertical-align: middle;\n",
       "    }\n",
       "\n",
       "    .dataframe tbody tr th {\n",
       "        vertical-align: top;\n",
       "    }\n",
       "\n",
       "    .dataframe thead th {\n",
       "        text-align: right;\n",
       "    }\n",
       "</style>\n",
       "<table border=\"1\" class=\"dataframe\">\n",
       "  <thead>\n",
       "    <tr style=\"text-align: right;\">\n",
       "      <th></th>\n",
       "      <th>player_name</th>\n",
       "      <th>player_new_id</th>\n",
       "      <th>rating</th>\n",
       "    </tr>\n",
       "  </thead>\n",
       "  <tbody>\n",
       "    <tr>\n",
       "      <th>10196</th>\n",
       "      <td>Николенко Сергей</td>\n",
       "      <td>3</td>\n",
       "      <td>-0.294255</td>\n",
       "    </tr>\n",
       "  </tbody>\n",
       "</table>\n",
       "</div>"
      ],
      "text/plain": [
       "            player_name  player_new_id    rating\n",
       "10196  Николенко Сергей              3 -0.294255"
      ]
     },
     "execution_count": 26,
     "metadata": {},
     "output_type": "execute_result"
    }
   ],
   "source": [
    "players_rating_df[players_rating_df['player_name'] == 'Николенко Сергей']"
   ]
  },
  {
   "cell_type": "code",
   "execution_count": 27,
   "id": "certain-proceeding",
   "metadata": {
    "ExecuteTime": {
     "end_time": "2021-04-09T13:41:51.913098Z",
     "start_time": "2021-04-09T13:41:51.868367Z"
    }
   },
   "outputs": [
    {
     "data": {
      "text/html": [
       "<div>\n",
       "<style scoped>\n",
       "    .dataframe tbody tr th:only-of-type {\n",
       "        vertical-align: middle;\n",
       "    }\n",
       "\n",
       "    .dataframe tbody tr th {\n",
       "        vertical-align: top;\n",
       "    }\n",
       "\n",
       "    .dataframe thead th {\n",
       "        text-align: right;\n",
       "    }\n",
       "</style>\n",
       "<table border=\"1\" class=\"dataframe\">\n",
       "  <thead>\n",
       "    <tr style=\"text-align: right;\">\n",
       "      <th></th>\n",
       "      <th>player_name</th>\n",
       "      <th>player_new_id</th>\n",
       "      <th>rating</th>\n",
       "    </tr>\n",
       "  </thead>\n",
       "  <tbody>\n",
       "    <tr>\n",
       "      <th>63</th>\n",
       "      <td>Сорожкин Артём</td>\n",
       "      <td>155</td>\n",
       "      <td>1.687601</td>\n",
       "    </tr>\n",
       "  </tbody>\n",
       "</table>\n",
       "</div>"
      ],
      "text/plain": [
       "       player_name  player_new_id    rating\n",
       "63  Сорожкин Артём            155  1.687601"
      ]
     },
     "execution_count": 27,
     "metadata": {},
     "output_type": "execute_result"
    }
   ],
   "source": [
    "players_rating_df[players_rating_df['player_name'] == 'Сорожкин Артём']"
   ]
  },
  {
   "cell_type": "code",
   "execution_count": 28,
   "id": "celtic-wealth",
   "metadata": {
    "ExecuteTime": {
     "end_time": "2021-04-09T13:41:51.939307Z",
     "start_time": "2021-04-09T13:41:51.915092Z"
    }
   },
   "outputs": [
    {
     "data": {
      "text/html": [
       "<div>\n",
       "<style scoped>\n",
       "    .dataframe tbody tr th:only-of-type {\n",
       "        vertical-align: middle;\n",
       "    }\n",
       "\n",
       "    .dataframe tbody tr th {\n",
       "        vertical-align: top;\n",
       "    }\n",
       "\n",
       "    .dataframe thead th {\n",
       "        text-align: right;\n",
       "    }\n",
       "</style>\n",
       "<table border=\"1\" class=\"dataframe\">\n",
       "  <thead>\n",
       "    <tr style=\"text-align: right;\">\n",
       "      <th></th>\n",
       "      <th>player_name</th>\n",
       "      <th>player_new_id</th>\n",
       "      <th>rating</th>\n",
       "    </tr>\n",
       "  </thead>\n",
       "  <tbody>\n",
       "    <tr>\n",
       "      <th>8</th>\n",
       "      <td>Савченков Михаил</td>\n",
       "      <td>1208</td>\n",
       "      <td>2.231117</td>\n",
       "    </tr>\n",
       "  </tbody>\n",
       "</table>\n",
       "</div>"
      ],
      "text/plain": [
       "        player_name  player_new_id    rating\n",
       "8  Савченков Михаил           1208  2.231117"
      ]
     },
     "execution_count": 28,
     "metadata": {},
     "output_type": "execute_result"
    }
   ],
   "source": [
    "players_rating_df[players_rating_df['player_name'] == 'Савченков Михаил']"
   ]
  },
  {
   "cell_type": "code",
   "execution_count": 29,
   "id": "acceptable-netherlands",
   "metadata": {
    "ExecuteTime": {
     "end_time": "2021-04-09T13:41:51.960208Z",
     "start_time": "2021-04-09T13:41:51.941258Z"
    }
   },
   "outputs": [
    {
     "data": {
      "text/html": [
       "<div>\n",
       "<style scoped>\n",
       "    .dataframe tbody tr th:only-of-type {\n",
       "        vertical-align: middle;\n",
       "    }\n",
       "\n",
       "    .dataframe tbody tr th {\n",
       "        vertical-align: top;\n",
       "    }\n",
       "\n",
       "    .dataframe thead th {\n",
       "        text-align: right;\n",
       "    }\n",
       "</style>\n",
       "<table border=\"1\" class=\"dataframe\">\n",
       "  <thead>\n",
       "    <tr style=\"text-align: right;\">\n",
       "      <th></th>\n",
       "      <th>player_name</th>\n",
       "      <th>player_new_id</th>\n",
       "      <th>rating</th>\n",
       "    </tr>\n",
       "  </thead>\n",
       "  <tbody>\n",
       "    <tr>\n",
       "      <th>211</th>\n",
       "      <td>Левандовский Михаил</td>\n",
       "      <td>2</td>\n",
       "      <td>1.373052</td>\n",
       "    </tr>\n",
       "  </tbody>\n",
       "</table>\n",
       "</div>"
      ],
      "text/plain": [
       "             player_name  player_new_id    rating\n",
       "211  Левандовский Михаил              2  1.373052"
      ]
     },
     "execution_count": 29,
     "metadata": {},
     "output_type": "execute_result"
    }
   ],
   "source": [
    "players_rating_df[players_rating_df['player_name'] == 'Левандовский Михаил']"
   ]
  },
  {
   "cell_type": "code",
   "execution_count": 30,
   "id": "sixth-schema",
   "metadata": {
    "ExecuteTime": {
     "end_time": "2021-04-09T13:41:51.996772Z",
     "start_time": "2021-04-09T13:41:51.962201Z"
    }
   },
   "outputs": [
    {
     "data": {
      "text/html": [
       "<div>\n",
       "<style scoped>\n",
       "    .dataframe tbody tr th:only-of-type {\n",
       "        vertical-align: middle;\n",
       "    }\n",
       "\n",
       "    .dataframe tbody tr th {\n",
       "        vertical-align: top;\n",
       "    }\n",
       "\n",
       "    .dataframe thead th {\n",
       "        text-align: right;\n",
       "    }\n",
       "</style>\n",
       "<table border=\"1\" class=\"dataframe\">\n",
       "  <thead>\n",
       "    <tr style=\"text-align: right;\">\n",
       "      <th></th>\n",
       "      <th>player_name</th>\n",
       "      <th>player_new_id</th>\n",
       "      <th>rating</th>\n",
       "    </tr>\n",
       "  </thead>\n",
       "  <tbody>\n",
       "    <tr>\n",
       "      <th>5</th>\n",
       "      <td>Брутер Александра</td>\n",
       "      <td>5957</td>\n",
       "      <td>2.355433</td>\n",
       "    </tr>\n",
       "  </tbody>\n",
       "</table>\n",
       "</div>"
      ],
      "text/plain": [
       "         player_name  player_new_id    rating\n",
       "5  Брутер Александра           5957  2.355433"
      ]
     },
     "execution_count": 30,
     "metadata": {},
     "output_type": "execute_result"
    }
   ],
   "source": [
    "players_rating_df[players_rating_df['player_name'] == 'Брутер Александра']"
   ]
  },
  {
   "cell_type": "markdown",
   "id": "crazy-scene",
   "metadata": {},
   "source": [
    "## Пункт 3\n",
    "Качество рейтинг-системы оценивается качеством предсказаний результатов турниров. Но сами повопросные результаты наши модели предсказывать вряд ли смогут, ведь неизвестно, насколько сложными окажутся вопросы в будущих турнирах; да и не нужны эти предсказания сами по себе. Поэтому:\n",
    "предложите способ предсказать результаты нового турнира с известными составами, но неизвестными вопросами, в виде ранжирования команд;\n",
    "в качестве метрики качества на тестовом наборе давайте считать ранговые корреляции Спирмена и Кендалла (их можно взять в пакете scipy) между реальным ранжированием в результатах турнира и предсказанным моделью, усреднённые по тестовому множеству турниров."
   ]
  },
  {
   "cell_type": "code",
   "execution_count": 31,
   "id": "lined-quarter",
   "metadata": {
    "ExecuteTime": {
     "end_time": "2021-04-09T13:41:52.015723Z",
     "start_time": "2021-04-09T13:41:51.998768Z"
    }
   },
   "outputs": [],
   "source": [
    "def get_team_rate(model, players):\n",
    "    player_weights = model.coef_[0, question_max_token + 1:]\n",
    "    players_rating = {i:rating for i, rating in enumerate(player_weights)}\n",
    "    rates = np.array([players_rating[player_id] for player_id in players])\n",
    "    return 1 - np.prod(1 - rates)"
   ]
  },
  {
   "cell_type": "code",
   "execution_count": 32,
   "id": "proper-lesbian",
   "metadata": {
    "ExecuteTime": {
     "end_time": "2021-04-09T13:41:52.040754Z",
     "start_time": "2021-04-09T13:41:52.017716Z"
    }
   },
   "outputs": [],
   "source": [
    "def get_scores(df, model):\n",
    "    spearman_scores = []\n",
    "    kendall_scores = []\n",
    "    for _, tournament_df in df.groupby('tournament_id'):\n",
    "        true_scores = []\n",
    "        pred_scores = []\n",
    "        for _, team_df in tournament_df.groupby('team_id'):\n",
    "            team_players = team_df.player_new_id.values\n",
    "            team_true_score = team_df.questionsTotal.iloc[0]\n",
    "            team_pred_score = get_team_rate(model, team_players)\n",
    "            true_scores.append(team_true_score)\n",
    "            pred_scores.append(team_pred_score)\n",
    "        spearman_scores.append(spearmanr(true_scores, pred_scores).correlation)\n",
    "        kendall_scores.append(kendalltau(true_scores, pred_scores).correlation)\n",
    "    return np.array(spearman_scores), np.array(kendall_scores)"
   ]
  },
  {
   "cell_type": "code",
   "execution_count": 33,
   "id": "charitable-beijing",
   "metadata": {
    "ExecuteTime": {
     "end_time": "2021-04-09T13:54:53.885097Z",
     "start_time": "2021-04-09T13:41:52.042750Z"
    }
   },
   "outputs": [
    {
     "name": "stderr",
     "output_type": "stream",
     "text": [
      "C:\\Users\\User\\AppData\\Roaming\\Python\\Python37\\site-packages\\scipy\\stats\\stats.py:4264: SpearmanRConstantInputWarning: An input array is constant; the correlation coefficent is not defined.\n",
      "  warnings.warn(SpearmanRConstantInputWarning())\n"
     ]
    }
   ],
   "source": [
    "spearman_scores, kendall_scores = get_scores(train, model)"
   ]
  },
  {
   "cell_type": "markdown",
   "id": "japanese-complement",
   "metadata": {},
   "source": [
    "Усредненные результаты корреляций"
   ]
  },
  {
   "cell_type": "code",
   "execution_count": 34,
   "id": "functioning-symbol",
   "metadata": {
    "ExecuteTime": {
     "end_time": "2021-04-09T13:54:53.907179Z",
     "start_time": "2021-04-09T13:54:53.885097Z"
    }
   },
   "outputs": [
    {
     "data": {
      "text/plain": [
       "(0.7683373991577641, 0.61227306918948)"
      ]
     },
     "execution_count": 34,
     "metadata": {},
     "output_type": "execute_result"
    }
   ],
   "source": [
    "spearman_scores[~np.isnan(spearman_scores)].mean(), kendall_scores[~np.isnan(kendall_scores)].mean()"
   ]
  },
  {
   "cell_type": "markdown",
   "id": "corporate-renewal",
   "metadata": {},
   "source": [
    "## Пункт 4 \n",
    "Теперь главное: ЧГК — это всё-таки командная игра. Поэтому:\n",
    "предложите способ учитывать то, что на вопрос отвечают сразу несколько игроков; скорее всего, понадобятся скрытые переменные; не стесняйтесь делать упрощающие предположения, но теперь переменные “игрок X ответил на вопрос Y” при условии данных должны стать зависимыми для игроков одной и той же команды;\n",
    "разработайте EM-схему для обучения этой модели, реализуйте её в коде;\n",
    "обучите несколько итераций, убедитесь, что целевые метрики со временем растут (скорее всего, ненамного, но расти должны), выберите лучшую модель, используя целевые метрики. <br>\n",
    "Составим ЕМ схему на основе линейной регрессии. Скрытые переменные после Е шага будем передавать как веса на М шаге, где происходит перерасчет модели"
   ]
  },
  {
   "cell_type": "code",
   "execution_count": 35,
   "id": "fallen-siemens",
   "metadata": {
    "ExecuteTime": {
     "end_time": "2021-04-09T13:54:53.917153Z",
     "start_time": "2021-04-09T13:54:53.909176Z"
    }
   },
   "outputs": [],
   "source": [
    "def make_prediction_meta(results):\n",
    "    q_tokens, team_ids, y = [], [], []\n",
    "    for mask, tournament_id, team_id in zip(results['mask'], results.tournament_new_id, results.team_id):\n",
    "        q_tokens.extend([tournament_question_start_id_dict[tournament_id] + i for i in range(len(mask))])\n",
    "        team_ids.extend([team_id] * len(mask))  \n",
    "        y.extend([True if c == '1' else False for c in mask])\n",
    "    return pd.DataFrame({'question_token': q_tokens, 'team_id': team_ids, 'team_answered': y})"
   ]
  },
  {
   "cell_type": "code",
   "execution_count": 36,
   "id": "divided-audio",
   "metadata": {
    "ExecuteTime": {
     "end_time": "2021-04-09T13:55:20.146925Z",
     "start_time": "2021-04-09T13:54:53.919145Z"
    }
   },
   "outputs": [],
   "source": [
    "train_meta = make_prediction_meta(train)"
   ]
  },
  {
   "cell_type": "code",
   "execution_count": 37,
   "id": "intensive-comparative",
   "metadata": {
    "ExecuteTime": {
     "end_time": "2021-04-09T13:55:20.155859Z",
     "start_time": "2021-04-09T13:55:20.146925Z"
    }
   },
   "outputs": [],
   "source": [
    "def sigmoid(x):\n",
    "    return 1 / (1 + np.exp(-x))"
   ]
  },
  {
   "cell_type": "code",
   "execution_count": 38,
   "id": "fancy-trunk",
   "metadata": {
    "ExecuteTime": {
     "end_time": "2021-04-09T13:55:20.182535Z",
     "start_time": "2021-04-09T13:55:20.158849Z"
    }
   },
   "outputs": [],
   "source": [
    "def e_step(model, X, meta):\n",
    "    meta = meta.copy()\n",
    "    pred = model.predict(X)\n",
    "    pred = sigmoid(pred)\n",
    "    if len(pred.shape) == 2:\n",
    "        pred = pred[:,1] if pred.shape[1] == 2 else pred.ravel()\n",
    "    meta['pred'] = pred\n",
    "    meta['player_fail_proba'] = 1 - pred\n",
    "    team_fail_proba = meta.groupby(['question_token', 'team_id'])['player_fail_proba'].prod().rename('team_fail_proba')\n",
    "    meta = meta.merge(team_fail_proba, left_on=['question_token', 'team_id'], right_index=True)\n",
    "    meta['team_success_proba'] = 1 - meta['team_fail_proba']\n",
    "    meta['normalized_pred'] = meta.pred / meta['team_success_proba']\n",
    "    meta['expected_player_answers'] = np.where(meta.team_answered, meta.normalized_pred, 0)\n",
    "    return meta.expected_player_answers.values"
   ]
  },
  {
   "cell_type": "code",
   "execution_count": 39,
   "id": "artistic-arabic",
   "metadata": {
    "ExecuteTime": {
     "end_time": "2021-04-09T13:55:20.198156Z",
     "start_time": "2021-04-09T13:55:20.182535Z"
    }
   },
   "outputs": [],
   "source": [
    "def m_step(model, X, train_y, expected_player_probas):\n",
    "    model.fit(X, train_y, sample_weight=expected_player_probas)\n",
    "    return model"
   ]
  },
  {
   "cell_type": "code",
   "execution_count": 40,
   "id": "special-planning",
   "metadata": {
    "ExecuteTime": {
     "end_time": "2021-04-09T13:55:29.735575Z",
     "start_time": "2021-04-09T13:55:20.198156Z"
    }
   },
   "outputs": [],
   "source": [
    "weights = e_step(model, train_X_csr, train_meta)"
   ]
  },
  {
   "cell_type": "code",
   "execution_count": 41,
   "id": "level-atlantic",
   "metadata": {
    "ExecuteTime": {
     "end_time": "2021-04-09T13:55:29.745206Z",
     "start_time": "2021-04-09T13:55:29.735575Z"
    }
   },
   "outputs": [
    {
     "data": {
      "text/plain": [
       "((17852183, 3), (17852183,), (17852183, 90810))"
      ]
     },
     "execution_count": 41,
     "metadata": {},
     "output_type": "execute_result"
    }
   ],
   "source": [
    "train_meta.shape, weights.shape, train_X_csr.shape"
   ]
  },
  {
   "cell_type": "code",
   "execution_count": 42,
   "id": "geographic-integration",
   "metadata": {
    "ExecuteTime": {
     "end_time": "2021-04-09T13:55:29.766930Z",
     "start_time": "2021-04-09T13:55:29.748199Z"
    }
   },
   "outputs": [],
   "source": [
    "def get_team_rate(model, players):\n",
    "    player_weights = model.coef_[question_max_token + 1:]\n",
    "    players_rating = {i:rating for i, rating in enumerate(player_weights)}\n",
    "    rates = np.array([players_rating[player_id] for player_id in players])\n",
    "    return 1 - np.prod(1 - rates)\n",
    "\n",
    "def get_scores(df, model):\n",
    "    spearman_scores = []\n",
    "    kendall_scores = []\n",
    "    for _, tournament_df in df.groupby('tournament_id'):\n",
    "        true_scores = []\n",
    "        pred_scores = []\n",
    "        for _, team_df in tournament_df.groupby('team_id'):\n",
    "            team_players = team_df.player_new_id.values\n",
    "            team_true_score = team_df.questionsTotal.iloc[0]\n",
    "            team_pred_score = get_team_rate(model, team_players)\n",
    "            true_scores.append(team_true_score)\n",
    "            pred_scores.append(team_pred_score)\n",
    "        spearman_scores.append(spearmanr(true_scores, pred_scores).correlation)\n",
    "        kendall_scores.append(kendalltau(true_scores, pred_scores).correlation)\n",
    "    return np.array(spearman_scores), np.array(kendall_scores)"
   ]
  },
  {
   "cell_type": "code",
   "execution_count": 43,
   "id": "acknowledged-logistics",
   "metadata": {
    "ExecuteTime": {
     "end_time": "2021-04-09T15:13:56.935834Z",
     "start_time": "2021-04-09T13:55:29.766930Z"
    }
   },
   "outputs": [
    {
     "name": "stdout",
     "output_type": "stream",
     "text": [
      "Step 0\n"
     ]
    },
    {
     "name": "stderr",
     "output_type": "stream",
     "text": [
      "C:\\Users\\User\\AppData\\Roaming\\Python\\Python37\\site-packages\\scipy\\stats\\stats.py:4264: SpearmanRConstantInputWarning: An input array is constant; the correlation coefficent is not defined.\n",
      "  warnings.warn(SpearmanRConstantInputWarning())\n"
     ]
    },
    {
     "name": "stdout",
     "output_type": "stream",
     "text": [
      "0.8252373429417303 0.6728593890833944\n",
      "Step 1\n"
     ]
    },
    {
     "name": "stderr",
     "output_type": "stream",
     "text": [
      "C:\\Users\\User\\AppData\\Roaming\\Python\\Python37\\site-packages\\scipy\\stats\\stats.py:4264: SpearmanRConstantInputWarning: An input array is constant; the correlation coefficent is not defined.\n",
      "  warnings.warn(SpearmanRConstantInputWarning())\n"
     ]
    },
    {
     "name": "stdout",
     "output_type": "stream",
     "text": [
      "0.8257611934147547 0.673262457992201\n",
      "Step 2\n"
     ]
    },
    {
     "name": "stderr",
     "output_type": "stream",
     "text": [
      "C:\\Users\\User\\AppData\\Roaming\\Python\\Python37\\site-packages\\scipy\\stats\\stats.py:4264: SpearmanRConstantInputWarning: An input array is constant; the correlation coefficent is not defined.\n",
      "  warnings.warn(SpearmanRConstantInputWarning())\n"
     ]
    },
    {
     "name": "stdout",
     "output_type": "stream",
     "text": [
      "0.8257495803482544 0.6732371021752803\n",
      "Step 3\n"
     ]
    },
    {
     "name": "stderr",
     "output_type": "stream",
     "text": [
      "C:\\Users\\User\\AppData\\Roaming\\Python\\Python37\\site-packages\\scipy\\stats\\stats.py:4264: SpearmanRConstantInputWarning: An input array is constant; the correlation coefficent is not defined.\n",
      "  warnings.warn(SpearmanRConstantInputWarning())\n"
     ]
    },
    {
     "name": "stdout",
     "output_type": "stream",
     "text": [
      "0.8257493850729275 0.6732369280553763\n",
      "Step 4\n"
     ]
    },
    {
     "name": "stderr",
     "output_type": "stream",
     "text": [
      "C:\\Users\\User\\AppData\\Roaming\\Python\\Python37\\site-packages\\scipy\\stats\\stats.py:4264: SpearmanRConstantInputWarning: An input array is constant; the correlation coefficent is not defined.\n",
      "  warnings.warn(SpearmanRConstantInputWarning())\n"
     ]
    },
    {
     "name": "stdout",
     "output_type": "stream",
     "text": [
      "0.8257495299377987 0.6732370157087451\n"
     ]
    }
   ],
   "source": [
    "model = LinearRegression(fit_intercept=False)\n",
    "model.fit(train_X_csr, train_y)\n",
    "for i in range(5):\n",
    "    print(f'Step {i}')\n",
    "    expected_player_probas = e_step(model, train_X_csr, train_meta)\n",
    "    model = m_step(model, train_X_csr, train_y, expected_player_probas)\n",
    "    spearman, kendall = get_scores(train, model)\n",
    "    print(spearman[~np.isnan(spearman)].mean(), kendall[~np.isnan(kendall)].mean())"
   ]
  },
  {
   "cell_type": "markdown",
   "id": "refined-package",
   "metadata": {
    "ExecuteTime": {
     "end_time": "2021-04-04T18:12:37.632154Z",
     "start_time": "2021-04-04T18:12:37.622157Z"
    }
   },
   "source": [
    "## Пункт 5"
   ]
  },
  {
   "cell_type": "markdown",
   "id": "worldwide-cabinet",
   "metadata": {},
   "source": [
    "А что там с вопросами? Постройте “рейтинг-лист” турниров по сложности вопросов. Соответствует ли он интуиции (например, на чемпионате мира в целом должны быть сложные вопросы, а на турнирах для школьников — простые)? Если будет интересно: постройте топ сложных и простых вопросов со ссылками на конкретные записи в базе вопросов ЧГК (это чисто техническое дело, тут никакого ML нету)."
   ]
  },
  {
   "cell_type": "code",
   "execution_count": 44,
   "id": "meaning-convention",
   "metadata": {
    "ExecuteTime": {
     "end_time": "2021-04-09T15:13:56.974540Z",
     "start_time": "2021-04-09T15:13:56.969555Z"
    }
   },
   "outputs": [],
   "source": [
    "question_ratings = model.coef_[:question_max_token+1]"
   ]
  },
  {
   "cell_type": "code",
   "execution_count": 45,
   "id": "scenic-tooth",
   "metadata": {
    "ExecuteTime": {
     "end_time": "2021-04-09T15:13:57.869924Z",
     "start_time": "2021-04-09T15:13:56.976536Z"
    }
   },
   "outputs": [],
   "source": [
    "tournament_diff = {}\n",
    "i = 0\n",
    "for tournament_new_id in train.tournament_new_id.unique():\n",
    "    question_diff = []\n",
    "    for _ in range(train[train['tournament_new_id'] == tournament_new_id].mask_len.max()):\n",
    "        question_diff.append(question_ratings[i-1])\n",
    "        i += 1\n",
    "    tournament_diff[tournament_new_id] = np.mean(question_diff)"
   ]
  },
  {
   "cell_type": "code",
   "execution_count": 46,
   "id": "public-reynolds",
   "metadata": {
    "ExecuteTime": {
     "end_time": "2021-04-09T15:13:57.893605Z",
     "start_time": "2021-04-09T15:13:57.877940Z"
    }
   },
   "outputs": [],
   "source": [
    "train['tournament_rating'] = train['tournament_new_id'].map(tournament_diff)"
   ]
  },
  {
   "cell_type": "code",
   "execution_count": 47,
   "id": "confirmed-monday",
   "metadata": {
    "ExecuteTime": {
     "end_time": "2021-04-09T15:13:57.925533Z",
     "start_time": "2021-04-09T15:13:57.893605Z"
    }
   },
   "outputs": [],
   "source": [
    "tournament_rating_df = train.drop_duplicates(subset=['tournament_id']).sort_values(\n",
    "    by='tournament_rating', ascending=True)[['tournament_id', 'tournament_rating']]"
   ]
  },
  {
   "cell_type": "code",
   "execution_count": 48,
   "id": "harmful-assistant",
   "metadata": {
    "ExecuteTime": {
     "end_time": "2021-04-09T15:13:57.957874Z",
     "start_time": "2021-04-09T15:13:57.927528Z"
    }
   },
   "outputs": [],
   "source": [
    "tournament_rating_df = pd.merge(tournament_rating_df, train_tournaments_df[['id', 'name']], left_on='tournament_id', right_on='id', how='inner')"
   ]
  },
  {
   "cell_type": "code",
   "execution_count": 49,
   "id": "collected-economics",
   "metadata": {
    "ExecuteTime": {
     "end_time": "2021-04-09T15:13:57.973499Z",
     "start_time": "2021-04-09T15:13:57.957874Z"
    }
   },
   "outputs": [
    {
     "data": {
      "text/html": [
       "<div>\n",
       "<style scoped>\n",
       "    .dataframe tbody tr th:only-of-type {\n",
       "        vertical-align: middle;\n",
       "    }\n",
       "\n",
       "    .dataframe tbody tr th {\n",
       "        vertical-align: top;\n",
       "    }\n",
       "\n",
       "    .dataframe thead th {\n",
       "        text-align: right;\n",
       "    }\n",
       "</style>\n",
       "<table border=\"1\" class=\"dataframe\">\n",
       "  <thead>\n",
       "    <tr style=\"text-align: right;\">\n",
       "      <th></th>\n",
       "      <th>tournament_id</th>\n",
       "      <th>tournament_rating</th>\n",
       "      <th>id</th>\n",
       "      <th>name</th>\n",
       "    </tr>\n",
       "  </thead>\n",
       "  <tbody>\n",
       "    <tr>\n",
       "      <th>0</th>\n",
       "      <td>5928</td>\n",
       "      <td>-0.045036</td>\n",
       "      <td>5928</td>\n",
       "      <td>Угрюмый Ёрш</td>\n",
       "    </tr>\n",
       "    <tr>\n",
       "      <th>1</th>\n",
       "      <td>5159</td>\n",
       "      <td>-0.029176</td>\n",
       "      <td>5159</td>\n",
       "      <td>Первенство правого полушария</td>\n",
       "    </tr>\n",
       "    <tr>\n",
       "      <th>2</th>\n",
       "      <td>5684</td>\n",
       "      <td>-0.024599</td>\n",
       "      <td>5684</td>\n",
       "      <td>Синхрон высшей лиги Москвы</td>\n",
       "    </tr>\n",
       "    <tr>\n",
       "      <th>3</th>\n",
       "      <td>5827</td>\n",
       "      <td>-0.010098</td>\n",
       "      <td>5827</td>\n",
       "      <td>Шестой киевский марафон. Асинхрон</td>\n",
       "    </tr>\n",
       "    <tr>\n",
       "      <th>4</th>\n",
       "      <td>5943</td>\n",
       "      <td>-0.005813</td>\n",
       "      <td>5943</td>\n",
       "      <td>Чемпионат Мира. Этап 2 Группа С</td>\n",
       "    </tr>\n",
       "  </tbody>\n",
       "</table>\n",
       "</div>"
      ],
      "text/plain": [
       "   tournament_id  tournament_rating    id                               name\n",
       "0           5928          -0.045036  5928                        Угрюмый Ёрш\n",
       "1           5159          -0.029176  5159       Первенство правого полушария\n",
       "2           5684          -0.024599  5684         Синхрон высшей лиги Москвы\n",
       "3           5827          -0.010098  5827  Шестой киевский марафон. Асинхрон\n",
       "4           5943          -0.005813  5943    Чемпионат Мира. Этап 2 Группа С"
      ]
     },
     "execution_count": 49,
     "metadata": {},
     "output_type": "execute_result"
    }
   ],
   "source": [
    "tournament_rating_df.head()"
   ]
  },
  {
   "cell_type": "code",
   "execution_count": 50,
   "id": "prime-twist",
   "metadata": {
    "ExecuteTime": {
     "end_time": "2021-04-09T15:13:57.989260Z",
     "start_time": "2021-04-09T15:13:57.973499Z"
    }
   },
   "outputs": [
    {
     "data": {
      "text/html": [
       "<div>\n",
       "<style scoped>\n",
       "    .dataframe tbody tr th:only-of-type {\n",
       "        vertical-align: middle;\n",
       "    }\n",
       "\n",
       "    .dataframe tbody tr th {\n",
       "        vertical-align: top;\n",
       "    }\n",
       "\n",
       "    .dataframe thead th {\n",
       "        text-align: right;\n",
       "    }\n",
       "</style>\n",
       "<table border=\"1\" class=\"dataframe\">\n",
       "  <thead>\n",
       "    <tr style=\"text-align: right;\">\n",
       "      <th></th>\n",
       "      <th>tournament_id</th>\n",
       "      <th>tournament_rating</th>\n",
       "      <th>id</th>\n",
       "      <th>name</th>\n",
       "    </tr>\n",
       "  </thead>\n",
       "  <tbody>\n",
       "    <tr>\n",
       "      <th>670</th>\n",
       "      <td>5009</td>\n",
       "      <td>0.633034</td>\n",
       "      <td>5009</td>\n",
       "      <td>(а)Синхрон-lite. Лига старта. Эпизод III</td>\n",
       "    </tr>\n",
       "    <tr>\n",
       "      <th>671</th>\n",
       "      <td>5012</td>\n",
       "      <td>0.652456</td>\n",
       "      <td>5012</td>\n",
       "      <td>Школьный Синхрон-lite. Выпуск 2.5</td>\n",
       "    </tr>\n",
       "    <tr>\n",
       "      <th>672</th>\n",
       "      <td>5936</td>\n",
       "      <td>0.659953</td>\n",
       "      <td>5936</td>\n",
       "      <td>Школьная лига. I тур.</td>\n",
       "    </tr>\n",
       "    <tr>\n",
       "      <th>673</th>\n",
       "      <td>5013</td>\n",
       "      <td>0.678249</td>\n",
       "      <td>5013</td>\n",
       "      <td>(а)Синхрон-lite. Лига старта. Эпизод V</td>\n",
       "    </tr>\n",
       "    <tr>\n",
       "      <th>674</th>\n",
       "      <td>5955</td>\n",
       "      <td>0.680198</td>\n",
       "      <td>5955</td>\n",
       "      <td>Школьная лига. III тур.</td>\n",
       "    </tr>\n",
       "  </tbody>\n",
       "</table>\n",
       "</div>"
      ],
      "text/plain": [
       "     tournament_id  tournament_rating    id  \\\n",
       "670           5009           0.633034  5009   \n",
       "671           5012           0.652456  5012   \n",
       "672           5936           0.659953  5936   \n",
       "673           5013           0.678249  5013   \n",
       "674           5955           0.680198  5955   \n",
       "\n",
       "                                         name  \n",
       "670  (а)Синхрон-lite. Лига старта. Эпизод III  \n",
       "671         Школьный Синхрон-lite. Выпуск 2.5  \n",
       "672                     Школьная лига. I тур.  \n",
       "673    (а)Синхрон-lite. Лига старта. Эпизод V  \n",
       "674                   Школьная лига. III тур.  "
      ]
     },
     "execution_count": 50,
     "metadata": {},
     "output_type": "execute_result"
    }
   ],
   "source": [
    "tournament_rating_df.tail()"
   ]
  },
  {
   "cell_type": "markdown",
   "id": "apart-receiver",
   "metadata": {},
   "source": [
    "### Рейтинг игроков"
   ]
  },
  {
   "cell_type": "code",
   "execution_count": 51,
   "id": "expired-henry",
   "metadata": {
    "ExecuteTime": {
     "end_time": "2021-04-09T15:13:58.108242Z",
     "start_time": "2021-04-09T15:13:57.991256Z"
    }
   },
   "outputs": [],
   "source": [
    "player_weights = model.coef_[question_max_token + 1:]\n",
    "\n",
    "players_rating = {i:rating for i, rating in enumerate(player_weights)}\n",
    "\n",
    "players_rating_df = train[['player_name', 'player_new_id']].drop_duplicates(subset=['player_new_id'])\n",
    "\n",
    "players_rating_df['rating'] = players_rating_df['player_new_id'].map(players_rating)\n",
    "\n",
    "players_rating_df = players_rating_df.sort_values(by='rating', ascending=False)\n",
    "\n",
    "players_rating_df = players_rating_df.reset_index(drop=True)"
   ]
  },
  {
   "cell_type": "code",
   "execution_count": 52,
   "id": "polar-scheduling",
   "metadata": {
    "ExecuteTime": {
     "end_time": "2021-04-09T15:13:58.122294Z",
     "start_time": "2021-04-09T15:13:58.110237Z"
    }
   },
   "outputs": [
    {
     "data": {
      "text/html": [
       "<div>\n",
       "<style scoped>\n",
       "    .dataframe tbody tr th:only-of-type {\n",
       "        vertical-align: middle;\n",
       "    }\n",
       "\n",
       "    .dataframe tbody tr th {\n",
       "        vertical-align: top;\n",
       "    }\n",
       "\n",
       "    .dataframe thead th {\n",
       "        text-align: right;\n",
       "    }\n",
       "</style>\n",
       "<table border=\"1\" class=\"dataframe\">\n",
       "  <thead>\n",
       "    <tr style=\"text-align: right;\">\n",
       "      <th></th>\n",
       "      <th>player_name</th>\n",
       "      <th>player_new_id</th>\n",
       "      <th>rating</th>\n",
       "    </tr>\n",
       "  </thead>\n",
       "  <tbody>\n",
       "    <tr>\n",
       "      <th>0</th>\n",
       "      <td>Ушаков Илья</td>\n",
       "      <td>34927</td>\n",
       "      <td>1.041344</td>\n",
       "    </tr>\n",
       "    <tr>\n",
       "      <th>1</th>\n",
       "      <td>Койфман Лия</td>\n",
       "      <td>42428</td>\n",
       "      <td>1.036816</td>\n",
       "    </tr>\n",
       "    <tr>\n",
       "      <th>2</th>\n",
       "      <td>Гуменюк Мария</td>\n",
       "      <td>55899</td>\n",
       "      <td>0.833004</td>\n",
       "    </tr>\n",
       "    <tr>\n",
       "      <th>3</th>\n",
       "      <td>Бурак Ирина</td>\n",
       "      <td>122</td>\n",
       "      <td>0.715381</td>\n",
       "    </tr>\n",
       "    <tr>\n",
       "      <th>4</th>\n",
       "      <td>Саранцев Алексей</td>\n",
       "      <td>131</td>\n",
       "      <td>0.708169</td>\n",
       "    </tr>\n",
       "    <tr>\n",
       "      <th>5</th>\n",
       "      <td>Мирзоев Анар</td>\n",
       "      <td>25375</td>\n",
       "      <td>0.703997</td>\n",
       "    </tr>\n",
       "    <tr>\n",
       "      <th>6</th>\n",
       "      <td>Немец Илья</td>\n",
       "      <td>33171</td>\n",
       "      <td>0.694647</td>\n",
       "    </tr>\n",
       "    <tr>\n",
       "      <th>7</th>\n",
       "      <td>Соловьёва Людмила</td>\n",
       "      <td>32527</td>\n",
       "      <td>0.679973</td>\n",
       "    </tr>\n",
       "    <tr>\n",
       "      <th>8</th>\n",
       "      <td>Александрова Елена</td>\n",
       "      <td>24135</td>\n",
       "      <td>0.673719</td>\n",
       "    </tr>\n",
       "    <tr>\n",
       "      <th>9</th>\n",
       "      <td>Микава Этери</td>\n",
       "      <td>33654</td>\n",
       "      <td>0.664549</td>\n",
       "    </tr>\n",
       "    <tr>\n",
       "      <th>10</th>\n",
       "      <td>Оболенский Василий</td>\n",
       "      <td>32967</td>\n",
       "      <td>0.655447</td>\n",
       "    </tr>\n",
       "    <tr>\n",
       "      <th>11</th>\n",
       "      <td>Хозин Михаил</td>\n",
       "      <td>32533</td>\n",
       "      <td>0.638801</td>\n",
       "    </tr>\n",
       "    <tr>\n",
       "      <th>12</th>\n",
       "      <td>Симанина Анна</td>\n",
       "      <td>88</td>\n",
       "      <td>0.638057</td>\n",
       "    </tr>\n",
       "    <tr>\n",
       "      <th>13</th>\n",
       "      <td>Прокофьева Ирина</td>\n",
       "      <td>5</td>\n",
       "      <td>0.619431</td>\n",
       "    </tr>\n",
       "    <tr>\n",
       "      <th>14</th>\n",
       "      <td>Выменец Юрий</td>\n",
       "      <td>0</td>\n",
       "      <td>0.605724</td>\n",
       "    </tr>\n",
       "    <tr>\n",
       "      <th>15</th>\n",
       "      <td>Билик Дмитрий</td>\n",
       "      <td>95</td>\n",
       "      <td>0.605136</td>\n",
       "    </tr>\n",
       "    <tr>\n",
       "      <th>16</th>\n",
       "      <td>Каретников Виктор</td>\n",
       "      <td>34981</td>\n",
       "      <td>0.605114</td>\n",
       "    </tr>\n",
       "    <tr>\n",
       "      <th>17</th>\n",
       "      <td>Слободзяный Максим</td>\n",
       "      <td>19187</td>\n",
       "      <td>0.604842</td>\n",
       "    </tr>\n",
       "    <tr>\n",
       "      <th>18</th>\n",
       "      <td>Мальков Иван</td>\n",
       "      <td>31839</td>\n",
       "      <td>0.604525</td>\n",
       "    </tr>\n",
       "    <tr>\n",
       "      <th>19</th>\n",
       "      <td>Цьока Александр</td>\n",
       "      <td>195</td>\n",
       "      <td>0.600942</td>\n",
       "    </tr>\n",
       "  </tbody>\n",
       "</table>\n",
       "</div>"
      ],
      "text/plain": [
       "           player_name  player_new_id    rating\n",
       "0          Ушаков Илья          34927  1.041344\n",
       "1          Койфман Лия          42428  1.036816\n",
       "2        Гуменюк Мария          55899  0.833004\n",
       "3          Бурак Ирина            122  0.715381\n",
       "4     Саранцев Алексей            131  0.708169\n",
       "5         Мирзоев Анар          25375  0.703997\n",
       "6           Немец Илья          33171  0.694647\n",
       "7    Соловьёва Людмила          32527  0.679973\n",
       "8   Александрова Елена          24135  0.673719\n",
       "9         Микава Этери          33654  0.664549\n",
       "10  Оболенский Василий          32967  0.655447\n",
       "11        Хозин Михаил          32533  0.638801\n",
       "12       Симанина Анна             88  0.638057\n",
       "13    Прокофьева Ирина              5  0.619431\n",
       "14        Выменец Юрий              0  0.605724\n",
       "15       Билик Дмитрий             95  0.605136\n",
       "16   Каретников Виктор          34981  0.605114\n",
       "17  Слободзяный Максим          19187  0.604842\n",
       "18        Мальков Иван          31839  0.604525\n",
       "19     Цьока Александр            195  0.600942"
      ]
     },
     "execution_count": 52,
     "metadata": {},
     "output_type": "execute_result"
    }
   ],
   "source": [
    "players_rating_df.head(20)"
   ]
  },
  {
   "cell_type": "markdown",
   "id": "crazy-manufacturer",
   "metadata": {},
   "source": [
    "Рейтинги игроков рассмотренных для бейзлайна. Видно, что модель стала лучше не только на скорах, но и на конкретных примерах"
   ]
  },
  {
   "cell_type": "code",
   "execution_count": 53,
   "id": "velvet-teens",
   "metadata": {
    "ExecuteTime": {
     "end_time": "2021-04-09T15:13:58.157376Z",
     "start_time": "2021-04-09T15:13:58.124288Z"
    }
   },
   "outputs": [
    {
     "data": {
      "text/html": [
       "<div>\n",
       "<style scoped>\n",
       "    .dataframe tbody tr th:only-of-type {\n",
       "        vertical-align: middle;\n",
       "    }\n",
       "\n",
       "    .dataframe tbody tr th {\n",
       "        vertical-align: top;\n",
       "    }\n",
       "\n",
       "    .dataframe thead th {\n",
       "        text-align: right;\n",
       "    }\n",
       "</style>\n",
       "<table border=\"1\" class=\"dataframe\">\n",
       "  <thead>\n",
       "    <tr style=\"text-align: right;\">\n",
       "      <th></th>\n",
       "      <th>player_name</th>\n",
       "      <th>player_new_id</th>\n",
       "      <th>rating</th>\n",
       "    </tr>\n",
       "  </thead>\n",
       "  <tbody>\n",
       "    <tr>\n",
       "      <th>10404</th>\n",
       "      <td>Николенко Сергей</td>\n",
       "      <td>3</td>\n",
       "      <td>0.189268</td>\n",
       "    </tr>\n",
       "  </tbody>\n",
       "</table>\n",
       "</div>"
      ],
      "text/plain": [
       "            player_name  player_new_id    rating\n",
       "10404  Николенко Сергей              3  0.189268"
      ]
     },
     "execution_count": 53,
     "metadata": {},
     "output_type": "execute_result"
    }
   ],
   "source": [
    "players_rating_df[players_rating_df['player_name'] == 'Николенко Сергей']"
   ]
  },
  {
   "cell_type": "code",
   "execution_count": 54,
   "id": "endangered-excess",
   "metadata": {
    "ExecuteTime": {
     "end_time": "2021-04-09T15:13:58.213340Z",
     "start_time": "2021-04-09T15:13:58.171337Z"
    }
   },
   "outputs": [
    {
     "data": {
      "text/html": [
       "<div>\n",
       "<style scoped>\n",
       "    .dataframe tbody tr th:only-of-type {\n",
       "        vertical-align: middle;\n",
       "    }\n",
       "\n",
       "    .dataframe tbody tr th {\n",
       "        vertical-align: top;\n",
       "    }\n",
       "\n",
       "    .dataframe thead th {\n",
       "        text-align: right;\n",
       "    }\n",
       "</style>\n",
       "<table border=\"1\" class=\"dataframe\">\n",
       "  <thead>\n",
       "    <tr style=\"text-align: right;\">\n",
       "      <th></th>\n",
       "      <th>player_name</th>\n",
       "      <th>player_new_id</th>\n",
       "      <th>rating</th>\n",
       "    </tr>\n",
       "  </thead>\n",
       "  <tbody>\n",
       "    <tr>\n",
       "      <th>57</th>\n",
       "      <td>Сорожкин Артём</td>\n",
       "      <td>155</td>\n",
       "      <td>0.536829</td>\n",
       "    </tr>\n",
       "  </tbody>\n",
       "</table>\n",
       "</div>"
      ],
      "text/plain": [
       "       player_name  player_new_id    rating\n",
       "57  Сорожкин Артём            155  0.536829"
      ]
     },
     "execution_count": 54,
     "metadata": {},
     "output_type": "execute_result"
    }
   ],
   "source": [
    "players_rating_df[players_rating_df['player_name'] == 'Сорожкин Артём']"
   ]
  },
  {
   "cell_type": "code",
   "execution_count": 55,
   "id": "fifteen-astronomy",
   "metadata": {
    "ExecuteTime": {
     "end_time": "2021-04-09T15:13:58.249346Z",
     "start_time": "2021-04-09T15:13:58.219324Z"
    }
   },
   "outputs": [
    {
     "data": {
      "text/html": [
       "<div>\n",
       "<style scoped>\n",
       "    .dataframe tbody tr th:only-of-type {\n",
       "        vertical-align: middle;\n",
       "    }\n",
       "\n",
       "    .dataframe tbody tr th {\n",
       "        vertical-align: top;\n",
       "    }\n",
       "\n",
       "    .dataframe thead th {\n",
       "        text-align: right;\n",
       "    }\n",
       "</style>\n",
       "<table border=\"1\" class=\"dataframe\">\n",
       "  <thead>\n",
       "    <tr style=\"text-align: right;\">\n",
       "      <th></th>\n",
       "      <th>player_name</th>\n",
       "      <th>player_new_id</th>\n",
       "      <th>rating</th>\n",
       "    </tr>\n",
       "  </thead>\n",
       "  <tbody>\n",
       "    <tr>\n",
       "      <th>27</th>\n",
       "      <td>Савченков Михаил</td>\n",
       "      <td>1208</td>\n",
       "      <td>0.575251</td>\n",
       "    </tr>\n",
       "  </tbody>\n",
       "</table>\n",
       "</div>"
      ],
      "text/plain": [
       "         player_name  player_new_id    rating\n",
       "27  Савченков Михаил           1208  0.575251"
      ]
     },
     "execution_count": 55,
     "metadata": {},
     "output_type": "execute_result"
    }
   ],
   "source": [
    "players_rating_df[players_rating_df['player_name'] == 'Савченков Михаил']"
   ]
  },
  {
   "cell_type": "code",
   "execution_count": 56,
   "id": "reported-annex",
   "metadata": {
    "ExecuteTime": {
     "end_time": "2021-04-09T15:13:58.279670Z",
     "start_time": "2021-04-09T15:13:58.251342Z"
    }
   },
   "outputs": [
    {
     "data": {
      "text/html": [
       "<div>\n",
       "<style scoped>\n",
       "    .dataframe tbody tr th:only-of-type {\n",
       "        vertical-align: middle;\n",
       "    }\n",
       "\n",
       "    .dataframe tbody tr th {\n",
       "        vertical-align: top;\n",
       "    }\n",
       "\n",
       "    .dataframe thead th {\n",
       "        text-align: right;\n",
       "    }\n",
       "</style>\n",
       "<table border=\"1\" class=\"dataframe\">\n",
       "  <thead>\n",
       "    <tr style=\"text-align: right;\">\n",
       "      <th></th>\n",
       "      <th>player_name</th>\n",
       "      <th>player_new_id</th>\n",
       "      <th>rating</th>\n",
       "    </tr>\n",
       "  </thead>\n",
       "  <tbody>\n",
       "    <tr>\n",
       "      <th>97</th>\n",
       "      <td>Левандовский Михаил</td>\n",
       "      <td>2</td>\n",
       "      <td>0.512897</td>\n",
       "    </tr>\n",
       "  </tbody>\n",
       "</table>\n",
       "</div>"
      ],
      "text/plain": [
       "            player_name  player_new_id    rating\n",
       "97  Левандовский Михаил              2  0.512897"
      ]
     },
     "execution_count": 56,
     "metadata": {},
     "output_type": "execute_result"
    }
   ],
   "source": [
    "players_rating_df[players_rating_df['player_name'] == 'Левандовский Михаил']"
   ]
  },
  {
   "cell_type": "code",
   "execution_count": 57,
   "id": "destroyed-litigation",
   "metadata": {
    "ExecuteTime": {
     "end_time": "2021-04-09T15:13:58.313577Z",
     "start_time": "2021-04-09T15:13:58.281665Z"
    }
   },
   "outputs": [
    {
     "data": {
      "text/html": [
       "<div>\n",
       "<style scoped>\n",
       "    .dataframe tbody tr th:only-of-type {\n",
       "        vertical-align: middle;\n",
       "    }\n",
       "\n",
       "    .dataframe tbody tr th {\n",
       "        vertical-align: top;\n",
       "    }\n",
       "\n",
       "    .dataframe thead th {\n",
       "        text-align: right;\n",
       "    }\n",
       "</style>\n",
       "<table border=\"1\" class=\"dataframe\">\n",
       "  <thead>\n",
       "    <tr style=\"text-align: right;\">\n",
       "      <th></th>\n",
       "      <th>player_name</th>\n",
       "      <th>player_new_id</th>\n",
       "      <th>rating</th>\n",
       "    </tr>\n",
       "  </thead>\n",
       "  <tbody>\n",
       "    <tr>\n",
       "      <th>28</th>\n",
       "      <td>Брутер Александра</td>\n",
       "      <td>5957</td>\n",
       "      <td>0.57378</td>\n",
       "    </tr>\n",
       "  </tbody>\n",
       "</table>\n",
       "</div>"
      ],
      "text/plain": [
       "          player_name  player_new_id   rating\n",
       "28  Брутер Александра           5957  0.57378"
      ]
     },
     "execution_count": 57,
     "metadata": {},
     "output_type": "execute_result"
    }
   ],
   "source": [
    "players_rating_df[players_rating_df['player_name'] == 'Брутер Александра']"
   ]
  },
  {
   "cell_type": "markdown",
   "id": "impaired-potential",
   "metadata": {},
   "source": [
    "## Вывод"
   ]
  },
  {
   "cell_type": "markdown",
   "id": "rational-distributor",
   "metadata": {
    "ExecuteTime": {
     "end_time": "2021-04-09T15:13:58.334670Z",
     "start_time": "2021-04-09T15:13:58.315571Z"
    }
   },
   "source": [
    "Изначально задача казалось нерешаемой. Единственной предположение было посчитать число правильных ответов совместно команды и попробовать как-то взвесить турниры. Но хорошо что в описании было сказано как подступиться и получили какие-то результаты. Думаю моя ЕМ схема составлена не лучшим образом, так как подозрительно слишком быстро она сошлась к чему-то :) <br>"
   ]
  },
  {
   "cell_type": "code",
   "execution_count": null,
   "id": "comfortable-welsh",
   "metadata": {},
   "outputs": [],
   "source": []
  }
 ],
 "metadata": {
  "kernelspec": {
   "display_name": "Python 3",
   "language": "python",
   "name": "python3"
  },
  "language_info": {
   "codemirror_mode": {
    "name": "ipython",
    "version": 3
   },
   "file_extension": ".py",
   "mimetype": "text/x-python",
   "name": "python",
   "nbconvert_exporter": "python",
   "pygments_lexer": "ipython3",
   "version": "3.7.9"
  },
  "toc": {
   "base_numbering": 1,
   "nav_menu": {},
   "number_sections": true,
   "sideBar": true,
   "skip_h1_title": false,
   "title_cell": "Table of Contents",
   "title_sidebar": "Contents",
   "toc_cell": false,
   "toc_position": {
    "height": "calc(100% - 180px)",
    "left": "10px",
    "top": "150px",
    "width": "384px"
   },
   "toc_section_display": true,
   "toc_window_display": true
  },
  "varInspector": {
   "cols": {
    "lenName": 16,
    "lenType": 16,
    "lenVar": 40
   },
   "kernels_config": {
    "python": {
     "delete_cmd_postfix": "",
     "delete_cmd_prefix": "del ",
     "library": "var_list.py",
     "varRefreshCmd": "print(var_dic_list())"
    },
    "r": {
     "delete_cmd_postfix": ") ",
     "delete_cmd_prefix": "rm(",
     "library": "var_list.r",
     "varRefreshCmd": "cat(var_dic_list()) "
    }
   },
   "types_to_exclude": [
    "module",
    "function",
    "builtin_function_or_method",
    "instance",
    "_Feature"
   ],
   "window_display": false
  }
 },
 "nbformat": 4,
 "nbformat_minor": 5
}
