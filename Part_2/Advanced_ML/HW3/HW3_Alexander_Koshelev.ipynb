{
 "cells": [
  {
   "cell_type": "markdown",
   "id": "7eb09f5d",
   "metadata": {},
   "source": [
    "## Imports"
   ]
  },
  {
   "cell_type": "code",
   "execution_count": 1,
   "id": "07b97002",
   "metadata": {
    "ExecuteTime": {
     "end_time": "2021-05-09T13:24:27.167765Z",
     "start_time": "2021-05-09T13:24:26.835801Z"
    }
   },
   "outputs": [],
   "source": [
    "import re\n",
    "from collections import Counter\n",
    "from random import shuffle\n",
    "from nltk.util import ngrams\n",
    "import math\n",
    "import random"
   ]
  },
  {
   "cell_type": "markdown",
   "id": "e398e825",
   "metadata": {},
   "source": [
    "## Load texts"
   ]
  },
  {
   "cell_type": "code",
   "execution_count": 2,
   "id": "bdaff8c9",
   "metadata": {
    "ExecuteTime": {
     "end_time": "2021-05-09T13:24:27.388397Z",
     "start_time": "2021-05-09T13:24:27.325110Z"
    }
   },
   "outputs": [],
   "source": [
    "with open('AnnaKarenina.txt', 'r') as f:\n",
    "    karenina = f.read()\n",
    "    \n",
    "with open('WarAndPeace.txt', 'r') as f:\n",
    "    wap = f.read()\n",
    "    \n",
    "with open('WarAndPeaceEng.txt', 'r', encoding='utf-8-sig') as f:\n",
    "    wap_en = f.read()"
   ]
  },
  {
   "cell_type": "code",
   "execution_count": 3,
   "id": "b5a0fd71",
   "metadata": {
    "ExecuteTime": {
     "end_time": "2021-05-09T13:24:27.597445Z",
     "start_time": "2021-05-09T13:24:27.588109Z"
    }
   },
   "outputs": [
    {
     "data": {
      "text/plain": [
       "(1813200, 717873, 3226614)"
      ]
     },
     "execution_count": 3,
     "metadata": {},
     "output_type": "execute_result"
    }
   ],
   "source": [
    "len(karenina), len(wap), len(wap_en)"
   ]
  },
  {
   "cell_type": "code",
   "execution_count": 4,
   "id": "4d3a1938",
   "metadata": {
    "ExecuteTime": {
     "end_time": "2021-05-09T13:24:27.839403Z",
     "start_time": "2021-05-09T13:24:27.835644Z"
    }
   },
   "outputs": [
    {
     "data": {
      "text/plain": [
       "' может поравняться с этим? А в Европе – кто представит хоть что-нибудь подобное?»[2] Ф.М. Достоевский находил в новом романе Толстого «огромную психол'"
      ]
     },
     "execution_count": 4,
     "metadata": {},
     "output_type": "execute_result"
    }
   ],
   "source": [
    "karenina[1000:1150]"
   ]
  },
  {
   "cell_type": "markdown",
   "id": "1f0254f9",
   "metadata": {},
   "source": [
    "## Чистка текстов\n",
    "Все символы переведем в нижний регистр и в русском тексте оставим только кириллицу, аналогично для английского текста <br>\n",
    "Также удалим знаки препинания и спец символы"
   ]
  },
  {
   "cell_type": "code",
   "execution_count": 5,
   "id": "9c90bc35",
   "metadata": {
    "ExecuteTime": {
     "end_time": "2021-05-09T13:24:28.375421Z",
     "start_time": "2021-05-09T13:24:28.371913Z"
    }
   },
   "outputs": [],
   "source": [
    "def clean_text(text: str, lang_rus: bool) -> str:\n",
    "    text = text.lower()\n",
    "    if lang_rus:\n",
    "        text = re.sub(r'[^а-яё ]', \" \", text)\n",
    "    else:\n",
    "        text = re.sub(r'[^a-z]', \" \", text)\n",
    "    text = re.sub(r'\\s+', \" \", text)\n",
    "    return text"
   ]
  },
  {
   "cell_type": "code",
   "execution_count": 6,
   "id": "a2990803",
   "metadata": {
    "ExecuteTime": {
     "end_time": "2021-05-09T13:24:29.173171Z",
     "start_time": "2021-05-09T13:24:28.652042Z"
    }
   },
   "outputs": [],
   "source": [
    "karenina_prep = clean_text(karenina, True)\n",
    "wap_prep = clean_text(wap, True)\n",
    "wap_en_prep = clean_text(wap_en, False)"
   ]
  },
  {
   "cell_type": "markdown",
   "id": "bfaad7b0",
   "metadata": {},
   "source": [
    "## Пункт 1"
   ]
  },
  {
   "cell_type": "code",
   "execution_count": 7,
   "id": "3bef105d",
   "metadata": {
    "ExecuteTime": {
     "end_time": "2021-05-09T13:24:29.560694Z",
     "start_time": "2021-05-09T13:24:29.237086Z"
    }
   },
   "outputs": [],
   "source": [
    "karenina_cnt = Counter(karenina_prep)\n",
    "wap_cnt = Counter(wap_prep)\n",
    "wap_en_cnt = Counter(wap_en_prep)"
   ]
  },
  {
   "cell_type": "code",
   "execution_count": 8,
   "id": "e50ac098",
   "metadata": {
    "ExecuteTime": {
     "end_time": "2021-05-09T13:24:29.602999Z",
     "start_time": "2021-05-09T13:24:29.599345Z"
    }
   },
   "outputs": [],
   "source": [
    "ru_symbols = list(karenina_cnt.keys())"
   ]
  },
  {
   "cell_type": "code",
   "execution_count": 9,
   "id": "932dbdd5",
   "metadata": {
    "ExecuteTime": {
     "end_time": "2021-05-09T13:24:29.983639Z",
     "start_time": "2021-05-09T13:24:29.980755Z"
    }
   },
   "outputs": [],
   "source": [
    "ru_symbols_shuf = ru_symbols.copy()\n",
    "shuffle(ru_symbols_shuf)"
   ]
  },
  {
   "cell_type": "code",
   "execution_count": 10,
   "id": "11abe0f4",
   "metadata": {
    "ExecuteTime": {
     "end_time": "2021-05-09T13:24:30.445963Z",
     "start_time": "2021-05-09T13:24:30.443341Z"
    }
   },
   "outputs": [],
   "source": [
    "ru_encoder_dict = dict(zip(ru_symbols, ru_symbols_shuf))"
   ]
  },
  {
   "cell_type": "code",
   "execution_count": 11,
   "id": "9d732000",
   "metadata": {
    "ExecuteTime": {
     "end_time": "2021-05-09T13:24:31.608420Z",
     "start_time": "2021-05-09T13:24:31.604188Z"
    }
   },
   "outputs": [
    {
     "data": {
      "text/plain": [
       "{' ': 'л',\n",
       " 'а': 'м',\n",
       " 'н': 'ч',\n",
       " 'к': 'б',\n",
       " 'р': 'и',\n",
       " 'е': 'н',\n",
       " 'и': 'ш',\n",
       " 'о': 'а',\n",
       " 'д': 'й',\n",
       " 'з': 'ь',\n",
       " 'с': 'ъ',\n",
       " 'м': 'х',\n",
       " 'ы': 'э',\n",
       " 'х': 'ж',\n",
       " 'т': 'к',\n",
       " 'в': 'е',\n",
       " 'л': 'г',\n",
       " 'ь': 'ц',\n",
       " 'г': 'ю',\n",
       " 'ч': 'р',\n",
       " 'я': 'в',\n",
       " 'ш': 'у',\n",
       " 'й': 'я',\n",
       " 'ф': 'о',\n",
       " 'п': 'с',\n",
       " 'ж': ' ',\n",
       " 'у': 'ф',\n",
       " 'э': 'ё',\n",
       " 'ц': 'щ',\n",
       " 'ю': 'д',\n",
       " 'б': 'ы',\n",
       " 'щ': 'з',\n",
       " 'ъ': 'т',\n",
       " 'ё': 'п'}"
      ]
     },
     "execution_count": 11,
     "metadata": {},
     "output_type": "execute_result"
    }
   ],
   "source": [
    "ru_encoder_dict"
   ]
  },
  {
   "cell_type": "code",
   "execution_count": 12,
   "id": "d418a318",
   "metadata": {
    "ExecuteTime": {
     "end_time": "2021-05-09T13:24:32.087114Z",
     "start_time": "2021-05-09T13:24:32.084468Z"
    }
   },
   "outputs": [],
   "source": [
    "def encode_text(text, encoder_dict):\n",
    "    new_text = \"\"\n",
    "    for char in text:\n",
    "        new_text += encoder_dict[char]\n",
    "    return new_text"
   ]
  },
  {
   "cell_type": "code",
   "execution_count": 13,
   "id": "51056234",
   "metadata": {
    "ExecuteTime": {
     "end_time": "2021-05-09T13:24:32.679230Z",
     "start_time": "2021-05-09T13:24:32.676218Z"
    }
   },
   "outputs": [],
   "source": [
    "def decode_text(text, decoder_dict):\n",
    "    new_text = \"\"\n",
    "    for char in text:\n",
    "        new_text += decoder_dict[char]\n",
    "    return new_text"
   ]
  },
  {
   "cell_type": "code",
   "execution_count": 14,
   "id": "dfb60edd",
   "metadata": {
    "ExecuteTime": {
     "end_time": "2021-05-09T13:24:32.992440Z",
     "start_time": "2021-05-09T13:24:32.989584Z"
    }
   },
   "outputs": [],
   "source": [
    "text_sample = \"\"\"Решил я давеча моим школьникам дать задачек на регулярные выражения для изучения.\n",
    "        А к задачкам нужна какая-нибудь теория. И стал я искать хорошие тексты на русском.\n",
    "        Пяток сносных нашёл, но всё не то. Что-то смято, что-то упущено. У этих текстов был не только фатальный недостаток.\n",
    "        Мало картинок, мало примеров. И почти нет разумных задач.\n",
    "        Плюс в питоне есть немало регулярных плюшек. Например, re.split может добавлять тот кусок текста, по которому былъ\n",
    "        разрез, в список частей. А в re.sub можно вместо шаблона для замены передать функцию. Это — реальные вещи, которые\n",
    "        прямо очень нужны, но никто про это не пишет.\n",
    "        Так и родился этот достаточно многобуквенный материал с подробностями, тонкостями, картинками и задачами.\"\"\""
   ]
  },
  {
   "cell_type": "code",
   "execution_count": 15,
   "id": "a39f641e",
   "metadata": {
    "ExecuteTime": {
     "end_time": "2021-05-09T13:24:33.208432Z",
     "start_time": "2021-05-09T13:24:33.205654Z"
    }
   },
   "outputs": [],
   "source": [
    "text_sample_cleared = clean_text(text_sample, True)"
   ]
  },
  {
   "cell_type": "code",
   "execution_count": 16,
   "id": "be7641ea",
   "metadata": {
    "ExecuteTime": {
     "end_time": "2021-05-09T13:24:33.478061Z",
     "start_time": "2021-05-09T13:24:33.475686Z"
    }
   },
   "outputs": [],
   "source": [
    "text_sample_encoded = encode_text(text_sample_cleared, ru_encoder_dict)"
   ]
  },
  {
   "cell_type": "code",
   "execution_count": 17,
   "id": "51800606",
   "metadata": {
    "ExecuteTime": {
     "end_time": "2021-05-09T13:24:33.727280Z",
     "start_time": "2021-05-09T13:24:33.722889Z"
    }
   },
   "outputs": [
    {
     "data": {
      "text/plain": [
       "'инушглвлйменрмлхашхлубагцчшбмхлймкцльмймрнблчмлинюфгвичэнлеэим нчшвлйгвлшьфрнчшвлмлбльмймрбмхлчф чмлбмбмвлчшыфйцлкнаишвлшлъкмглвлшъбмкцлжаиаушнлкнбъкэлчмлифъъбахлсвкаблъчаъчэжлчмупглчалеъплчнлкалркалкалъхвкалркалкалфсфзнчалфлёкшжлкнбъкаелыэглчнлкагцбаломкмгцчэялчнйаъкмкаблхмгалбмикшчаблхмгалсишхниаелшлсаркшлчнклимьфхчэжльмймрлсгдълелсшкачнлнъкцлчнхмгалинюфгвичэжлсгдунблчмсишхнилха нклйаымегвкцлкаклбфъаблкнбъкмлсалбакаиахфлыэгтлимьиньлелъсшъаблрмъкнялмлелха чалехнъкалумыгачмлйгвльмхнчэлснинймкцлофчбщшдлёкалинмгцчэнлензшлбакаиэнлсивхаларнчцлчф чэлчалчшбкалсиалёкалчнлсшунклкмблшлиайшгъвлёкаклйаъкмкарчалхчаюаыфбенччэялхмкнишмглълсайиаычаъквхшлкачбаъквхшлбмикшчбмхшлшльмймрмхшл'"
      ]
     },
     "execution_count": 17,
     "metadata": {},
     "output_type": "execute_result"
    }
   ],
   "source": [
    "text_sample_encoded"
   ]
  },
  {
   "cell_type": "code",
   "execution_count": 18,
   "id": "05ebeec6",
   "metadata": {
    "ExecuteTime": {
     "end_time": "2021-05-09T13:24:34.008894Z",
     "start_time": "2021-05-09T13:24:34.006242Z"
    }
   },
   "outputs": [],
   "source": [
    "sample_cnt = Counter(text_sample_cleared)"
   ]
  },
  {
   "cell_type": "code",
   "execution_count": 19,
   "id": "ddfa1d0b",
   "metadata": {
    "ExecuteTime": {
     "end_time": "2021-05-09T13:24:34.262835Z",
     "start_time": "2021-05-09T13:24:34.259794Z"
    }
   },
   "outputs": [],
   "source": [
    "decoder_dict = dict(zip(list(sample_cnt.keys()), ru_symbols))"
   ]
  },
  {
   "cell_type": "code",
   "execution_count": 20,
   "id": "ddf9690d",
   "metadata": {
    "ExecuteTime": {
     "end_time": "2021-05-09T13:24:34.503927Z",
     "start_time": "2021-05-09T13:24:34.499975Z"
    }
   },
   "outputs": [],
   "source": [
    "text_decoded = decode_text(text_sample_encoded, decoder_dict)"
   ]
  },
  {
   "cell_type": "code",
   "execution_count": 21,
   "id": "a06e305d",
   "metadata": {
    "ExecuteTime": {
     "end_time": "2021-05-09T13:24:34.782066Z",
     "start_time": "2021-05-09T13:24:34.778576Z"
    }
   },
   "outputs": [
    {
     "data": {
      "text/plain": [
       "'квчнгрзрбмав мрпднпрчйдгёснймпрбмхёртмбм вйрсмрквщюгзксцврацкмевснзрбгзрнтю вснзрмрйртмбм ймпрсюесмрймймзрсняюбёрхвдкнзрнръхмгрзрнъймхёршдкдчнврхвйъхцрсмркюъъйдпрфзхдйръсдъсцшрсмчжгрсдраъжрсврхдр хдрхдръпзхдр хдрхдрюфюьвсдрюрухншрхвйъхдаряцгрсврхдгёйдрымхмгёсцирсвбдъхмхдйрпмгдрймкхнсдйрпмгдрфкнпвкдарнрфд хнрсвхркмтюпсцшртмбм рфгоърарфнхдсврвъхёрсвпмгдрквщюгзксцшрфгочвйрсмфкнпвкрпдевхрбдямагзхёрхдхрйюъдйрхвйъхмрфдрйдхдкдпюряцглркмтквтраръфнъдйр мъхвирмрарпдесдрапвъхдрчмягдсмрбгзртмпвсцрфвквбмхёрыюсйэнорухдрквмгёсцвравьнрйдхдкцврфкзпдрд всёрсюесцрсдрснйхдрфкдрухдрсврфнчвхрхмйрнркдбнгъзрухдхрбдъхмхд сдрпсдщдяюйавссцирпмхвкнмгрърфдбкдясдъхзпнрхдсйдъхзпнрймкхнсймпнрнртмбм мпнр'"
      ]
     },
     "execution_count": 21,
     "metadata": {},
     "output_type": "execute_result"
    }
   ],
   "source": [
    "text_decoded"
   ]
  },
  {
   "cell_type": "markdown",
   "id": "bdc5c6b7",
   "metadata": {},
   "source": [
    "Как и ожидалось, результаты печальные "
   ]
  },
  {
   "cell_type": "markdown",
   "id": "9959414f",
   "metadata": {},
   "source": [
    "## Пункт 2"
   ]
  },
  {
   "cell_type": "code",
   "execution_count": 22,
   "id": "5115a421",
   "metadata": {
    "ExecuteTime": {
     "end_time": "2021-05-09T13:24:36.175002Z",
     "start_time": "2021-05-09T13:24:36.171824Z"
    }
   },
   "outputs": [],
   "source": [
    "def get_bigrams(text):\n",
    "    bigrams = ngrams(text, 2)\n",
    "    bigrams_counter = Counter(bigrams)\n",
    "    bigrams_dict = {k[0] + k[1]: v for k, v in bigrams_counter.items()}\n",
    "    return {k: v for k, v in sorted(bigrams_dict.items(), key=lambda item: item[1], reverse=True)}"
   ]
  },
  {
   "cell_type": "code",
   "execution_count": 23,
   "id": "ca12f9eb",
   "metadata": {
    "ExecuteTime": {
     "end_time": "2021-05-09T13:24:36.773957Z",
     "start_time": "2021-05-09T13:24:36.443570Z"
    }
   },
   "outputs": [],
   "source": [
    "karenina_bigrams = get_bigrams(karenina_prep)"
   ]
  },
  {
   "cell_type": "code",
   "execution_count": 24,
   "id": "dc500583",
   "metadata": {
    "ExecuteTime": {
     "end_time": "2021-05-09T13:24:36.818148Z",
     "start_time": "2021-05-09T13:24:36.814228Z"
    }
   },
   "outputs": [],
   "source": [
    "sample_text_bigrams = get_bigrams(text_sample_encoded)"
   ]
  },
  {
   "cell_type": "code",
   "execution_count": 25,
   "id": "ea65ea4e",
   "metadata": {
    "ExecuteTime": {
     "end_time": "2021-05-09T13:24:36.920547Z",
     "start_time": "2021-05-09T13:24:36.915983Z"
    }
   },
   "outputs": [
    {
     "data": {
      "text/plain": [
       "(797, 227)"
      ]
     },
     "execution_count": 25,
     "metadata": {},
     "output_type": "execute_result"
    }
   ],
   "source": [
    "len(karenina_bigrams), len(sample_text_bigrams)"
   ]
  },
  {
   "cell_type": "code",
   "execution_count": 26,
   "id": "94df1965",
   "metadata": {
    "ExecuteTime": {
     "end_time": "2021-05-09T13:24:37.143995Z",
     "start_time": "2021-05-09T13:24:37.140901Z"
    }
   },
   "outputs": [],
   "source": [
    "def get_bigram_decoder(corpus_bigrams, text_bigrams):\n",
    "    return dict(zip(text_bigrams.keys(), list(corpus_bigrams.keys())[:len(text_bigrams)]))"
   ]
  },
  {
   "cell_type": "code",
   "execution_count": 27,
   "id": "5a3bf14d",
   "metadata": {
    "ExecuteTime": {
     "end_time": "2021-05-09T13:24:37.414127Z",
     "start_time": "2021-05-09T13:24:37.411431Z"
    }
   },
   "outputs": [],
   "source": [
    "bigram_decoder_dict = dict(zip(sample_text_bigrams.keys(), list(karenina_bigrams.keys())[:len(sample_text_bigrams)]))"
   ]
  },
  {
   "cell_type": "code",
   "execution_count": 28,
   "id": "86aea695",
   "metadata": {
    "ExecuteTime": {
     "end_time": "2021-05-09T13:24:37.663968Z",
     "start_time": "2021-05-09T13:24:37.659913Z"
    }
   },
   "outputs": [],
   "source": [
    "def apply_cipher_on_text(encoded_text, bigram_decoder_dict):\n",
    "    decoded_text = \"\"\n",
    "    i = 0\n",
    "    while i <= len(encoded_text) - 2:\n",
    "        decoded_text += bigram_decoder_dict[encoded_text[i: i+2]]\n",
    "        i += 2\n",
    "    return decoded_text"
   ]
  },
  {
   "cell_type": "code",
   "execution_count": 29,
   "id": "0cb417ca",
   "metadata": {
    "ExecuteTime": {
     "end_time": "2021-05-09T13:24:37.914714Z",
     "start_time": "2021-05-09T13:24:37.910296Z"
    }
   },
   "outputs": [
    {
     "data": {
      "text/plain": [
       "'коитм тоь огвинехон адасет грониноалу ь т  пла квсю че остееримовотоойтодибе дсесяго бвав нан мечт инанатовонысв ндузато в сон ловкиноалсал итстенвеляа  иужнякан спе  пимос олилаикм я  тида сте  зе  но шидао  уо е х држия х релелиенвее ломим по насжао крй ол оазпоак снопрнеоно наоемапрнеоно тедеомтвови былеа ин кедят олиу ь ептрий ти сиемстамраа ихоно кообот аоди иеая платедеомневыинни реготра нк гоэтпр н ч с иатгок орсьмумилс кедкоьнлоезннпр зуменаз ило мчто ымаме льгдскланиот бро ды улкоь ра жувбртнрее  кврол остогутгок орили оз млют уса  э оа о вожно тео  ео пои буин нс ов крудод рее елак снобыя нея снныеш д оазерензаонтьи рул шаосшеан немка сти внаоеманаанов бвав ро в'"
      ]
     },
     "execution_count": 29,
     "metadata": {},
     "output_type": "execute_result"
    }
   ],
   "source": [
    "apply_cipher_on_text(text_sample_encoded, bigram_decoder_dict)"
   ]
  },
  {
   "cell_type": "markdown",
   "id": "180b25e1",
   "metadata": {},
   "source": [
    "Получилось что-то более похожее на текст по структуре, но по прежнему все плохо"
   ]
  },
  {
   "cell_type": "markdown",
   "id": "83bc72aa",
   "metadata": {
    "ExecuteTime": {
     "end_time": "2021-05-09T08:55:48.250324Z",
     "start_time": "2021-05-09T08:55:48.247906Z"
    }
   },
   "source": [
    "## Пункт 3"
   ]
  },
  {
   "cell_type": "code",
   "execution_count": 30,
   "id": "6edd6843",
   "metadata": {
    "ExecuteTime": {
     "end_time": "2021-05-09T13:24:38.678084Z",
     "start_time": "2021-05-09T13:24:38.675310Z"
    }
   },
   "outputs": [],
   "source": [
    "ALPHABET = list(map(chr, range(ord('а'), ord('я') + 1)))\n",
    "ALPHABET.insert(7, 'ё')\n",
    "ALPHABET.extend(' ')"
   ]
  },
  {
   "cell_type": "code",
   "execution_count": 31,
   "id": "0339f5e3",
   "metadata": {
    "ExecuteTime": {
     "end_time": "2021-05-09T13:24:38.950656Z",
     "start_time": "2021-05-09T13:24:38.947406Z"
    }
   },
   "outputs": [],
   "source": [
    "def create_cipher_dict(cipher):\n",
    "    cipher_dict = {}\n",
    "    alphabet_list = ALPHABET\n",
    "    for i in range(len(cipher)):\n",
    "        cipher_dict[alphabet_list[i]] = cipher[i]\n",
    "    return cipher_dict"
   ]
  },
  {
   "cell_type": "code",
   "execution_count": 32,
   "id": "d1829f04",
   "metadata": {
    "ExecuteTime": {
     "end_time": "2021-05-09T13:24:39.232746Z",
     "start_time": "2021-05-09T13:24:39.229342Z"
    }
   },
   "outputs": [],
   "source": [
    "def apply_cipher_on_text(text,cipher):\n",
    "    cipher_dict = create_cipher_dict(cipher) \n",
    "    text = list(text)\n",
    "    newtext = \"\"\n",
    "    for elem in text:\n",
    "        if elem in cipher_dict:\n",
    "            newtext+=cipher_dict[elem]\n",
    "        else:\n",
    "            newtext+=\" \"\n",
    "    return newtext"
   ]
  },
  {
   "cell_type": "code",
   "execution_count": 33,
   "id": "e5094157",
   "metadata": {
    "ExecuteTime": {
     "end_time": "2021-05-09T13:24:39.702204Z",
     "start_time": "2021-05-09T13:24:39.699782Z"
    }
   },
   "outputs": [],
   "source": [
    "scoring_params = karenina_bigrams"
   ]
  },
  {
   "cell_type": "code",
   "execution_count": 34,
   "id": "774744e1",
   "metadata": {
    "ExecuteTime": {
     "end_time": "2021-05-09T13:24:39.992766Z",
     "start_time": "2021-05-09T13:24:39.988000Z"
    }
   },
   "outputs": [],
   "source": [
    "def score_params_on_cipher(text):\n",
    "    scoring_params = {}\n",
    "    alphabet_list = ALPHABET\n",
    "    data = list(text.strip())\n",
    "    for i in range(len(data)-1):\n",
    "        alpha_i =data[i]\n",
    "        alpha_j = data[i+1]\n",
    "        if alpha_i not in alphabet_list and alpha_i != \" \":\n",
    "            alpha_i = \" \"\n",
    "        if alpha_j not in alphabet_list and alpha_j != \" \":\n",
    "            alpha_j = \" \"\n",
    "        key = alpha_i+alpha_j\n",
    "        if key in scoring_params:\n",
    "            scoring_params[key]+=1\n",
    "        else:\n",
    "            scoring_params[key]=1\n",
    "    return scoring_params"
   ]
  },
  {
   "cell_type": "code",
   "execution_count": 35,
   "id": "e2b3fe8d",
   "metadata": {
    "ExecuteTime": {
     "end_time": "2021-05-09T13:24:40.671525Z",
     "start_time": "2021-05-09T13:24:40.668172Z"
    }
   },
   "outputs": [],
   "source": [
    "def get_cipher_score(text, cipher ,scoring_params):\n",
    "    cipher_dict = create_cipher_dict(cipher)\n",
    "    decrypted_text = apply_cipher_on_text(text, cipher)\n",
    "    scored_f = score_params_on_cipher(decrypted_text)\n",
    "    cipher_score = 0\n",
    "    for k, v in scored_f.items():\n",
    "        if k in scoring_params:\n",
    "            cipher_score += v*math.log(scoring_params[k])\n",
    "    return cipher_score"
   ]
  },
  {
   "cell_type": "code",
   "execution_count": 36,
   "id": "4506b3ff",
   "metadata": {
    "ExecuteTime": {
     "end_time": "2021-05-09T13:24:41.095987Z",
     "start_time": "2021-05-09T13:24:41.092989Z"
    }
   },
   "outputs": [],
   "source": [
    "score_current_cipher = get_cipher_score(text_sample_encoded, ALPHABET, scoring_params)"
   ]
  },
  {
   "cell_type": "code",
   "execution_count": 37,
   "id": "5ff23911",
   "metadata": {
    "ExecuteTime": {
     "end_time": "2021-05-09T13:24:42.775782Z",
     "start_time": "2021-05-09T13:24:42.771963Z"
    }
   },
   "outputs": [
    {
     "data": {
      "text/plain": [
       "3195.9757025111116"
      ]
     },
     "execution_count": 37,
     "metadata": {},
     "output_type": "execute_result"
    }
   ],
   "source": [
    "score_current_cipher"
   ]
  },
  {
   "cell_type": "code",
   "execution_count": 38,
   "id": "e00e7c4c",
   "metadata": {
    "ExecuteTime": {
     "end_time": "2021-05-09T13:24:43.087084Z",
     "start_time": "2021-05-09T13:24:43.083258Z"
    }
   },
   "outputs": [],
   "source": [
    "def generate_cipher(cipher):\n",
    "    pos1 = random.randint(0, len(list(cipher))-1)\n",
    "    pos2 = random.randint(0, len(list(cipher))-1)\n",
    "    if pos1 == pos2:\n",
    "        return generate_cipher(cipher)\n",
    "    else:\n",
    "        cipher = list(cipher)\n",
    "        pos1_alpha = cipher[pos1]\n",
    "        pos2_alpha = cipher[pos2]\n",
    "        cipher[pos1] = pos2_alpha\n",
    "        cipher[pos2] = pos1_alpha\n",
    "        return \"\".join(cipher)"
   ]
  },
  {
   "cell_type": "code",
   "execution_count": 39,
   "id": "48d8ceac",
   "metadata": {
    "ExecuteTime": {
     "end_time": "2021-05-09T13:24:43.453960Z",
     "start_time": "2021-05-09T13:24:43.451052Z"
    }
   },
   "outputs": [],
   "source": [
    "def random_coin(p):\n",
    "    unif = random.uniform(0,1)\n",
    "    if unif>=p:\n",
    "        return False\n",
    "    else:\n",
    "        return True"
   ]
  },
  {
   "cell_type": "code",
   "execution_count": 40,
   "id": "dec01728",
   "metadata": {
    "ExecuteTime": {
     "end_time": "2021-05-09T13:24:44.120085Z",
     "start_time": "2021-05-09T13:24:44.115546Z"
    }
   },
   "outputs": [],
   "source": [
    "def MCMC_decrypt(n_iter,cipher_text,scoring_params):\n",
    "    current_cipher = ALPHABET # Generate a random cipher to start\n",
    "    state_keeper = set()\n",
    "    best_state = ''\n",
    "    score = 0\n",
    "    for i in range(n_iter):\n",
    "        state_keeper.add(\"\".join(current_cipher))\n",
    "        proposed_cipher = generate_cipher(current_cipher)\n",
    "        score_current_cipher = get_cipher_score(cipher_text,current_cipher,scoring_params)\n",
    "        score_proposed_cipher = get_cipher_score(cipher_text,proposed_cipher,scoring_params)\n",
    "        acceptance_probability = min(1,math.exp(score_proposed_cipher-score_current_cipher))\n",
    "        if score_current_cipher>score:\n",
    "            best_state = current_cipher\n",
    "        if random_coin(acceptance_probability):\n",
    "            current_cipher = proposed_cipher\n",
    "        if i%500==0:\n",
    "            print(\"iter\",i,\":\",apply_cipher_on_text(cipher_text,current_cipher)[0:200])\n",
    "    return state_keeper,best_state"
   ]
  },
  {
   "cell_type": "code",
   "execution_count": 41,
   "id": "57b42992",
   "metadata": {
    "ExecuteTime": {
     "end_time": "2021-05-09T11:47:24.073577Z",
     "start_time": "2021-05-09T11:47:02.443293Z"
    }
   },
   "outputs": [
    {
     "name": "stdout",
     "output_type": "stream",
     "text": [
      "iter 0 : уйдрчащатюяйэюаж ржадб чъхрбюжатюсъапютюэйбахюауйфвчщухшйаяшуюьйхрщатчщарпвэйхрщаюабапютюэбюжахвьхюабюбющахргвтъасй урщаралсючащарлбюсъам у дрйасйблсшахюаувллб жакщс балх лхшмахюдцчах аялцахйас аэс ас\n",
      "iter 500 : гишуб е даяиза лоул швобмтувал дакм падазив та гихыбегтьи яьгачитуе дбе упызитуе а в падазвал тычта вавае турыдм киогуе у скаб е усвакм фогошуи кивскь та гыссвол неков стостьф ташёб то ясё ти ко зко к\n",
      "iter 1000 : лишем у заяида гоег шкомчтекаг занч пазадик та лихымултьи яьларитеу зму епыдитеу а к пазадкаг тырта какау тебызч ниолеу е снам у есканч цолошеи никснь та лысског вунок стостьц ташём то ясё ти но дно н\n",
      "iter 1500 : тичем у дожиго ваев чкамянеков доля подогик но тизымутньи жьтошинеу дму епыгинеу о к подогков нышно кокоу небыдя лиатеу е слом у есколя цатачеи ликсль но тысскав рулак снасньц ночём на жсё ни ла гла л\n",
      "iter 2000 : тичем у рожиго ваев чкамянеков роля порогик но тицымутньи жьтошинеу рму епыгинеу о к порогков нышно кокоу небыря лиатеу е слом у есколя затачеи ликсль но тысскав дулак снасньз ночём на жсё ни ла гла л\n",
      "iter 2500 : тичем у рожиго ваев чкамянеков роля порогик но тицымутньи жьтошинеу рму епыгинеу о к порогков нышно кокоу небыря лиатеу е слом у есколя затачеи ликсль но тысскав дулак снасньз ночём на жсё ни ла гла л\n",
      "iter 3000 : речим я тозего ваив чкамьников толь потогек но режымярнуе зурошения тмя ипыгения о к потогков нышно кокоя нибыть леария и слом я исколь харачие лекслу но рысскав дялак снаснух ночём на зсё не ла гла л\n",
      "iter 3500 : речит я мозего ваив чкатьников моль помогек но рецутярные зырожения мтя ипугения о к помогков нужно кокоя нибумь леария и слот я исколь харачие лекслы но русскав дялак снасных ночът на зсъ не ла гла л\n",
      "iter 4000 : регил я вазеча моим гкольникам вать павачек на решулярные зыражения вля ипучения а к павачкам нужна какая нибувь теория и стал я искать хорогие тексты на русском дяток сносных нагъл но зсъ не то что т\n",
      "iter 4500 : решил я завеча моим школьникам зать пазачек на регулярные выражения зля ипучения а к пазачкам нужна какая нибузь теория и стал я искать хорошие тексты на русском дяток сносных нашфл но всф не то что т\n",
      "iter 5000 : решил я давеча моим школьникам дать задачек на регулярные выражения для изучения а к задачкам нужна какая нибудь теория и стал я искать хорошие тексты на русском пяток сносных нашъл но всъ не то что т\n",
      "iter 5500 : решил я давеча моим школьникам дать задачек на регулярные выражения для изучения а к задачкам нужна какая нибудь теория и стал я искать хорошие тексты на русском пяток сносных нашъл но всъ не то что т\n",
      "iter 6000 : решил я давеча моим школьникам дать задачек на регулярные выражения для изучения а к задачкам нужна какая нибудь теория и стал я искать хорошие тексты на русском пяток сносных нашъл но всъ не то что т\n",
      "iter 6500 : решил я давеча моим школьникам дать задачек на регулярные выражения для изучения а к задачкам нужна какая нибудь теория и стал я искать хорошие тексты на русском пяток сносных нашфл но всф не то что т\n",
      "iter 7000 : решил я давеча моим школьникам дать задачек на регулярные выражения для изучения а к задачкам нужна какая нибудь теория и стал я искать хорошие тексты на русском пяток сносных нашъл но всъ не то что т\n",
      "iter 7500 : решил я давеча моим школьникам дать задачек на регулярные выражения для изучения а к задачкам нужна какая нибудь теория и стал я искать хорошие тексты на русском пяток сносных нашъл но всъ не то что т\n",
      "iter 8000 : решил я давеча моим школьникам дать задачек на регулярные выражения для изучения а к задачкам нужна какая нибудь теория и стал я искать хорошие тексты на русском пяток сносных нашъл но всъ не то что т\n",
      "iter 8500 : решил я давеча моим школьникам дать задачек на регулярные выражения для изучения а к задачкам нужна какая нибудь теория и стал я искать хорошие тексты на русском пяток сносных нашъл но всъ не то что т\n",
      "iter 9000 : решил я давеча моим школьникам дать задачек на регулярные выражения для изучения а к задачкам нужна какая нибудь теория и стал я искать хорошие тексты на русском пяток сносных нашфл но всф не то что т\n",
      "iter 9500 : решил я давеча моим школьникам дать задачек на регулярные выражения для изучения а к задачкам нужна какая нибудь теория и стал я искать хорошие тексты на русском пяток сносных нашфл но всф не то что т\n"
     ]
    }
   ],
   "source": [
    "states, best_state = MCMC_decrypt(10000, text_sample_encoded, scoring_params)"
   ]
  },
  {
   "cell_type": "code",
   "execution_count": 43,
   "id": "331ef45d",
   "metadata": {
    "ExecuteTime": {
     "end_time": "2021-05-09T11:47:41.517911Z",
     "start_time": "2021-05-09T11:47:41.513346Z"
    }
   },
   "outputs": [
    {
     "data": {
      "text/plain": [
       "'решил я давеча моим школьникам дать задачек на регулярные выражения для изучения а к задачкам нужна какая нибудь теория и стал я искать хорошие тексты на русском пяток сносных нашёл но всё не то что т'"
      ]
     },
     "execution_count": 43,
     "metadata": {},
     "output_type": "execute_result"
    }
   ],
   "source": [
    "text_sample_cleared[:200]"
   ]
  },
  {
   "cell_type": "markdown",
   "id": "f47aad79",
   "metadata": {},
   "source": [
    "Результаты крутые, ну вы и сами всё видите :) <br>\n",
    "За основу взял решение отсюда, не знаю насколько это законно, но как есть<br>\n",
    "https://towardsdatascience.com/applications-of-mcmc-for-cryptography-and-optimization-1f99222b7132"
   ]
  },
  {
   "cell_type": "markdown",
   "id": "2fd12c6d",
   "metadata": {
    "ExecuteTime": {
     "end_time": "2021-05-09T11:55:38.675491Z",
     "start_time": "2021-05-09T11:55:38.672383Z"
    }
   },
   "source": [
    "## Пункт 4"
   ]
  },
  {
   "cell_type": "code",
   "execution_count": 41,
   "id": "b057b438",
   "metadata": {
    "ExecuteTime": {
     "end_time": "2021-05-09T13:24:46.126817Z",
     "start_time": "2021-05-09T13:24:46.123906Z"
    }
   },
   "outputs": [],
   "source": [
    "def create_cipher_dict(cipher):\n",
    "    cipher_dict = {}\n",
    "    alphabet_list = ALPHABET\n",
    "    for i in range(len(cipher)):\n",
    "        cipher_dict[cipher[i]] = alphabet_list[i]\n",
    "    return cipher_dict"
   ]
  },
  {
   "cell_type": "code",
   "execution_count": 42,
   "id": "1124eb37",
   "metadata": {
    "ExecuteTime": {
     "end_time": "2021-05-09T13:24:46.424610Z",
     "start_time": "2021-05-09T13:24:46.419787Z"
    }
   },
   "outputs": [],
   "source": [
    "def score_params_on_cipher(text):\n",
    "    scoring_params = {}\n",
    "    alphabet_list = ALPHABET\n",
    "    data = list(text.strip())\n",
    "    for i in range(len(data)-1):\n",
    "        alpha_i =data[i]\n",
    "        alpha_j = data[i+1]\n",
    "        if alpha_i not in alphabet_list and alpha_i != \" \":\n",
    "            alpha_i = \" \"\n",
    "        if alpha_j not in alphabet_list and alpha_j != \" \":\n",
    "            alpha_j = \" \"\n",
    "        key = alpha_i+alpha_j\n",
    "        if key in scoring_params:\n",
    "            scoring_params[key]+=1\n",
    "        else:\n",
    "            scoring_params[key]=1\n",
    "    return scoring_params"
   ]
  },
  {
   "cell_type": "code",
   "execution_count": 43,
   "id": "956affdd",
   "metadata": {
    "ExecuteTime": {
     "end_time": "2021-05-09T13:24:46.742737Z",
     "start_time": "2021-05-09T13:24:46.739450Z"
    }
   },
   "outputs": [],
   "source": [
    "def get_cipher_score(text, cipher, scoring_params):\n",
    "    cipher_dict = create_cipher_dict(cipher)\n",
    "    decrypted_text = apply_cipher_on_text(text, cipher)\n",
    "    scored_f = score_params_on_cipher(decrypted_text)\n",
    "    cipher_score = 0\n",
    "    for k, v in scored_f.items():\n",
    "        if k in scoring_params:\n",
    "            cipher_score += v*math.log(scoring_params[k])\n",
    "    return cipher_score"
   ]
  },
  {
   "cell_type": "code",
   "execution_count": 44,
   "id": "ca769144",
   "metadata": {
    "ExecuteTime": {
     "end_time": "2021-05-09T13:24:47.168352Z",
     "start_time": "2021-05-09T13:24:47.165120Z"
    }
   },
   "outputs": [],
   "source": [
    "def apply_cipher_on_text(text,cipher):\n",
    "    cipher_dict = create_cipher_dict(cipher)\n",
    "    text = list(text)\n",
    "    newtext = \"\"\n",
    "    for elem in text:\n",
    "        if elem in cipher_dict:\n",
    "            newtext+=cipher_dict[elem]\n",
    "        else:\n",
    "            newtext+=\" \"\n",
    "    return newtext"
   ]
  },
  {
   "cell_type": "code",
   "execution_count": 45,
   "id": "b2e3d81a",
   "metadata": {
    "ExecuteTime": {
     "end_time": "2021-05-09T13:24:47.503020Z",
     "start_time": "2021-05-09T13:24:47.500656Z"
    }
   },
   "outputs": [],
   "source": [
    "code_for_decode = \"\"\"←⇠⇒↟↹↷⇊↹↷↟↤↟↨←↹↝⇛⇯↳⇴⇒⇈↝⇊↾↹↟⇒↟↹⇷⇛⇞↨↟↹↝⇛⇯↳⇴⇒⇈↝⇊↾↹↨←⇌⇠↨↹⇙↹⇸↨⇛↙⇛↹⇠⇛⇛↲⇆←↝↟↞↹⇌⇛↨⇛⇯⇊↾↹⇒←↙⇌⇛↹⇷⇯⇛⇞↟↨⇴↨⇈↹⇠⇌⇛⇯←←↹↷⇠←↙⇛↹↷⇊↹↷⇠←↹⇠↤←⇒⇴⇒↟↹⇷⇯⇴↷↟⇒⇈↝⇛↹↟↹⇷⇛⇒⇙⇞↟↨←↹↳⇴⇌⇠↟↳⇴⇒⇈↝⇊↾↹↲⇴⇒⇒↹⇰⇴↹⇷⇛⇠⇒←↤↝←←↹⇞←↨↷←⇯↨⇛←↹⇰⇴↤⇴↝↟←↹⇌⇙⇯⇠⇴↹↘⇛↨↞↹⇌⇛↝←⇞↝⇛↹↞↹↝↟⇞←↙⇛↹↝←↹⇛↲←⇆⇴⇏\"\"\""
   ]
  },
  {
   "cell_type": "code",
   "execution_count": 46,
   "id": "950a83ac",
   "metadata": {
    "ExecuteTime": {
     "end_time": "2021-05-09T13:24:47.967666Z",
     "start_time": "2021-05-09T13:24:47.963771Z"
    }
   },
   "outputs": [],
   "source": [
    "STRELKI_ALPHABET = \"\".join(set(code_for_decode))"
   ]
  },
  {
   "cell_type": "code",
   "execution_count": 47,
   "id": "1a0951d4",
   "metadata": {
    "ExecuteTime": {
     "end_time": "2021-05-09T13:24:48.368802Z",
     "start_time": "2021-05-09T13:24:48.364167Z"
    }
   },
   "outputs": [
    {
     "data": {
      "text/plain": [
       "28"
      ]
     },
     "execution_count": 47,
     "metadata": {},
     "output_type": "execute_result"
    }
   ],
   "source": [
    "len(STRELKI_ALPHABET) "
   ]
  },
  {
   "cell_type": "code",
   "execution_count": 48,
   "id": "991b3186",
   "metadata": {
    "ExecuteTime": {
     "end_time": "2021-05-09T13:24:48.726295Z",
     "start_time": "2021-05-09T13:24:48.723274Z"
    }
   },
   "outputs": [],
   "source": [
    "STRELKI_ALPHABET = STRELKI_ALPHABET + \"123456\""
   ]
  },
  {
   "cell_type": "code",
   "execution_count": 49,
   "id": "784657ce",
   "metadata": {
    "ExecuteTime": {
     "end_time": "2021-05-09T13:24:49.158407Z",
     "start_time": "2021-05-09T13:24:49.154482Z"
    }
   },
   "outputs": [
    {
     "data": {
      "text/plain": [
       "(34, 34)"
      ]
     },
     "execution_count": 49,
     "metadata": {},
     "output_type": "execute_result"
    }
   ],
   "source": [
    "len(STRELKI_ALPHABET), len(ALPHABET)"
   ]
  },
  {
   "cell_type": "code",
   "execution_count": 50,
   "id": "b5acf323",
   "metadata": {
    "ExecuteTime": {
     "end_time": "2021-05-09T13:24:49.569702Z",
     "start_time": "2021-05-09T13:24:49.564261Z"
    }
   },
   "outputs": [],
   "source": [
    "def MCMC_decrypt(n_iter,cipher_text,scoring_params):\n",
    "    current_cipher = STRELKI_ALPHABET # Generate a random cipher to start\n",
    "    state_keeper = set()\n",
    "    best_state = ''\n",
    "    score = 0\n",
    "    for i in range(n_iter):\n",
    "        state_keeper.add(\"\".join(current_cipher))\n",
    "        proposed_cipher = generate_cipher(current_cipher)\n",
    "        score_current_cipher = get_cipher_score(cipher_text,current_cipher,scoring_params)\n",
    "        score_proposed_cipher = get_cipher_score(cipher_text,proposed_cipher,scoring_params)\n",
    "        acceptance_probability = min(1, math.exp(score_proposed_cipher-score_current_cipher))\n",
    "        if score_current_cipher>score:\n",
    "            best_state = current_cipher\n",
    "        if random_coin(acceptance_probability):\n",
    "            current_cipher = proposed_cipher\n",
    "        if i%500==0:\n",
    "            print(\"iter\",i,\":\",apply_cipher_on_text(cipher_text,current_cipher)[0:200])\n",
    "    return state_keeper,best_state"
   ]
  },
  {
   "cell_type": "code",
   "execution_count": 56,
   "id": "7ab75a37",
   "metadata": {
    "ExecuteTime": {
     "end_time": "2021-05-09T13:25:47.475143Z",
     "start_time": "2021-05-09T13:25:42.116022Z"
    }
   },
   "outputs": [
    {
     "name": "stdout",
     "output_type": "stream",
     "text": [
      "iter 0 : чицъхтйхтъкъбчхазлгоцмайшхъцъхсзпбъхазлгоцмайшхбчёибхдхубзнзхиззфжчаъщхёзбзлйшхцчнёзхслзпъбобмхиёзлччхтичнзхтйхтичхикчцоцъхслотъцмазхъхсзцдпъбчхгоёиъгоцмайшхфоццхрохсзицчкаччхпчбтчлбзчхрокоаъчхёдлиохе\n",
      "iter 500 : ентя св сящяде оиглатровы ятя зибдя оиглатровы демнд у юдиши ниихжеояк мидигвы тешми згибядадр нмигее снеши св сне нщетатя згасятрои я зитубяде ламнялатровы хатт ча зинтещоее бедсегдие чащаояе мугна п\n",
      "iter 1000 : етни чр чищисе догшанядрь ини зовси догшанядрь сектс у эсоло тообжедим косогрь нелко зговисася ткогее чтело чр чте тщенани згачинядо и зонувисе шактишанядрь банн ха зотнещдее весчегсое хащадие кугта п\n",
      "iter 1500 : етни чл чизисе довшанядль ини гожси довшанядль сектс у эсоро тообщедим косовль нерко гвожисася тковее чтеро чл чте тзенани гвачинядо и гонужисе шактишанядль банн па готнездее жесчевсое пазадие кувта х\n",
      "iter 2000 : етни чл чицисе довзанядль ини гожси довзанядль сектс у эсоро тообщедим косовль нерко гвожисася тковее чтеро чл чте тценани гвачинядо и гонужисе зактизанядль банн па готнецдее жесчевсое пацадие кувта х\n",
      "iter 2500 : ерни пл пишисе довзанядль ини кожси довзанядль сегрс у эсото рообщедим госовль нетго квожисася рговее прето пл пре ршенани квапинядо и конужисе загризанядль банн ча корнешдее жеспевсое чашадие гувра х\n",
      "iter 3000 : ерни пл пишисе довзанядль ини гожси довзанядль секрс у эсото рообщедим косовль нетко гвожисася рковее прето пл пре ршенани гвапинядо и гонужисе закризанядль банн ча горнешдее жеспевсое чашадие кувра х\n",
      "iter 3500 : ерни пл пигисе довзанядль ини хожси довзанядль секрс у эсото рообщедим косовль нетко хвожисася рковее прето пл пре ргенани хвапинядо и хонужисе закризанядль банн ча хорнегдее жеспевсое чагадие кувра ш\n",
      "iter 4000 : ерни пл пижите довзаныдль ини согти довзаныдль текрт у этомо рообщедих котовль немко свогитаты рковее премо пл пре рженани свапиныдо и сонугите закризаныдль банн ча сорнеждее гетпевтое чажадие кувра ш\n",
      "iter 4500 : ерни пл пижите совзанясль ини кодти совзанясль тегрт у этомо рообщесих готовль немго кводитатя рговее премо пл пре рженани квапинясо и конудите загризанясль банн ча корнежсее детпевтое чажасие гувра ш\n",
      "iter 5000 : ерни пл пижите совзанясль ини кодти совзанясль тегрт у этомо рообщесих готовль немго кводитатя рговее премо пл пре рженани квапинясо и конудите загризанясль банн ча корнежсее детпевтое чажасие гувра ш\n",
      "iter 5500 : ерни пя пижите совзанысяй ини кодти совзанысяй тегрт у этоло роомшесих готовяй нелго кводитаты рговее прело пя пре рженани квапинысо и конудите загризанысяй манн ча корнежсее детпевтое чажасие гувра б\n",
      "iter 6000 : ерти пы пижисе новзатьный ити колси новзатьный сегрс у эсомо роодшених госовый темго кволисась рговее премо пы пре ржетати квапитьно и котулисе загризатьный датт ча кортежнее леспевсое чажание гувра б\n",
      "iter 6500 : ерли пы пидите новзальный или кости новзальный тегрт у хтомо роожшения готовый лемго квоситать рговее премо пы пре рделали квапильно и колусите загризальный жалл ча корледнее сетпевтое чадание гувра б\n",
      "iter 7000 : ерли пы пидите новзальный или кости новзальный тегрт у штомо роожчения готовый лемго квоситать рговее премо пы пре рделали квапильно и колусите загризальный жалл ба корледнее сетпевтое бадание гувра х\n",
      "iter 7500 : ерли пы пидите новзальный или кости новзальный тегрт у штомо роожчения готовый лемго квоситать рговее премо пы пре рделали квапильно и колусите загризальный жалл ба корледнее сетпевтое бадание гувра х\n",
      "iter 8000 : ерли пы пидите новзальный или кости новзальный тегрт у чтомо роожбения готовый лемго квоситать рговее премо пы пре рделали квапильно и колусите загризальный жалл ша корледнее сетпевтое шадание гувра ц\n",
      "iter 8500 : ерли бы бидите новзальный или кости новзальный тепрт у чтомо роогшения потовый лемпо квоситать рповее бремо бы бре рделали квабильно и колусите запризальный галл жа корледнее сетбевтое жадание пувра х\n",
      "iter 9000 : ерли бы бишите новзальный или кости новзальный тепрт у чтомо роогдения потовый лемпо квоситать рповее бремо бы бре ршелали квабильно и колусите запризальный галл жа корлешнее сетбевтое жашание пувра х\n",
      "iter 9500 : ерли бы биките новзальный или содти новзальный тепрт у чтомо роогшения потовый лемпо сводитать рповее бремо бы бре ркелали свабильно и солудите запризальный галл жа сорлекнее детбевтое жакание пувра х\n"
     ]
    }
   ],
   "source": [
    "states, best_state = MCMC_decrypt(10000, code_for_decode, scoring_params)"
   ]
  },
  {
   "cell_type": "markdown",
   "id": "55488377",
   "metadata": {
    "ExecuteTime": {
     "end_time": "2021-05-09T13:26:53.727386Z",
     "start_time": "2021-05-09T13:26:53.723551Z"
    }
   },
   "source": [
    "Не сошлось :(\n",
    "Возможно структура текста похожа на реальный, но это уже Вам виднее "
   ]
  },
  {
   "cell_type": "markdown",
   "id": "dcd3b6f5",
   "metadata": {},
   "source": [
    "## Пункт 6"
   ]
  },
  {
   "cell_type": "markdown",
   "id": "0bc59378",
   "metadata": {},
   "source": [
    "1. Первое что приходит на ум это расшифровка текстов. Как в фильме игра в имитацию\n",
    "2. Пробовать расшировывать одни последовательности из других (Например и биологии). Идея следующая: если получается расшифровать последовательности в обе стороны, то они имеют общий паттерн образования таких последовательностей"
   ]
  },
  {
   "cell_type": "markdown",
   "id": "4a90c76d",
   "metadata": {},
   "source": [
    "## end"
   ]
  },
  {
   "cell_type": "code",
   "execution_count": null,
   "id": "48345766",
   "metadata": {},
   "outputs": [],
   "source": []
  }
 ],
 "metadata": {
  "kernelspec": {
   "display_name": "Python 3",
   "language": "python",
   "name": "python3"
  },
  "language_info": {
   "codemirror_mode": {
    "name": "ipython",
    "version": 3
   },
   "file_extension": ".py",
   "mimetype": "text/x-python",
   "name": "python",
   "nbconvert_exporter": "python",
   "pygments_lexer": "ipython3",
   "version": "3.7.10"
  },
  "toc": {
   "base_numbering": 1,
   "nav_menu": {},
   "number_sections": true,
   "sideBar": true,
   "skip_h1_title": false,
   "title_cell": "Table of Contents",
   "title_sidebar": "Contents",
   "toc_cell": false,
   "toc_position": {},
   "toc_section_display": true,
   "toc_window_display": true
  },
  "varInspector": {
   "cols": {
    "lenName": 16,
    "lenType": 16,
    "lenVar": 40
   },
   "kernels_config": {
    "python": {
     "delete_cmd_postfix": "",
     "delete_cmd_prefix": "del ",
     "library": "var_list.py",
     "varRefreshCmd": "print(var_dic_list())"
    },
    "r": {
     "delete_cmd_postfix": ") ",
     "delete_cmd_prefix": "rm(",
     "library": "var_list.r",
     "varRefreshCmd": "cat(var_dic_list()) "
    }
   },
   "types_to_exclude": [
    "module",
    "function",
    "builtin_function_or_method",
    "instance",
    "_Feature"
   ],
   "window_display": false
  }
 },
 "nbformat": 4,
 "nbformat_minor": 5
}
